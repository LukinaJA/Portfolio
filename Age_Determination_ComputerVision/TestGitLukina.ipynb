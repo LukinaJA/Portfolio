{
 "cells": [
  {
   "cell_type": "markdown",
   "id": "31b1e7c8",
   "metadata": {
    "toc": true
   },
   "source": [
    "<h1>Table of Contents<span class=\"tocSkip\"></span></h1>\n",
    "<div class=\"toc\"><ul class=\"toc-item\"><li><span><a href=\"#Откроем-и-изучим-данные\" data-toc-modified-id=\"Откроем-и-изучим-данные-1\"><span class=\"toc-item-num\">1&nbsp;&nbsp;</span><strong>Откроем и изучим данные</strong></a></span><ul class=\"toc-item\"><li><span><a href=\"#Проверим-данные-на-выпадающие-значения\" data-toc-modified-id=\"Проверим-данные-на-выпадающие-значения-1.1\"><span class=\"toc-item-num\">1.1&nbsp;&nbsp;</span>Проверим данные на выпадающие значения</a></span></li><li><span><a href=\"#Преобразуем-данные-в-столбце-RiskLevel\" data-toc-modified-id=\"Преобразуем-данные-в-столбце-RiskLevel-1.2\"><span class=\"toc-item-num\">1.2&nbsp;&nbsp;</span>Преобразуем данные в столбце RiskLevel</a></span><ul class=\"toc-item\"><li><span><a href=\"#Изменим-тип-данных-в-столбце-RiskLevel-на-числовой\" data-toc-modified-id=\"Изменим-тип-данных-в-столбце-RiskLevel-на-числовой-1.2.1\"><span class=\"toc-item-num\">1.2.1&nbsp;&nbsp;</span>Изменим тип данных в столбце RiskLevel на числовой</a></span></li></ul></li><li><span><a href=\"#Проверим-данные-на-сбалансированность\" data-toc-modified-id=\"Проверим-данные-на-сбалансированность-1.3\"><span class=\"toc-item-num\">1.3&nbsp;&nbsp;</span>Проверим данные на сбалансированность</a></span></li><li><span><a href=\"#Проверим-данные-на-наличие-пропущенных-значений\" data-toc-modified-id=\"Проверим-данные-на-наличие-пропущенных-значений-1.4\"><span class=\"toc-item-num\">1.4&nbsp;&nbsp;</span>Проверим данные на наличие пропущенных значений</a></span></li><li><span><a href=\"#Проверим-данные-на-дубликаты\" data-toc-modified-id=\"Проверим-данные-на-дубликаты-1.5\"><span class=\"toc-item-num\">1.5&nbsp;&nbsp;</span>Проверим данные на дубликаты</a></span></li><li><span><a href=\"#Изучим-корреляцию-признаков\" data-toc-modified-id=\"Изучим-корреляцию-признаков-1.6\"><span class=\"toc-item-num\">1.6&nbsp;&nbsp;</span>Изучим корреляцию признаков</a></span><ul class=\"toc-item\"><li><span><a href=\"#Посчитаем-корреляцию-Пирсона-между-целевым-признаком-и-признаками\" data-toc-modified-id=\"Посчитаем-корреляцию-Пирсона-между-целевым-признаком-и-признаками-1.6.1\"><span class=\"toc-item-num\">1.6.1&nbsp;&nbsp;</span>Посчитаем корреляцию Пирсона между целевым признаком и признаками</a></span></li><li><span><a href=\"#Построим-матрицу-корреляции\" data-toc-modified-id=\"Построим-матрицу-корреляции-1.6.2\"><span class=\"toc-item-num\">1.6.2&nbsp;&nbsp;</span>Построим матрицу корреляции</a></span></li><li><span><a href=\"#Изучим-Phik-корреляцию\" data-toc-modified-id=\"Изучим-Phik-корреляцию-1.6.3\"><span class=\"toc-item-num\">1.6.3&nbsp;&nbsp;</span>Изучим Phik корреляцию</a></span></li><li><span><a href=\"#Изучим-статистическую-значимость-корреляции-признаков\" data-toc-modified-id=\"Изучим-статистическую-значимость-корреляции-признаков-1.6.4\"><span class=\"toc-item-num\">1.6.4&nbsp;&nbsp;</span>Изучим статистическую значимость корреляции признаков</a></span></li><li><span><a href=\"#Рассмотрим-глобальную-корреляцию-признаков\" data-toc-modified-id=\"Рассмотрим-глобальную-корреляцию-признаков-1.6.5\"><span class=\"toc-item-num\">1.6.5&nbsp;&nbsp;</span>Рассмотрим глобальную корреляцию признаков</a></span></li></ul></li><li><span><a href=\"#Генерация-признаков\" data-toc-modified-id=\"Генерация-признаков-1.7\"><span class=\"toc-item-num\">1.7&nbsp;&nbsp;</span>Генерация признаков</a></span><ul class=\"toc-item\"><li><span><a href=\"#Создадим-новые-признаки-для-столбцов-возраст,-уровень-глюкозы,-систолическое-давление-и-частота-сердечных-сокращений\" data-toc-modified-id=\"Создадим-новые-признаки-для-столбцов-возраст,-уровень-глюкозы,-систолическое-давление-и-частота-сердечных-сокращений-1.7.1\"><span class=\"toc-item-num\">1.7.1&nbsp;&nbsp;</span>Создадим новые признаки для столбцов возраст, уровень глюкозы, систолическое давление и частота сердечных сокращений</a></span></li></ul></li><li><span><a href=\"#Промежуточные-выводы\" data-toc-modified-id=\"Промежуточные-выводы-1.8\"><span class=\"toc-item-num\">1.8&nbsp;&nbsp;</span>Промежуточные выводы</a></span></li></ul></li><li><span><a href=\"#Обучение-моделей\" data-toc-modified-id=\"Обучение-моделей-2\"><span class=\"toc-item-num\">2&nbsp;&nbsp;</span>Обучение моделей</a></span><ul class=\"toc-item\"><li><span><a href=\"#Определим-целевой-признак-и-разделим-данные-на-выборки-для-обучения-моделей:\" data-toc-modified-id=\"Определим-целевой-признак-и-разделим-данные-на-выборки-для-обучения-моделей:-2.1\"><span class=\"toc-item-num\">2.1&nbsp;&nbsp;</span>Определим целевой признак и разделим данные на выборки для обучения моделей:</a></span></li><li><span><a href=\"#Обучение-модели-RandomForestClassifier\" data-toc-modified-id=\"Обучение-модели-RandomForestClassifier-2.2\"><span class=\"toc-item-num\">2.2&nbsp;&nbsp;</span>Обучение модели RandomForestClassifier</a></span><ul class=\"toc-item\"><li><span><a href=\"#Подберем-гиперпараметры,-используя-автоматический-подбор\" data-toc-modified-id=\"Подберем-гиперпараметры,-используя-автоматический-подбор-2.2.1\"><span class=\"toc-item-num\">2.2.1&nbsp;&nbsp;</span>Подберем гиперпараметры, используя автоматический подбор</a></span><ul class=\"toc-item\"><li><span><a href=\"#Разобьем-данные-на-2-выборки---тренировочную-и-тестовую\" data-toc-modified-id=\"Разобьем-данные-на-2-выборки---тренировочную-и-тестовую-2.2.1.1\"><span class=\"toc-item-num\">2.2.1.1&nbsp;&nbsp;</span>Разобьем данные на 2 выборки - тренировочную и тестовую</a></span></li><li><span><a href=\"#Построим-модель-model_random_forest-GS\" data-toc-modified-id=\"Построим-модель-model_random_forest-GS-2.2.1.2\"><span class=\"toc-item-num\">2.2.1.2&nbsp;&nbsp;</span>Построим модель model_random_forest GS</a></span></li></ul></li></ul></li><li><span><a href=\"#Обучим-модель-Дерево-решений\" data-toc-modified-id=\"Обучим-модель-Дерево-решений-2.3\"><span class=\"toc-item-num\">2.3&nbsp;&nbsp;</span>Обучим модель Дерево решений</a></span></li><li><span><a href=\"#Обучим-модель-CatBoostClassifier\" data-toc-modified-id=\"Обучим-модель-CatBoostClassifier-2.4\"><span class=\"toc-item-num\">2.4&nbsp;&nbsp;</span>Обучим модель CatBoostClassifier</a></span></li><li><span><a href=\"#Обучение-нейронной-сети\" data-toc-modified-id=\"Обучение-нейронной-сети-2.5\"><span class=\"toc-item-num\">2.5&nbsp;&nbsp;</span>Обучение нейронной сети</a></span></li><li><span><a href=\"#Проверим-наилучшую-модель-на-тестовой-выборке\" data-toc-modified-id=\"Проверим-наилучшую-модель-на-тестовой-выборке-2.6\"><span class=\"toc-item-num\">2.6&nbsp;&nbsp;</span>Проверим наилучшую модель на тестовой выборке</a></span><ul class=\"toc-item\"><li><span><a href=\"#Выведем-матрицу-ошибок-на-тесте\" data-toc-modified-id=\"Выведем-матрицу-ошибок-на-тесте-2.6.1\"><span class=\"toc-item-num\">2.6.1&nbsp;&nbsp;</span>Выведем матрицу ошибок на тесте</a></span></li></ul></li><li><span><a href=\"#Проверим-модель-на-адекватность\" data-toc-modified-id=\"Проверим-модель-на-адекватность-2.7\"><span class=\"toc-item-num\">2.7&nbsp;&nbsp;</span>Проверим модель на адекватность</a></span></li><li><span><a href=\"#Анализ-важности-факторов-для-наилучшей-модели\" data-toc-modified-id=\"Анализ-важности-факторов-для-наилучшей-модели-2.8\"><span class=\"toc-item-num\">2.8&nbsp;&nbsp;</span>Анализ важности факторов для наилучшей модели</a></span></li><li><span><a href=\"#Промежуточные-выводы\" data-toc-modified-id=\"Промежуточные-выводы-2.9\"><span class=\"toc-item-num\">2.9&nbsp;&nbsp;</span>Промежуточные выводы</a></span></li></ul></li><li><span><a href=\"#Выводы\" data-toc-modified-id=\"Выводы-3\"><span class=\"toc-item-num\">3&nbsp;&nbsp;</span>Выводы</a></span></li></ul></div>"
   ]
  },
  {
   "cell_type": "markdown",
   "id": "f4d5de6d",
   "metadata": {},
   "source": [
    " # Проект Maternal Health Risk"
   ]
  },
  {
   "cell_type": "markdown",
   "id": "fba0c458",
   "metadata": {},
   "source": [
    "**Цель проекта**: создать прогностическую модель рисков беременных."
   ]
  },
  {
   "cell_type": "markdown",
   "id": "dc007938",
   "metadata": {},
   "source": [
    "Шаги проекта:\n",
    "\n",
    "- проведение первичного анализ данных\n",
    "- очистка и предобработка данных\n",
    "- обучение выбранных моделей \n",
    "- проверка наилучшей модели на тестовой выборке\n",
    "- анализ важности факторов для наилучшей модели\n",
    "- проверка модели на адекватность\n",
    "- выводы"
   ]
  },
  {
   "cell_type": "markdown",
   "id": "11584038",
   "metadata": {},
   "source": [
    "## **Откроем и изучим данные**"
   ]
  },
  {
   "cell_type": "code",
   "execution_count": 1,
   "id": "9ff1fa33",
   "metadata": {},
   "outputs": [],
   "source": [
    "#pip install phik"
   ]
  },
  {
   "cell_type": "markdown",
   "id": "50a7fd3e-b989-4ca1-9ce7-0edca9939733",
   "metadata": {},
   "source": [
    "Тестовые изменения"
   ]
  },
  {
   "cell_type": "code",
   "execution_count": 486,
   "id": "d8a56bba",
   "metadata": {},
   "outputs": [],
   "source": [
    "import pandas as pd\n",
    "import matplotlib.pyplot as plt\n",
    "import seaborn as sns\n",
    "import numpy as np \n",
    "import phik\n",
    "import shap\n",
    "from phik import report\n",
    "from phik.report import plot_correlation_matrix\n",
    "from sklearn.model_selection import train_test_split\n",
    "from sklearn.metrics import accuracy_score \n",
    "from sklearn.model_selection import GridSearchCV\n",
    "from sklearn.ensemble import RandomForestClassifier\n",
    "from sklearn.multioutput import MultiOutputClassifier\n",
    "from sklearn.metrics import f1_score\n",
    "from sklearn.metrics import classification_report\n",
    "from sklearn.tree import DecisionTreeClassifier\n",
    "from imblearn.over_sampling import SMOTE\n",
    "from sklearn.preprocessing import StandardScaler\n",
    "from catboost import CatBoostClassifier, Pool\n",
    "from sklearn.metrics import make_scorer, accuracy_score\n",
    "from sklearn.metrics import accuracy_score\n",
    "from sklearn.dummy import DummyClassifier\n",
    "from tensorflow.keras.models import Sequential\n",
    "from tensorflow.keras.optimizers import Adam\n",
    "from tensorflow import keras\n",
    "from tensorflow.keras.utils import to_categorical\n",
    "from tensorflow.keras.optimizers import SGD\n",
    "from sklearn.metrics import confusion_matrix, ConfusionMatrixDisplay"
   ]
  },
  {
   "cell_type": "code",
   "execution_count": 487,
   "id": "211f7993",
   "metadata": {},
   "outputs": [],
   "source": [
    "try:\n",
    "    data = pd.read_csv(r'C:\\Users\\User\\Desktop\\DS\\Doctor24\\Maternal Health Risk Data Set.csv')\n",
    "except:\n",
    "\n",
    "    data = pd.read_csv('/datasets/Maternal Health Risk Data Set.csv')  "
   ]
  },
  {
   "cell_type": "code",
   "execution_count": 488,
   "id": "e0ac2a75",
   "metadata": {},
   "outputs": [
    {
     "data": {
      "text/html": [
       "<div>\n",
       "<style scoped>\n",
       "    .dataframe tbody tr th:only-of-type {\n",
       "        vertical-align: middle;\n",
       "    }\n",
       "\n",
       "    .dataframe tbody tr th {\n",
       "        vertical-align: top;\n",
       "    }\n",
       "\n",
       "    .dataframe thead th {\n",
       "        text-align: right;\n",
       "    }\n",
       "</style>\n",
       "<table border=\"1\" class=\"dataframe\">\n",
       "  <thead>\n",
       "    <tr style=\"text-align: right;\">\n",
       "      <th></th>\n",
       "      <th>Age</th>\n",
       "      <th>SystolicBP</th>\n",
       "      <th>DiastolicBP</th>\n",
       "      <th>BS</th>\n",
       "      <th>BodyTemp</th>\n",
       "      <th>HeartRate</th>\n",
       "      <th>RiskLevel</th>\n",
       "    </tr>\n",
       "  </thead>\n",
       "  <tbody>\n",
       "    <tr>\n",
       "      <th>0</th>\n",
       "      <td>25</td>\n",
       "      <td>130</td>\n",
       "      <td>80</td>\n",
       "      <td>15.0</td>\n",
       "      <td>98.0</td>\n",
       "      <td>86</td>\n",
       "      <td>high risk</td>\n",
       "    </tr>\n",
       "    <tr>\n",
       "      <th>1</th>\n",
       "      <td>35</td>\n",
       "      <td>140</td>\n",
       "      <td>90</td>\n",
       "      <td>13.0</td>\n",
       "      <td>98.0</td>\n",
       "      <td>70</td>\n",
       "      <td>high risk</td>\n",
       "    </tr>\n",
       "    <tr>\n",
       "      <th>2</th>\n",
       "      <td>29</td>\n",
       "      <td>90</td>\n",
       "      <td>70</td>\n",
       "      <td>8.0</td>\n",
       "      <td>100.0</td>\n",
       "      <td>80</td>\n",
       "      <td>high risk</td>\n",
       "    </tr>\n",
       "    <tr>\n",
       "      <th>3</th>\n",
       "      <td>30</td>\n",
       "      <td>140</td>\n",
       "      <td>85</td>\n",
       "      <td>7.0</td>\n",
       "      <td>98.0</td>\n",
       "      <td>70</td>\n",
       "      <td>high risk</td>\n",
       "    </tr>\n",
       "    <tr>\n",
       "      <th>4</th>\n",
       "      <td>35</td>\n",
       "      <td>120</td>\n",
       "      <td>60</td>\n",
       "      <td>6.1</td>\n",
       "      <td>98.0</td>\n",
       "      <td>76</td>\n",
       "      <td>low risk</td>\n",
       "    </tr>\n",
       "  </tbody>\n",
       "</table>\n",
       "</div>"
      ],
      "text/plain": [
       "   Age  SystolicBP  DiastolicBP    BS  BodyTemp  HeartRate  RiskLevel\n",
       "0   25         130           80  15.0      98.0         86  high risk\n",
       "1   35         140           90  13.0      98.0         70  high risk\n",
       "2   29          90           70   8.0     100.0         80  high risk\n",
       "3   30         140           85   7.0      98.0         70  high risk\n",
       "4   35         120           60   6.1      98.0         76   low risk"
      ]
     },
     "execution_count": 488,
     "metadata": {},
     "output_type": "execute_result"
    }
   ],
   "source": [
    "data.head(5)"
   ]
  },
  {
   "cell_type": "code",
   "execution_count": 489,
   "id": "ec14ec17",
   "metadata": {},
   "outputs": [],
   "source": [
    "data.rename(columns={'BS':'BloodGlucose'}, inplace = True )"
   ]
  },
  {
   "cell_type": "code",
   "execution_count": 490,
   "id": "0e71c8d3",
   "metadata": {},
   "outputs": [
    {
     "data": {
      "text/html": [
       "<div>\n",
       "<style scoped>\n",
       "    .dataframe tbody tr th:only-of-type {\n",
       "        vertical-align: middle;\n",
       "    }\n",
       "\n",
       "    .dataframe tbody tr th {\n",
       "        vertical-align: top;\n",
       "    }\n",
       "\n",
       "    .dataframe thead th {\n",
       "        text-align: right;\n",
       "    }\n",
       "</style>\n",
       "<table border=\"1\" class=\"dataframe\">\n",
       "  <thead>\n",
       "    <tr style=\"text-align: right;\">\n",
       "      <th></th>\n",
       "      <th>Age</th>\n",
       "      <th>SystolicBP</th>\n",
       "      <th>DiastolicBP</th>\n",
       "      <th>BloodGlucose</th>\n",
       "      <th>BodyTemp</th>\n",
       "      <th>HeartRate</th>\n",
       "      <th>RiskLevel</th>\n",
       "    </tr>\n",
       "  </thead>\n",
       "  <tbody>\n",
       "    <tr>\n",
       "      <th>869</th>\n",
       "      <td>29</td>\n",
       "      <td>90</td>\n",
       "      <td>70</td>\n",
       "      <td>6.7</td>\n",
       "      <td>98.0</td>\n",
       "      <td>80</td>\n",
       "      <td>mid risk</td>\n",
       "    </tr>\n",
       "    <tr>\n",
       "      <th>261</th>\n",
       "      <td>19</td>\n",
       "      <td>120</td>\n",
       "      <td>75</td>\n",
       "      <td>6.9</td>\n",
       "      <td>98.0</td>\n",
       "      <td>66</td>\n",
       "      <td>low risk</td>\n",
       "    </tr>\n",
       "    <tr>\n",
       "      <th>798</th>\n",
       "      <td>19</td>\n",
       "      <td>120</td>\n",
       "      <td>80</td>\n",
       "      <td>7.0</td>\n",
       "      <td>98.0</td>\n",
       "      <td>70</td>\n",
       "      <td>mid risk</td>\n",
       "    </tr>\n",
       "    <tr>\n",
       "      <th>791</th>\n",
       "      <td>60</td>\n",
       "      <td>120</td>\n",
       "      <td>80</td>\n",
       "      <td>6.8</td>\n",
       "      <td>98.0</td>\n",
       "      <td>77</td>\n",
       "      <td>mid risk</td>\n",
       "    </tr>\n",
       "    <tr>\n",
       "      <th>38</th>\n",
       "      <td>45</td>\n",
       "      <td>120</td>\n",
       "      <td>95</td>\n",
       "      <td>6.1</td>\n",
       "      <td>98.0</td>\n",
       "      <td>66</td>\n",
       "      <td>low risk</td>\n",
       "    </tr>\n",
       "  </tbody>\n",
       "</table>\n",
       "</div>"
      ],
      "text/plain": [
       "     Age  SystolicBP  DiastolicBP  BloodGlucose  BodyTemp  HeartRate RiskLevel\n",
       "869   29          90           70           6.7      98.0         80  mid risk\n",
       "261   19         120           75           6.9      98.0         66  low risk\n",
       "798   19         120           80           7.0      98.0         70  mid risk\n",
       "791   60         120           80           6.8      98.0         77  mid risk\n",
       "38    45         120           95           6.1      98.0         66  low risk"
      ]
     },
     "execution_count": 490,
     "metadata": {},
     "output_type": "execute_result"
    }
   ],
   "source": [
    "data.sample(5)"
   ]
  },
  {
   "cell_type": "code",
   "execution_count": 491,
   "id": "081edf13",
   "metadata": {},
   "outputs": [
    {
     "name": "stdout",
     "output_type": "stream",
     "text": [
      "<class 'pandas.core.frame.DataFrame'>\n",
      "RangeIndex: 1014 entries, 0 to 1013\n",
      "Data columns (total 7 columns):\n",
      " #   Column        Non-Null Count  Dtype  \n",
      "---  ------        --------------  -----  \n",
      " 0   Age           1014 non-null   int64  \n",
      " 1   SystolicBP    1014 non-null   int64  \n",
      " 2   DiastolicBP   1014 non-null   int64  \n",
      " 3   BloodGlucose  1014 non-null   float64\n",
      " 4   BodyTemp      1014 non-null   float64\n",
      " 5   HeartRate     1014 non-null   int64  \n",
      " 6   RiskLevel     1014 non-null   object \n",
      "dtypes: float64(2), int64(4), object(1)\n",
      "memory usage: 55.6+ KB\n"
     ]
    }
   ],
   "source": [
    "data.info()"
   ]
  },
  {
   "cell_type": "code",
   "execution_count": 492,
   "id": "0f76ce6d",
   "metadata": {},
   "outputs": [
    {
     "data": {
      "text/html": [
       "<div>\n",
       "<style scoped>\n",
       "    .dataframe tbody tr th:only-of-type {\n",
       "        vertical-align: middle;\n",
       "    }\n",
       "\n",
       "    .dataframe tbody tr th {\n",
       "        vertical-align: top;\n",
       "    }\n",
       "\n",
       "    .dataframe thead th {\n",
       "        text-align: right;\n",
       "    }\n",
       "</style>\n",
       "<table border=\"1\" class=\"dataframe\">\n",
       "  <thead>\n",
       "    <tr style=\"text-align: right;\">\n",
       "      <th></th>\n",
       "      <th>Age</th>\n",
       "      <th>SystolicBP</th>\n",
       "      <th>DiastolicBP</th>\n",
       "      <th>BloodGlucose</th>\n",
       "      <th>BodyTemp</th>\n",
       "      <th>HeartRate</th>\n",
       "    </tr>\n",
       "  </thead>\n",
       "  <tbody>\n",
       "    <tr>\n",
       "      <th>count</th>\n",
       "      <td>1014.000000</td>\n",
       "      <td>1014.000000</td>\n",
       "      <td>1014.000000</td>\n",
       "      <td>1014.000000</td>\n",
       "      <td>1014.000000</td>\n",
       "      <td>1014.000000</td>\n",
       "    </tr>\n",
       "    <tr>\n",
       "      <th>mean</th>\n",
       "      <td>29.871795</td>\n",
       "      <td>113.198225</td>\n",
       "      <td>76.460552</td>\n",
       "      <td>8.725986</td>\n",
       "      <td>98.665089</td>\n",
       "      <td>74.301775</td>\n",
       "    </tr>\n",
       "    <tr>\n",
       "      <th>std</th>\n",
       "      <td>13.474386</td>\n",
       "      <td>18.403913</td>\n",
       "      <td>13.885796</td>\n",
       "      <td>3.293532</td>\n",
       "      <td>1.371384</td>\n",
       "      <td>8.088702</td>\n",
       "    </tr>\n",
       "    <tr>\n",
       "      <th>min</th>\n",
       "      <td>10.000000</td>\n",
       "      <td>70.000000</td>\n",
       "      <td>49.000000</td>\n",
       "      <td>6.000000</td>\n",
       "      <td>98.000000</td>\n",
       "      <td>7.000000</td>\n",
       "    </tr>\n",
       "    <tr>\n",
       "      <th>25%</th>\n",
       "      <td>19.000000</td>\n",
       "      <td>100.000000</td>\n",
       "      <td>65.000000</td>\n",
       "      <td>6.900000</td>\n",
       "      <td>98.000000</td>\n",
       "      <td>70.000000</td>\n",
       "    </tr>\n",
       "    <tr>\n",
       "      <th>50%</th>\n",
       "      <td>26.000000</td>\n",
       "      <td>120.000000</td>\n",
       "      <td>80.000000</td>\n",
       "      <td>7.500000</td>\n",
       "      <td>98.000000</td>\n",
       "      <td>76.000000</td>\n",
       "    </tr>\n",
       "    <tr>\n",
       "      <th>75%</th>\n",
       "      <td>39.000000</td>\n",
       "      <td>120.000000</td>\n",
       "      <td>90.000000</td>\n",
       "      <td>8.000000</td>\n",
       "      <td>98.000000</td>\n",
       "      <td>80.000000</td>\n",
       "    </tr>\n",
       "    <tr>\n",
       "      <th>max</th>\n",
       "      <td>70.000000</td>\n",
       "      <td>160.000000</td>\n",
       "      <td>100.000000</td>\n",
       "      <td>19.000000</td>\n",
       "      <td>103.000000</td>\n",
       "      <td>90.000000</td>\n",
       "    </tr>\n",
       "  </tbody>\n",
       "</table>\n",
       "</div>"
      ],
      "text/plain": [
       "               Age   SystolicBP  DiastolicBP  BloodGlucose     BodyTemp  \\\n",
       "count  1014.000000  1014.000000  1014.000000   1014.000000  1014.000000   \n",
       "mean     29.871795   113.198225    76.460552      8.725986    98.665089   \n",
       "std      13.474386    18.403913    13.885796      3.293532     1.371384   \n",
       "min      10.000000    70.000000    49.000000      6.000000    98.000000   \n",
       "25%      19.000000   100.000000    65.000000      6.900000    98.000000   \n",
       "50%      26.000000   120.000000    80.000000      7.500000    98.000000   \n",
       "75%      39.000000   120.000000    90.000000      8.000000    98.000000   \n",
       "max      70.000000   160.000000   100.000000     19.000000   103.000000   \n",
       "\n",
       "         HeartRate  \n",
       "count  1014.000000  \n",
       "mean     74.301775  \n",
       "std       8.088702  \n",
       "min       7.000000  \n",
       "25%      70.000000  \n",
       "50%      76.000000  \n",
       "75%      80.000000  \n",
       "max      90.000000  "
      ]
     },
     "execution_count": 492,
     "metadata": {},
     "output_type": "execute_result"
    }
   ],
   "source": [
    "data.describe()"
   ]
  },
  {
   "cell_type": "markdown",
   "id": "fb57bdd1",
   "metadata": {},
   "source": [
    "### Проверим данные на выпадающие значения"
   ]
  },
  {
   "cell_type": "code",
   "execution_count": 493,
   "id": "0be4fadb",
   "metadata": {},
   "outputs": [
    {
     "data": {
      "image/png": "[encoded data removed]",
      "text/plain": [
       "<Figure size 1000x1000 with 6 Axes>"
      ]
     },
     "metadata": {},
     "output_type": "display_data"
    }
   ],
   "source": [
    "f, axes = plt.subplots(nrows=3, ncols=2, figsize = (10,10))\n",
    "for i, ax in enumerate(axes.flatten()):\n",
    "    sns.boxplot(y= data.iloc[:, i], ax=ax)"
   ]
  },
  {
   "cell_type": "code",
   "execution_count": 494,
   "id": "b0478cf6",
   "metadata": {},
   "outputs": [
    {
     "data": {
      "text/plain": [
       "count    1014.000000\n",
       "mean       29.871795\n",
       "std        13.474386\n",
       "min        10.000000\n",
       "25%        19.000000\n",
       "50%        26.000000\n",
       "75%        39.000000\n",
       "max        70.000000\n",
       "Name: Age, dtype: float64"
      ]
     },
     "execution_count": 494,
     "metadata": {},
     "output_type": "execute_result"
    }
   ],
   "source": [
    "data['Age'].describe()"
   ]
  },
  {
   "cell_type": "markdown",
   "id": "e0e22f42",
   "metadata": {},
   "source": [
    "Полагаем, что возраст беременных составляет в большинстве случаев от 12 до 60 лет, остальные значения можно считать выпадающими и удалить"
   ]
  },
  {
   "cell_type": "code",
   "execution_count": 495,
   "id": "d94ccfa1",
   "metadata": {},
   "outputs": [
    {
     "data": {
      "text/plain": [
       "60.0"
      ]
     },
     "execution_count": 495,
     "metadata": {},
     "output_type": "execute_result"
    }
   ],
   "source": [
    "age_max = np.percentile(data['Age'], 99)\n",
    "age_max"
   ]
  },
  {
   "cell_type": "code",
   "execution_count": 496,
   "id": "70efd7a8",
   "metadata": {},
   "outputs": [
    {
     "data": {
      "text/plain": [
       "12.0"
      ]
     },
     "execution_count": 496,
     "metadata": {},
     "output_type": "execute_result"
    }
   ],
   "source": [
    "age_min = np.percentile(data['Age'], 1)\n",
    "age_min"
   ]
  },
  {
   "cell_type": "code",
   "execution_count": 497,
   "id": "2737fa91",
   "metadata": {},
   "outputs": [],
   "source": [
    "data_edit = data.query('Age < @age_max and Age > @age_min')"
   ]
  },
  {
   "cell_type": "markdown",
   "id": "7891bac9",
   "metadata": {},
   "source": [
    "Уровень сахара, несмотря на явные выпадающие значения, может быть порядка 20, что является очень высоким показателем.\n",
    "Что касается температуры - единица измерения в данном случае - фаренгейты, значения от 98 до 103 укладываются в рамки температурного диапазона от 36,6 до 39,5."
   ]
  },
  {
   "cell_type": "code",
   "execution_count": 498,
   "id": "0ecd6da3",
   "metadata": {},
   "outputs": [
    {
     "data": {
      "text/plain": [
       "HeartRate\n",
       "70    261\n",
       "76    129\n",
       "80    114\n",
       "77     77\n",
       "66     77\n",
       "88     59\n",
       "60     54\n",
       "86     53\n",
       "78     46\n",
       "82     19\n",
       "90     17\n",
       "67     12\n",
       "75     11\n",
       "68      2\n",
       "7       2\n",
       "Name: count, dtype: int64"
      ]
     },
     "execution_count": 498,
     "metadata": {},
     "output_type": "execute_result"
    }
   ],
   "source": [
    "data_edit['HeartRate'].value_counts()"
   ]
  },
  {
   "cell_type": "code",
   "execution_count": 499,
   "id": "228c7a67",
   "metadata": {},
   "outputs": [
    {
     "data": {
      "text/html": [
       "<div>\n",
       "<style scoped>\n",
       "    .dataframe tbody tr th:only-of-type {\n",
       "        vertical-align: middle;\n",
       "    }\n",
       "\n",
       "    .dataframe tbody tr th {\n",
       "        vertical-align: top;\n",
       "    }\n",
       "\n",
       "    .dataframe thead th {\n",
       "        text-align: right;\n",
       "    }\n",
       "</style>\n",
       "<table border=\"1\" class=\"dataframe\">\n",
       "  <thead>\n",
       "    <tr style=\"text-align: right;\">\n",
       "      <th></th>\n",
       "      <th>Age</th>\n",
       "      <th>SystolicBP</th>\n",
       "      <th>DiastolicBP</th>\n",
       "      <th>BloodGlucose</th>\n",
       "      <th>BodyTemp</th>\n",
       "      <th>HeartRate</th>\n",
       "      <th>RiskLevel</th>\n",
       "    </tr>\n",
       "  </thead>\n",
       "  <tbody>\n",
       "    <tr>\n",
       "      <th>499</th>\n",
       "      <td>16</td>\n",
       "      <td>120</td>\n",
       "      <td>75</td>\n",
       "      <td>7.9</td>\n",
       "      <td>98.0</td>\n",
       "      <td>7</td>\n",
       "      <td>low risk</td>\n",
       "    </tr>\n",
       "    <tr>\n",
       "      <th>908</th>\n",
       "      <td>16</td>\n",
       "      <td>120</td>\n",
       "      <td>75</td>\n",
       "      <td>7.9</td>\n",
       "      <td>98.0</td>\n",
       "      <td>7</td>\n",
       "      <td>low risk</td>\n",
       "    </tr>\n",
       "  </tbody>\n",
       "</table>\n",
       "</div>"
      ],
      "text/plain": [
       "     Age  SystolicBP  DiastolicBP  BloodGlucose  BodyTemp  HeartRate RiskLevel\n",
       "499   16         120           75           7.9      98.0          7  low risk\n",
       "908   16         120           75           7.9      98.0          7  low risk"
      ]
     },
     "execution_count": 499,
     "metadata": {},
     "output_type": "execute_result"
    }
   ],
   "source": [
    "hr = data_edit[data_edit['HeartRate'] == 7]\n",
    "hr"
   ]
  },
  {
   "cell_type": "markdown",
   "id": "1c60ccd3",
   "metadata": {},
   "source": [
    "Полагаем, что зачения частоты сердцебиения, равные 7 ударам в минуту, являются выпадающими - удалим их"
   ]
  },
  {
   "cell_type": "code",
   "execution_count": 500,
   "id": "09208d93",
   "metadata": {},
   "outputs": [],
   "source": [
    "hr_index = hr.index.tolist()"
   ]
  },
  {
   "cell_type": "code",
   "execution_count": 501,
   "id": "6935587f",
   "metadata": {},
   "outputs": [],
   "source": [
    "data_edit = data_edit.drop(index= hr_index).reset_index(drop=True)"
   ]
  },
  {
   "cell_type": "markdown",
   "id": "30af0803",
   "metadata": {},
   "source": [
    "### Преобразуем данные в столбце RiskLevel"
   ]
  },
  {
   "cell_type": "markdown",
   "id": "129acf3d",
   "metadata": {},
   "source": [
    "Данные в столбце RiskLevel являются целевым признаком. "
   ]
  },
  {
   "cell_type": "code",
   "execution_count": 502,
   "id": "4a6cfcaa",
   "metadata": {},
   "outputs": [
    {
     "data": {
      "text/plain": [
       "array(['high risk', 'low risk', 'mid risk'], dtype=object)"
      ]
     },
     "execution_count": 502,
     "metadata": {},
     "output_type": "execute_result"
    }
   ],
   "source": [
    "data_edit['RiskLevel'].unique()"
   ]
  },
  {
   "cell_type": "code",
   "execution_count": 503,
   "id": "17f6d058",
   "metadata": {},
   "outputs": [
    {
     "data": {
      "text/plain": [
       "RiskLevel\n",
       "low risk     369\n",
       "mid risk     307\n",
       "high risk    255\n",
       "Name: count, dtype: int64"
      ]
     },
     "execution_count": 503,
     "metadata": {},
     "output_type": "execute_result"
    }
   ],
   "source": [
    "data_edit['RiskLevel'].value_counts()"
   ]
  },
  {
   "cell_type": "markdown",
   "id": "9c09cfbe",
   "metadata": {},
   "source": [
    "В столбце присутсвует три значения 'high risk', 'low risk', 'mid risk', тип данных object. Предлагаем заменить \n",
    "- high risk - на 3\n",
    "- low risk - на 0\n",
    "- mid risk- на 1"
   ]
  },
  {
   "cell_type": "code",
   "execution_count": 504,
   "id": "c8d0752e",
   "metadata": {},
   "outputs": [],
   "source": [
    "for i in range(len(data_edit['RiskLevel'])):\n",
    "    if data_edit.loc[i, 'RiskLevel'] == 'low risk':\n",
    "        data_edit.loc[i, 'RiskLevel'] = 0\n",
    "    elif data_edit.loc[i, 'RiskLevel'] == 'high risk':\n",
    "        data_edit.loc[i, 'RiskLevel'] = 3\n",
    "    else:\n",
    "        data_edit.loc[i, 'RiskLevel'] = 1"
   ]
  },
  {
   "cell_type": "code",
   "execution_count": 505,
   "id": "e1493eb2",
   "metadata": {},
   "outputs": [
    {
     "name": "stdout",
     "output_type": "stream",
     "text": [
      "<class 'pandas.core.series.Series'>\n",
      "RangeIndex: 931 entries, 0 to 930\n",
      "Series name: RiskLevel\n",
      "Non-Null Count  Dtype \n",
      "--------------  ----- \n",
      "931 non-null    object\n",
      "dtypes: object(1)\n",
      "memory usage: 7.4+ KB\n"
     ]
    }
   ],
   "source": [
    "data_edit['RiskLevel'].info()"
   ]
  },
  {
   "cell_type": "markdown",
   "id": "fbdbae55",
   "metadata": {},
   "source": [
    "#### Изменим тип данных в столбце RiskLevel на числовой"
   ]
  },
  {
   "cell_type": "code",
   "execution_count": 506,
   "id": "b05c0bd4",
   "metadata": {},
   "outputs": [],
   "source": [
    "data_edit['RiskLevel'] = pd.to_numeric(data_edit['RiskLevel'])"
   ]
  },
  {
   "cell_type": "code",
   "execution_count": 507,
   "id": "3621a0e7",
   "metadata": {},
   "outputs": [
    {
     "data": {
      "text/plain": [
       "dtype('int64')"
      ]
     },
     "execution_count": 507,
     "metadata": {},
     "output_type": "execute_result"
    }
   ],
   "source": [
    "data_edit['RiskLevel'].dtype"
   ]
  },
  {
   "cell_type": "markdown",
   "id": "aa143ee8",
   "metadata": {},
   "source": [
    "### Проверим данные на сбалансированность"
   ]
  },
  {
   "cell_type": "code",
   "execution_count": 508,
   "id": "1ada4906",
   "metadata": {},
   "outputs": [
    {
     "data": {
      "text/plain": [
       "RiskLevel\n",
       "0    369\n",
       "1    307\n",
       "3    255\n",
       "Name: count, dtype: int64"
      ]
     },
     "execution_count": 508,
     "metadata": {},
     "output_type": "execute_result"
    }
   ],
   "source": [
    "data_edit['RiskLevel'].value_counts()"
   ]
  },
  {
   "cell_type": "markdown",
   "id": "4378dbaa",
   "metadata": {},
   "source": [
    "При выделении таргета будет необходимо провести работу по устраненю дисбаланса, так как данных немного"
   ]
  },
  {
   "cell_type": "markdown",
   "id": "9bc74320",
   "metadata": {},
   "source": [
    "### Проверим данные на наличие пропущенных значений"
   ]
  },
  {
   "cell_type": "code",
   "execution_count": 509,
   "id": "36ff9922",
   "metadata": {},
   "outputs": [
    {
     "data": {
      "text/plain": [
       "Age             0\n",
       "SystolicBP      0\n",
       "DiastolicBP     0\n",
       "BloodGlucose    0\n",
       "BodyTemp        0\n",
       "HeartRate       0\n",
       "RiskLevel       0\n",
       "dtype: int64"
      ]
     },
     "execution_count": 509,
     "metadata": {},
     "output_type": "execute_result"
    }
   ],
   "source": [
    "data_edit.isna().sum()"
   ]
  },
  {
   "cell_type": "markdown",
   "id": "09f7aba4",
   "metadata": {},
   "source": [
    "Пропущенные значения не найдены"
   ]
  },
  {
   "cell_type": "markdown",
   "id": "32b96b4a",
   "metadata": {},
   "source": [
    "### Проверим данные на дубликаты"
   ]
  },
  {
   "cell_type": "code",
   "execution_count": 510,
   "id": "eeb0726f",
   "metadata": {},
   "outputs": [
    {
     "data": {
      "text/html": [
       "<div>\n",
       "<style scoped>\n",
       "    .dataframe tbody tr th:only-of-type {\n",
       "        vertical-align: middle;\n",
       "    }\n",
       "\n",
       "    .dataframe tbody tr th {\n",
       "        vertical-align: top;\n",
       "    }\n",
       "\n",
       "    .dataframe thead th {\n",
       "        text-align: right;\n",
       "    }\n",
       "</style>\n",
       "<table border=\"1\" class=\"dataframe\">\n",
       "  <thead>\n",
       "    <tr style=\"text-align: right;\">\n",
       "      <th></th>\n",
       "      <th>Age</th>\n",
       "      <th>SystolicBP</th>\n",
       "      <th>DiastolicBP</th>\n",
       "      <th>BloodGlucose</th>\n",
       "      <th>BodyTemp</th>\n",
       "      <th>HeartRate</th>\n",
       "      <th>RiskLevel</th>\n",
       "    </tr>\n",
       "  </thead>\n",
       "  <tbody>\n",
       "    <tr>\n",
       "      <th>62</th>\n",
       "      <td>19</td>\n",
       "      <td>120</td>\n",
       "      <td>80</td>\n",
       "      <td>7.0</td>\n",
       "      <td>98.0</td>\n",
       "      <td>70</td>\n",
       "      <td>1</td>\n",
       "    </tr>\n",
       "    <tr>\n",
       "      <th>67</th>\n",
       "      <td>19</td>\n",
       "      <td>120</td>\n",
       "      <td>80</td>\n",
       "      <td>7.0</td>\n",
       "      <td>98.0</td>\n",
       "      <td>70</td>\n",
       "      <td>1</td>\n",
       "    </tr>\n",
       "    <tr>\n",
       "      <th>90</th>\n",
       "      <td>19</td>\n",
       "      <td>120</td>\n",
       "      <td>80</td>\n",
       "      <td>7.0</td>\n",
       "      <td>98.0</td>\n",
       "      <td>70</td>\n",
       "      <td>1</td>\n",
       "    </tr>\n",
       "    <tr>\n",
       "      <th>98</th>\n",
       "      <td>50</td>\n",
       "      <td>140</td>\n",
       "      <td>90</td>\n",
       "      <td>15.0</td>\n",
       "      <td>98.0</td>\n",
       "      <td>90</td>\n",
       "      <td>3</td>\n",
       "    </tr>\n",
       "    <tr>\n",
       "      <th>99</th>\n",
       "      <td>25</td>\n",
       "      <td>140</td>\n",
       "      <td>100</td>\n",
       "      <td>6.8</td>\n",
       "      <td>98.0</td>\n",
       "      <td>80</td>\n",
       "      <td>3</td>\n",
       "    </tr>\n",
       "    <tr>\n",
       "      <th>...</th>\n",
       "      <td>...</td>\n",
       "      <td>...</td>\n",
       "      <td>...</td>\n",
       "      <td>...</td>\n",
       "      <td>...</td>\n",
       "      <td>...</td>\n",
       "      <td>...</td>\n",
       "    </tr>\n",
       "    <tr>\n",
       "      <th>926</th>\n",
       "      <td>22</td>\n",
       "      <td>120</td>\n",
       "      <td>60</td>\n",
       "      <td>15.0</td>\n",
       "      <td>98.0</td>\n",
       "      <td>80</td>\n",
       "      <td>3</td>\n",
       "    </tr>\n",
       "    <tr>\n",
       "      <th>927</th>\n",
       "      <td>55</td>\n",
       "      <td>120</td>\n",
       "      <td>90</td>\n",
       "      <td>18.0</td>\n",
       "      <td>98.0</td>\n",
       "      <td>60</td>\n",
       "      <td>3</td>\n",
       "    </tr>\n",
       "    <tr>\n",
       "      <th>928</th>\n",
       "      <td>35</td>\n",
       "      <td>85</td>\n",
       "      <td>60</td>\n",
       "      <td>19.0</td>\n",
       "      <td>98.0</td>\n",
       "      <td>86</td>\n",
       "      <td>3</td>\n",
       "    </tr>\n",
       "    <tr>\n",
       "      <th>929</th>\n",
       "      <td>43</td>\n",
       "      <td>120</td>\n",
       "      <td>90</td>\n",
       "      <td>18.0</td>\n",
       "      <td>98.0</td>\n",
       "      <td>70</td>\n",
       "      <td>3</td>\n",
       "    </tr>\n",
       "    <tr>\n",
       "      <th>930</th>\n",
       "      <td>32</td>\n",
       "      <td>120</td>\n",
       "      <td>65</td>\n",
       "      <td>6.0</td>\n",
       "      <td>101.0</td>\n",
       "      <td>76</td>\n",
       "      <td>1</td>\n",
       "    </tr>\n",
       "  </tbody>\n",
       "</table>\n",
       "<p>527 rows × 7 columns</p>\n",
       "</div>"
      ],
      "text/plain": [
       "     Age  SystolicBP  DiastolicBP  BloodGlucose  BodyTemp  HeartRate  \\\n",
       "62    19         120           80           7.0      98.0         70   \n",
       "67    19         120           80           7.0      98.0         70   \n",
       "90    19         120           80           7.0      98.0         70   \n",
       "98    50         140           90          15.0      98.0         90   \n",
       "99    25         140          100           6.8      98.0         80   \n",
       "..   ...         ...          ...           ...       ...        ...   \n",
       "926   22         120           60          15.0      98.0         80   \n",
       "927   55         120           90          18.0      98.0         60   \n",
       "928   35          85           60          19.0      98.0         86   \n",
       "929   43         120           90          18.0      98.0         70   \n",
       "930   32         120           65           6.0     101.0         76   \n",
       "\n",
       "     RiskLevel  \n",
       "62           1  \n",
       "67           1  \n",
       "90           1  \n",
       "98           3  \n",
       "99           3  \n",
       "..         ...  \n",
       "926          3  \n",
       "927          3  \n",
       "928          3  \n",
       "929          3  \n",
       "930          1  \n",
       "\n",
       "[527 rows x 7 columns]"
      ]
     },
     "execution_count": 510,
     "metadata": {},
     "output_type": "execute_result"
    }
   ],
   "source": [
    "dublicated = data_edit[data_edit.duplicated()]\n",
    "dublicated"
   ]
  },
  {
   "cell_type": "markdown",
   "id": "5e8d7bc8",
   "metadata": {},
   "source": [
    "Выявлено 527 явных дубликатов, удалим их"
   ]
  },
  {
   "cell_type": "code",
   "execution_count": 511,
   "id": "63e5bffb",
   "metadata": {},
   "outputs": [],
   "source": [
    "data_ready = data_edit.drop_duplicates().reset_index(drop=True)"
   ]
  },
  {
   "cell_type": "markdown",
   "id": "cbe1de4b",
   "metadata": {},
   "source": [
    "### Изучим корреляцию признаков"
   ]
  },
  {
   "cell_type": "markdown",
   "id": "b042a9fb",
   "metadata": {},
   "source": [
    "#### Посчитаем корреляцию Пирсона между целевым признаком и признаками"
   ]
  },
  {
   "cell_type": "code",
   "execution_count": 512,
   "id": "e2ab2e01",
   "metadata": {},
   "outputs": [
    {
     "data": {
      "image/png": "[encoded data removed]",
      "text/plain": [
       "<Figure size 500x300 with 2 Axes>"
      ]
     },
     "metadata": {},
     "output_type": "display_data"
    },
    {
     "name": "stdout",
     "output_type": "stream",
     "text": [
      "CPU times: total: 203 ms\n",
      "Wall time: 206 ms\n"
     ]
    }
   ],
   "source": [
    "%%time\n",
    "correlation_mat = data_ready.corr().sort_values(by = 'RiskLevel', ascending = False)\n",
    "sns.set(rc = {'figure.figsize':(5,3)})\n",
    "sns.heatmap(correlation_mat[['RiskLevel']], vmin = -1, vmax = +1, annot = True, cmap = 'coolwarm')\n",
    "plt.show()"
   ]
  },
  {
   "cell_type": "markdown",
   "id": "0c1fcb18",
   "metadata": {},
   "source": [
    "Выявлена значимая корреляция между целевым признаком и уровнем глюкозы в крови."
   ]
  },
  {
   "cell_type": "markdown",
   "id": "9598fc3e",
   "metadata": {},
   "source": [
    "#### Построим матрицу корреляции"
   ]
  },
  {
   "cell_type": "code",
   "execution_count": 513,
   "id": "8b446ff5",
   "metadata": {},
   "outputs": [
    {
     "data": {
      "image/png": "[encoded data removed]",
      "text/plain": [
       "<Figure size 1000x500 with 2 Axes>"
      ]
     },
     "metadata": {},
     "output_type": "display_data"
    },
    {
     "name": "stdout",
     "output_type": "stream",
     "text": [
      "CPU times: total: 391 ms\n",
      "Wall time: 391 ms\n"
     ]
    }
   ],
   "source": [
    "%%time\n",
    "correlation_mat = data_ready.corr().round(2)\n",
    "sns.set(rc = {'figure.figsize':(10,5)})\n",
    "sns.heatmap(correlation_mat, linewidths=.5, annot = True, cmap = 'coolwarm')\n",
    "plt.show()"
   ]
  },
  {
   "cell_type": "markdown",
   "id": "4b959902",
   "metadata": {},
   "source": [
    "Изучив матрицу, мы выявили высокий уровень корреляции между систолическим и диастолическим давлением (0,78) и умеренную корреляцию между возрастом и уровнем глюкозы в крови (0,42), а также возрастом и диастолическим давлением/систолическим давление (0,4 и 0,43 соответсвенно).\n",
    "Высокие значения корреляции между признаками свидетельствуют о наличии мультиколлинеарности."
   ]
  },
  {
   "cell_type": "markdown",
   "id": "6253d471",
   "metadata": {},
   "source": [
    "#### Изучим Phik корреляцию"
   ]
  },
  {
   "cell_type": "markdown",
   "id": "df8adee1",
   "metadata": {},
   "source": [
    "Помимо корреляции Пирсона интересно также проверять Phik корреляцию, которая  способна улавливать нелинейные взаимосвязи."
   ]
  },
  {
   "cell_type": "code",
   "execution_count": 514,
   "id": "fe90e19e",
   "metadata": {},
   "outputs": [
    {
     "data": {
      "image/png": "[encoded data removed]",
      "text/plain": [
       "<Figure size 2000x800 with 2 Axes>"
      ]
     },
     "metadata": {},
     "output_type": "display_data"
    }
   ],
   "source": [
    "interval_cols = list(data_ready.columns)\n",
    "phik_overview = data_ready.phik_matrix(interval_cols=interval_cols)\n",
    "\n",
    "phik.report.plot_correlation_matrix(phik_overview.values, \n",
    "                        x_labels=phik_overview.columns, \n",
    "                        y_labels=phik_overview.index, \n",
    "                        vmin=0, vmax=1, color_map=\"Greens\", \n",
    "                        title=r\"correlation $\\phi_K$\", \n",
    "                        fontsize_factor=1.5, \n",
    "                        figsize=(20, 8))\n",
    "plt.tight_layout()"
   ]
  },
  {
   "cell_type": "markdown",
   "id": "d016323e",
   "metadata": {},
   "source": [
    "Интересные данные показала матрица Phik корреляции: выявлена заметная корреляция между частотой сердечных сокращений и остальными признаками."
   ]
  },
  {
   "cell_type": "markdown",
   "id": "12d7d7e0",
   "metadata": {},
   "source": [
    "#### Изучим статистическую значимость корреляции признаков"
   ]
  },
  {
   "cell_type": "code",
   "execution_count": 515,
   "id": "9f1678cc",
   "metadata": {},
   "outputs": [
    {
     "data": {
      "image/png": "[encoded data removed]",
      "text/plain": [
       "<Figure size 2000x800 with 2 Axes>"
      ]
     },
     "metadata": {},
     "output_type": "display_data"
    }
   ],
   "source": [
    "significance_overview = data_ready.significance_matrix(interval_cols=interval_cols)\n",
    "phik.report.plot_correlation_matrix(significance_overview.values, \n",
    "                        x_labels=significance_overview.columns, \n",
    "                        y_labels=significance_overview.index, \n",
    "                        vmin=-5, vmax=5, title=\"Significance of the coefficients\", \n",
    "                        usetex=False, fontsize_factor=1.5, figsize=(20, 8))\n",
    "plt.tight_layout()"
   ]
  },
  {
   "cell_type": "markdown",
   "id": "0085140d",
   "metadata": {},
   "source": [
    "Мы обнаружили статистическую значимость корреляции данных об уровне глюкозы в крови и диастолическим давлением."
   ]
  },
  {
   "cell_type": "markdown",
   "id": "37ba2e6d",
   "metadata": {},
   "source": [
    "#### Рассмотрим глобальную корреляцию признаков"
   ]
  },
  {
   "cell_type": "code",
   "execution_count": 516,
   "id": "7c2c46c7",
   "metadata": {},
   "outputs": [
    {
     "data": {
      "image/png": "[encoded data removed]",
      "text/plain": [
       "<Figure size 600x300 with 2 Axes>"
      ]
     },
     "metadata": {},
     "output_type": "display_data"
    }
   ],
   "source": [
    "global_correlation, global_labels = data_ready.global_phik(interval_cols=interval_cols)\n",
    "\n",
    "phik.report.plot_correlation_matrix(global_correlation, \n",
    "                        x_labels=[''], y_labels=global_labels, \n",
    "                        vmin=0, vmax=1, figsize=(6,3),\n",
    "                        color_map=\"Greens\", title=r\"$g_k$\",\n",
    "                        #fontsize_factor=1.5)\n",
    "                                   )\n",
    "plt.tight_layout()"
   ]
  },
  {
   "cell_type": "markdown",
   "id": "7f4716d8",
   "metadata": {},
   "source": [
    "Таким образом уровень глюкозы, систолическое и диастолическое давление показывают очень высокий уровень корреляции с остальными признаками."
   ]
  },
  {
   "cell_type": "markdown",
   "id": "d4fddccb",
   "metadata": {},
   "source": [
    "Для отбора признаков вместо корреляции после обучения моделей можно использовать функцию feature selection или инструменты библиотеки Shap."
   ]
  },
  {
   "cell_type": "markdown",
   "id": "0025cb8b",
   "metadata": {},
   "source": [
    "### Генерация признаков"
   ]
  },
  {
   "cell_type": "markdown",
   "id": "e7c79959",
   "metadata": {},
   "source": [
    "Так как нами выявлен высокий уровень корреляции между диастолическим и систолическим давлением, что логично, предлагаем для обучения модели использовать коэффициент пульсового давления. При этом пульсовое давление - это разница между диастолически и систолическим давлением."
   ]
  },
  {
   "cell_type": "markdown",
   "id": "e0d1da1e",
   "metadata": {},
   "source": [
    " $DD$ — диастолическое давление\n",
    "\n",
    " $SD$ — систолическое давление\n",
    "\n",
    " $PD$ — пульсовое давление\n",
    " \n",
    " $PK$ — пульсовый коэфициент"
   ]
  },
  {
   "cell_type": "markdown",
   "id": "4ff61bb0",
   "metadata": {},
   "source": [
    "Формула коэфициента пульсового давления\n",
    "\n",
    "$$\n",
    "PK = (SD - DD)*100/SD\n",
    "$$"
   ]
  },
  {
   "cell_type": "code",
   "execution_count": 517,
   "id": "136ba1a3",
   "metadata": {},
   "outputs": [
    {
     "data": {
      "text/html": [
       "<div>\n",
       "<style scoped>\n",
       "    .dataframe tbody tr th:only-of-type {\n",
       "        vertical-align: middle;\n",
       "    }\n",
       "\n",
       "    .dataframe tbody tr th {\n",
       "        vertical-align: top;\n",
       "    }\n",
       "\n",
       "    .dataframe thead th {\n",
       "        text-align: right;\n",
       "    }\n",
       "</style>\n",
       "<table border=\"1\" class=\"dataframe\">\n",
       "  <thead>\n",
       "    <tr style=\"text-align: right;\">\n",
       "      <th></th>\n",
       "      <th>Age</th>\n",
       "      <th>SystolicBP</th>\n",
       "      <th>DiastolicBP</th>\n",
       "      <th>BloodGlucose</th>\n",
       "      <th>BodyTemp</th>\n",
       "      <th>HeartRate</th>\n",
       "      <th>RiskLevel</th>\n",
       "      <th>PK</th>\n",
       "    </tr>\n",
       "  </thead>\n",
       "  <tbody>\n",
       "    <tr>\n",
       "      <th>0</th>\n",
       "      <td>25</td>\n",
       "      <td>130</td>\n",
       "      <td>80</td>\n",
       "      <td>15.0</td>\n",
       "      <td>98.0</td>\n",
       "      <td>86</td>\n",
       "      <td>3</td>\n",
       "      <td>38.461538</td>\n",
       "    </tr>\n",
       "    <tr>\n",
       "      <th>1</th>\n",
       "      <td>35</td>\n",
       "      <td>140</td>\n",
       "      <td>90</td>\n",
       "      <td>13.0</td>\n",
       "      <td>98.0</td>\n",
       "      <td>70</td>\n",
       "      <td>3</td>\n",
       "      <td>35.714286</td>\n",
       "    </tr>\n",
       "    <tr>\n",
       "      <th>2</th>\n",
       "      <td>29</td>\n",
       "      <td>90</td>\n",
       "      <td>70</td>\n",
       "      <td>8.0</td>\n",
       "      <td>100.0</td>\n",
       "      <td>80</td>\n",
       "      <td>3</td>\n",
       "      <td>22.222222</td>\n",
       "    </tr>\n",
       "    <tr>\n",
       "      <th>3</th>\n",
       "      <td>30</td>\n",
       "      <td>140</td>\n",
       "      <td>85</td>\n",
       "      <td>7.0</td>\n",
       "      <td>98.0</td>\n",
       "      <td>70</td>\n",
       "      <td>3</td>\n",
       "      <td>39.285714</td>\n",
       "    </tr>\n",
       "    <tr>\n",
       "      <th>4</th>\n",
       "      <td>35</td>\n",
       "      <td>120</td>\n",
       "      <td>60</td>\n",
       "      <td>6.1</td>\n",
       "      <td>98.0</td>\n",
       "      <td>76</td>\n",
       "      <td>0</td>\n",
       "      <td>50.000000</td>\n",
       "    </tr>\n",
       "  </tbody>\n",
       "</table>\n",
       "</div>"
      ],
      "text/plain": [
       "   Age  SystolicBP  DiastolicBP  BloodGlucose  BodyTemp  HeartRate  RiskLevel  \\\n",
       "0   25         130           80          15.0      98.0         86          3   \n",
       "1   35         140           90          13.0      98.0         70          3   \n",
       "2   29          90           70           8.0     100.0         80          3   \n",
       "3   30         140           85           7.0      98.0         70          3   \n",
       "4   35         120           60           6.1      98.0         76          0   \n",
       "\n",
       "          PK  \n",
       "0  38.461538  \n",
       "1  35.714286  \n",
       "2  22.222222  \n",
       "3  39.285714  \n",
       "4  50.000000  "
      ]
     },
     "execution_count": 517,
     "metadata": {},
     "output_type": "execute_result"
    }
   ],
   "source": [
    "data_ready = data_ready.assign(PK = (data_ready['SystolicBP'] - data_ready['DiastolicBP'])*100/data_ready['SystolicBP'])\n",
    "data_ready.head()"
   ]
  },
  {
   "cell_type": "markdown",
   "id": "b32997ea",
   "metadata": {},
   "source": [
    "При этом столбец с диастолическим давлением предлагаем удалить"
   ]
  },
  {
   "cell_type": "code",
   "execution_count": 518,
   "id": "4a1bd90a",
   "metadata": {},
   "outputs": [
    {
     "data": {
      "text/html": [
       "<div>\n",
       "<style scoped>\n",
       "    .dataframe tbody tr th:only-of-type {\n",
       "        vertical-align: middle;\n",
       "    }\n",
       "\n",
       "    .dataframe tbody tr th {\n",
       "        vertical-align: top;\n",
       "    }\n",
       "\n",
       "    .dataframe thead th {\n",
       "        text-align: right;\n",
       "    }\n",
       "</style>\n",
       "<table border=\"1\" class=\"dataframe\">\n",
       "  <thead>\n",
       "    <tr style=\"text-align: right;\">\n",
       "      <th></th>\n",
       "      <th>Age</th>\n",
       "      <th>SystolicBP</th>\n",
       "      <th>BloodGlucose</th>\n",
       "      <th>BodyTemp</th>\n",
       "      <th>HeartRate</th>\n",
       "      <th>RiskLevel</th>\n",
       "      <th>PK</th>\n",
       "    </tr>\n",
       "  </thead>\n",
       "  <tbody>\n",
       "    <tr>\n",
       "      <th>0</th>\n",
       "      <td>25</td>\n",
       "      <td>130</td>\n",
       "      <td>15.0</td>\n",
       "      <td>98.0</td>\n",
       "      <td>86</td>\n",
       "      <td>3</td>\n",
       "      <td>38.461538</td>\n",
       "    </tr>\n",
       "    <tr>\n",
       "      <th>1</th>\n",
       "      <td>35</td>\n",
       "      <td>140</td>\n",
       "      <td>13.0</td>\n",
       "      <td>98.0</td>\n",
       "      <td>70</td>\n",
       "      <td>3</td>\n",
       "      <td>35.714286</td>\n",
       "    </tr>\n",
       "    <tr>\n",
       "      <th>2</th>\n",
       "      <td>29</td>\n",
       "      <td>90</td>\n",
       "      <td>8.0</td>\n",
       "      <td>100.0</td>\n",
       "      <td>80</td>\n",
       "      <td>3</td>\n",
       "      <td>22.222222</td>\n",
       "    </tr>\n",
       "    <tr>\n",
       "      <th>3</th>\n",
       "      <td>30</td>\n",
       "      <td>140</td>\n",
       "      <td>7.0</td>\n",
       "      <td>98.0</td>\n",
       "      <td>70</td>\n",
       "      <td>3</td>\n",
       "      <td>39.285714</td>\n",
       "    </tr>\n",
       "    <tr>\n",
       "      <th>4</th>\n",
       "      <td>35</td>\n",
       "      <td>120</td>\n",
       "      <td>6.1</td>\n",
       "      <td>98.0</td>\n",
       "      <td>76</td>\n",
       "      <td>0</td>\n",
       "      <td>50.000000</td>\n",
       "    </tr>\n",
       "    <tr>\n",
       "      <th>...</th>\n",
       "      <td>...</td>\n",
       "      <td>...</td>\n",
       "      <td>...</td>\n",
       "      <td>...</td>\n",
       "      <td>...</td>\n",
       "      <td>...</td>\n",
       "      <td>...</td>\n",
       "    </tr>\n",
       "    <tr>\n",
       "      <th>399</th>\n",
       "      <td>15</td>\n",
       "      <td>100</td>\n",
       "      <td>6.8</td>\n",
       "      <td>99.0</td>\n",
       "      <td>77</td>\n",
       "      <td>0</td>\n",
       "      <td>51.000000</td>\n",
       "    </tr>\n",
       "    <tr>\n",
       "      <th>400</th>\n",
       "      <td>15</td>\n",
       "      <td>100</td>\n",
       "      <td>6.0</td>\n",
       "      <td>99.0</td>\n",
       "      <td>77</td>\n",
       "      <td>0</td>\n",
       "      <td>51.000000</td>\n",
       "    </tr>\n",
       "    <tr>\n",
       "      <th>401</th>\n",
       "      <td>15</td>\n",
       "      <td>100</td>\n",
       "      <td>6.0</td>\n",
       "      <td>98.0</td>\n",
       "      <td>80</td>\n",
       "      <td>0</td>\n",
       "      <td>40.000000</td>\n",
       "    </tr>\n",
       "    <tr>\n",
       "      <th>402</th>\n",
       "      <td>15</td>\n",
       "      <td>100</td>\n",
       "      <td>7.6</td>\n",
       "      <td>98.0</td>\n",
       "      <td>77</td>\n",
       "      <td>0</td>\n",
       "      <td>51.000000</td>\n",
       "    </tr>\n",
       "    <tr>\n",
       "      <th>403</th>\n",
       "      <td>21</td>\n",
       "      <td>100</td>\n",
       "      <td>6.8</td>\n",
       "      <td>98.0</td>\n",
       "      <td>60</td>\n",
       "      <td>0</td>\n",
       "      <td>50.000000</td>\n",
       "    </tr>\n",
       "  </tbody>\n",
       "</table>\n",
       "<p>404 rows × 7 columns</p>\n",
       "</div>"
      ],
      "text/plain": [
       "     Age  SystolicBP  BloodGlucose  BodyTemp  HeartRate  RiskLevel         PK\n",
       "0     25         130          15.0      98.0         86          3  38.461538\n",
       "1     35         140          13.0      98.0         70          3  35.714286\n",
       "2     29          90           8.0     100.0         80          3  22.222222\n",
       "3     30         140           7.0      98.0         70          3  39.285714\n",
       "4     35         120           6.1      98.0         76          0  50.000000\n",
       "..   ...         ...           ...       ...        ...        ...        ...\n",
       "399   15         100           6.8      99.0         77          0  51.000000\n",
       "400   15         100           6.0      99.0         77          0  51.000000\n",
       "401   15         100           6.0      98.0         80          0  40.000000\n",
       "402   15         100           7.6      98.0         77          0  51.000000\n",
       "403   21         100           6.8      98.0         60          0  50.000000\n",
       "\n",
       "[404 rows x 7 columns]"
      ]
     },
     "execution_count": 518,
     "metadata": {},
     "output_type": "execute_result"
    }
   ],
   "source": [
    "data_ready = data_ready.drop(['DiastolicBP'], axis=1)\n",
    "data_ready"
   ]
  },
  {
   "cell_type": "markdown",
   "id": "371250ea",
   "metadata": {},
   "source": [
    "#### Создадим новые признаки для столбцов возраст, уровень глюкозы, систолическое давление и частота сердечных сокращений"
   ]
  },
  {
   "cell_type": "markdown",
   "id": "d924adc1",
   "metadata": {},
   "source": [
    "Новый признак - интервал для возраста"
   ]
  },
  {
   "cell_type": "code",
   "execution_count": 519,
   "id": "c6f5d360",
   "metadata": {},
   "outputs": [
    {
     "data": {
      "text/plain": [
       "[(23.0, 29.0], (29.0, 39.0], (18.6, 23.0], (39.0, 59.0], (12.999, 18.6]]\n",
       "Categories (5, interval[float64, right]): [(12.999, 18.6] < (18.6, 23.0] < (23.0, 29.0] < (29.0, 39.0] < (39.0, 59.0]]"
      ]
     },
     "execution_count": 519,
     "metadata": {},
     "output_type": "execute_result"
    }
   ],
   "source": [
    "data_ready['AgeBin'] = pd.qcut(data_ready['Age'],\n",
    "                          q=5,duplicates='drop')\n",
    "data_ready['AgeBin'].unique()"
   ]
  },
  {
   "cell_type": "code",
   "execution_count": 520,
   "id": "59ad5cdd",
   "metadata": {},
   "outputs": [],
   "source": [
    "data_ready['AgeBin'] = pd.qcut(data_ready['Age'], 4, labels=[1, 2, 3, 4], duplicates='drop')"
   ]
  },
  {
   "cell_type": "markdown",
   "id": "b0a7a0e5",
   "metadata": {},
   "source": [
    "Новый признак - интервал для частоты сердечных сокращений"
   ]
  },
  {
   "cell_type": "code",
   "execution_count": 521,
   "id": "327e2b81",
   "metadata": {},
   "outputs": [
    {
     "data": {
      "text/plain": [
       "[(80.0, 90.0], (59.999, 70.0], (77.0, 80.0], (70.0, 77.0]]\n",
       "Categories (4, interval[float64, right]): [(59.999, 70.0] < (70.0, 77.0] < (77.0, 80.0] < (80.0, 90.0]]"
      ]
     },
     "execution_count": 521,
     "metadata": {},
     "output_type": "execute_result"
    }
   ],
   "source": [
    "data_ready['HartRateBin'] = pd.qcut(data_ready['HeartRate'],\n",
    "                          q=5,duplicates='drop')\n",
    "data_ready['HartRateBin'].unique()"
   ]
  },
  {
   "cell_type": "code",
   "execution_count": 522,
   "id": "d2594954",
   "metadata": {},
   "outputs": [],
   "source": [
    "data_ready['HartRateBin'] = pd.qcut(data_ready['HeartRate'], 4, labels=[1, 2, 3, 4], duplicates='drop')"
   ]
  },
  {
   "cell_type": "markdown",
   "id": "b75eb7bc",
   "metadata": {},
   "source": [
    "Новый признак - интервал для уровня глюкозы"
   ]
  },
  {
   "cell_type": "code",
   "execution_count": 523,
   "id": "dd629937",
   "metadata": {},
   "outputs": [
    {
     "data": {
      "text/plain": [
       "[(8.0, 19.0], (7.5, 8.0], (6.9, 7.028], (5.999, 6.9], (7.028, 7.5]]\n",
       "Categories (5, interval[float64, right]): [(5.999, 6.9] < (6.9, 7.028] < (7.028, 7.5] < (7.5, 8.0] < (8.0, 19.0]]"
      ]
     },
     "execution_count": 523,
     "metadata": {},
     "output_type": "execute_result"
    }
   ],
   "source": [
    "data_ready['BloodGlucoseBin'] = pd.qcut(data_ready['BloodGlucose'],\n",
    "                          q=5,duplicates='drop')\n",
    "data_ready['BloodGlucoseBin'].unique()"
   ]
  },
  {
   "cell_type": "code",
   "execution_count": 524,
   "id": "df43df47",
   "metadata": {},
   "outputs": [],
   "source": [
    "data_ready['BloodGlucoseBin'] = pd.qcut(data_ready['BloodGlucose'], 4, labels=[1, 2, 3, 4], duplicates='drop')"
   ]
  },
  {
   "cell_type": "markdown",
   "id": "99e10770",
   "metadata": {},
   "source": [
    "Новый признак - интервал для систолического давления"
   ]
  },
  {
   "cell_type": "code",
   "execution_count": 525,
   "id": "e94a52e5",
   "metadata": {},
   "outputs": [
    {
     "data": {
      "text/plain": [
       "[(120.0, 160.0], (69.999, 90.0], (110.0, 120.0], (90.0, 110.0]]\n",
       "Categories (4, interval[float64, right]): [(69.999, 90.0] < (90.0, 110.0] < (110.0, 120.0] < (120.0, 160.0]]"
      ]
     },
     "execution_count": 525,
     "metadata": {},
     "output_type": "execute_result"
    }
   ],
   "source": [
    "data_ready['SystolicBPBin'] = pd.qcut(data_ready['SystolicBP'],\n",
    "                          q=5,duplicates='drop')\n",
    "data_ready['SystolicBPBin'].unique()"
   ]
  },
  {
   "cell_type": "code",
   "execution_count": 526,
   "id": "01e3f4cb",
   "metadata": {},
   "outputs": [],
   "source": [
    "data_ready['SystolicBPBin'] = pd.qcut(data_ready['SystolicBP'], 3, labels=[1, 2, 3], duplicates='drop')"
   ]
  },
  {
   "cell_type": "markdown",
   "id": "df3d43ed",
   "metadata": {},
   "source": [
    "Новый признак - интервал для температуры тела"
   ]
  },
  {
   "cell_type": "code",
   "execution_count": 527,
   "id": "2798fadd",
   "metadata": {},
   "outputs": [
    {
     "data": {
      "text/plain": [
       "[(97.995, 99.667], (99.667, 101.333], (101.333, 103.0]]\n",
       "Categories (3, interval[float64, right]): [(97.995, 99.667] < (99.667, 101.333] < (101.333, 103.0]]"
      ]
     },
     "execution_count": 527,
     "metadata": {},
     "output_type": "execute_result"
    }
   ],
   "source": [
    "data_ready['BodyTempBin'] = pd.cut(data_ready['BodyTemp'],\n",
    "                          duplicates='drop', bins=3)\n",
    "data_ready['BodyTempBin'].unique()"
   ]
  },
  {
   "cell_type": "code",
   "execution_count": 528,
   "id": "58e56d47",
   "metadata": {},
   "outputs": [],
   "source": [
    "data_ready['BodyTempBin'] = pd.cut(data_ready['BodyTemp'], 2, labels=[1, 2], duplicates='drop')"
   ]
  },
  {
   "cell_type": "markdown",
   "id": "d64f2d97",
   "metadata": {},
   "source": [
    "Новый признак - интервал для коэфициента давления"
   ]
  },
  {
   "cell_type": "code",
   "execution_count": 529,
   "id": "3eab83b7",
   "metadata": {},
   "outputs": [
    {
     "data": {
      "text/plain": [
       "[(35.58, 55.6], (9.999, 25.0], (25.0, 29.4], (29.4, 33.3], (33.3, 35.58]]\n",
       "Categories (5, interval[float64, right]): [(9.999, 25.0] < (25.0, 29.4] < (29.4, 33.3] < (33.3, 35.58] < (35.58, 55.6]]"
      ]
     },
     "execution_count": 529,
     "metadata": {},
     "output_type": "execute_result"
    }
   ],
   "source": [
    "data_ready['PKBin'] = pd.qcut(data_ready['PK'].round(1),\n",
    "                          q=5,duplicates='drop')\n",
    "data_ready['PKBin'].unique()"
   ]
  },
  {
   "cell_type": "code",
   "execution_count": 530,
   "id": "244201fd",
   "metadata": {},
   "outputs": [],
   "source": [
    "data_ready['PKBin'] = pd.cut(data_ready['PK'], 5, labels=[1, 2, 3, 4, 5], duplicates='drop')"
   ]
  },
  {
   "cell_type": "code",
   "execution_count": 531,
   "id": "16f41a22",
   "metadata": {},
   "outputs": [
    {
     "data": {
      "text/html": [
       "<div>\n",
       "<style scoped>\n",
       "    .dataframe tbody tr th:only-of-type {\n",
       "        vertical-align: middle;\n",
       "    }\n",
       "\n",
       "    .dataframe tbody tr th {\n",
       "        vertical-align: top;\n",
       "    }\n",
       "\n",
       "    .dataframe thead th {\n",
       "        text-align: right;\n",
       "    }\n",
       "</style>\n",
       "<table border=\"1\" class=\"dataframe\">\n",
       "  <thead>\n",
       "    <tr style=\"text-align: right;\">\n",
       "      <th></th>\n",
       "      <th>Age</th>\n",
       "      <th>SystolicBP</th>\n",
       "      <th>BloodGlucose</th>\n",
       "      <th>BodyTemp</th>\n",
       "      <th>HeartRate</th>\n",
       "      <th>RiskLevel</th>\n",
       "      <th>PK</th>\n",
       "      <th>AgeBin</th>\n",
       "      <th>HartRateBin</th>\n",
       "      <th>BloodGlucoseBin</th>\n",
       "      <th>SystolicBPBin</th>\n",
       "      <th>BodyTempBin</th>\n",
       "      <th>PKBin</th>\n",
       "    </tr>\n",
       "  </thead>\n",
       "  <tbody>\n",
       "    <tr>\n",
       "      <th>0</th>\n",
       "      <td>25</td>\n",
       "      <td>130</td>\n",
       "      <td>15.0</td>\n",
       "      <td>98.0</td>\n",
       "      <td>86</td>\n",
       "      <td>3</td>\n",
       "      <td>38.461538</td>\n",
       "      <td>2</td>\n",
       "      <td>4</td>\n",
       "      <td>4</td>\n",
       "      <td>3</td>\n",
       "      <td>1</td>\n",
       "      <td>4</td>\n",
       "    </tr>\n",
       "    <tr>\n",
       "      <th>1</th>\n",
       "      <td>35</td>\n",
       "      <td>140</td>\n",
       "      <td>13.0</td>\n",
       "      <td>98.0</td>\n",
       "      <td>70</td>\n",
       "      <td>3</td>\n",
       "      <td>35.714286</td>\n",
       "      <td>3</td>\n",
       "      <td>1</td>\n",
       "      <td>4</td>\n",
       "      <td>3</td>\n",
       "      <td>1</td>\n",
       "      <td>3</td>\n",
       "    </tr>\n",
       "    <tr>\n",
       "      <th>2</th>\n",
       "      <td>29</td>\n",
       "      <td>90</td>\n",
       "      <td>8.0</td>\n",
       "      <td>100.0</td>\n",
       "      <td>80</td>\n",
       "      <td>3</td>\n",
       "      <td>22.222222</td>\n",
       "      <td>3</td>\n",
       "      <td>3</td>\n",
       "      <td>4</td>\n",
       "      <td>1</td>\n",
       "      <td>1</td>\n",
       "      <td>2</td>\n",
       "    </tr>\n",
       "    <tr>\n",
       "      <th>3</th>\n",
       "      <td>30</td>\n",
       "      <td>140</td>\n",
       "      <td>7.0</td>\n",
       "      <td>98.0</td>\n",
       "      <td>70</td>\n",
       "      <td>3</td>\n",
       "      <td>39.285714</td>\n",
       "      <td>3</td>\n",
       "      <td>1</td>\n",
       "      <td>2</td>\n",
       "      <td>3</td>\n",
       "      <td>1</td>\n",
       "      <td>4</td>\n",
       "    </tr>\n",
       "    <tr>\n",
       "      <th>4</th>\n",
       "      <td>35</td>\n",
       "      <td>120</td>\n",
       "      <td>6.1</td>\n",
       "      <td>98.0</td>\n",
       "      <td>76</td>\n",
       "      <td>0</td>\n",
       "      <td>50.000000</td>\n",
       "      <td>3</td>\n",
       "      <td>2</td>\n",
       "      <td>1</td>\n",
       "      <td>2</td>\n",
       "      <td>1</td>\n",
       "      <td>5</td>\n",
       "    </tr>\n",
       "    <tr>\n",
       "      <th>...</th>\n",
       "      <td>...</td>\n",
       "      <td>...</td>\n",
       "      <td>...</td>\n",
       "      <td>...</td>\n",
       "      <td>...</td>\n",
       "      <td>...</td>\n",
       "      <td>...</td>\n",
       "      <td>...</td>\n",
       "      <td>...</td>\n",
       "      <td>...</td>\n",
       "      <td>...</td>\n",
       "      <td>...</td>\n",
       "      <td>...</td>\n",
       "    </tr>\n",
       "    <tr>\n",
       "      <th>399</th>\n",
       "      <td>15</td>\n",
       "      <td>100</td>\n",
       "      <td>6.8</td>\n",
       "      <td>99.0</td>\n",
       "      <td>77</td>\n",
       "      <td>0</td>\n",
       "      <td>51.000000</td>\n",
       "      <td>1</td>\n",
       "      <td>3</td>\n",
       "      <td>1</td>\n",
       "      <td>1</td>\n",
       "      <td>1</td>\n",
       "      <td>5</td>\n",
       "    </tr>\n",
       "    <tr>\n",
       "      <th>400</th>\n",
       "      <td>15</td>\n",
       "      <td>100</td>\n",
       "      <td>6.0</td>\n",
       "      <td>99.0</td>\n",
       "      <td>77</td>\n",
       "      <td>0</td>\n",
       "      <td>51.000000</td>\n",
       "      <td>1</td>\n",
       "      <td>3</td>\n",
       "      <td>1</td>\n",
       "      <td>1</td>\n",
       "      <td>1</td>\n",
       "      <td>5</td>\n",
       "    </tr>\n",
       "    <tr>\n",
       "      <th>401</th>\n",
       "      <td>15</td>\n",
       "      <td>100</td>\n",
       "      <td>6.0</td>\n",
       "      <td>98.0</td>\n",
       "      <td>80</td>\n",
       "      <td>0</td>\n",
       "      <td>40.000000</td>\n",
       "      <td>1</td>\n",
       "      <td>3</td>\n",
       "      <td>1</td>\n",
       "      <td>1</td>\n",
       "      <td>1</td>\n",
       "      <td>4</td>\n",
       "    </tr>\n",
       "    <tr>\n",
       "      <th>402</th>\n",
       "      <td>15</td>\n",
       "      <td>100</td>\n",
       "      <td>7.6</td>\n",
       "      <td>98.0</td>\n",
       "      <td>77</td>\n",
       "      <td>0</td>\n",
       "      <td>51.000000</td>\n",
       "      <td>1</td>\n",
       "      <td>3</td>\n",
       "      <td>3</td>\n",
       "      <td>1</td>\n",
       "      <td>1</td>\n",
       "      <td>5</td>\n",
       "    </tr>\n",
       "    <tr>\n",
       "      <th>403</th>\n",
       "      <td>21</td>\n",
       "      <td>100</td>\n",
       "      <td>6.8</td>\n",
       "      <td>98.0</td>\n",
       "      <td>60</td>\n",
       "      <td>0</td>\n",
       "      <td>50.000000</td>\n",
       "      <td>2</td>\n",
       "      <td>1</td>\n",
       "      <td>1</td>\n",
       "      <td>1</td>\n",
       "      <td>1</td>\n",
       "      <td>5</td>\n",
       "    </tr>\n",
       "  </tbody>\n",
       "</table>\n",
       "<p>404 rows × 13 columns</p>\n",
       "</div>"
      ],
      "text/plain": [
       "     Age  SystolicBP  BloodGlucose  BodyTemp  HeartRate  RiskLevel         PK  \\\n",
       "0     25         130          15.0      98.0         86          3  38.461538   \n",
       "1     35         140          13.0      98.0         70          3  35.714286   \n",
       "2     29          90           8.0     100.0         80          3  22.222222   \n",
       "3     30         140           7.0      98.0         70          3  39.285714   \n",
       "4     35         120           6.1      98.0         76          0  50.000000   \n",
       "..   ...         ...           ...       ...        ...        ...        ...   \n",
       "399   15         100           6.8      99.0         77          0  51.000000   \n",
       "400   15         100           6.0      99.0         77          0  51.000000   \n",
       "401   15         100           6.0      98.0         80          0  40.000000   \n",
       "402   15         100           7.6      98.0         77          0  51.000000   \n",
       "403   21         100           6.8      98.0         60          0  50.000000   \n",
       "\n",
       "    AgeBin HartRateBin BloodGlucoseBin SystolicBPBin BodyTempBin PKBin  \n",
       "0        2           4               4             3           1     4  \n",
       "1        3           1               4             3           1     3  \n",
       "2        3           3               4             1           1     2  \n",
       "3        3           1               2             3           1     4  \n",
       "4        3           2               1             2           1     5  \n",
       "..     ...         ...             ...           ...         ...   ...  \n",
       "399      1           3               1             1           1     5  \n",
       "400      1           3               1             1           1     5  \n",
       "401      1           3               1             1           1     4  \n",
       "402      1           3               3             1           1     5  \n",
       "403      2           1               1             1           1     5  \n",
       "\n",
       "[404 rows x 13 columns]"
      ]
     },
     "execution_count": 531,
     "metadata": {},
     "output_type": "execute_result"
    }
   ],
   "source": [
    "data_ready"
   ]
  },
  {
   "cell_type": "markdown",
   "id": "0afbccb1",
   "metadata": {},
   "source": [
    "### Промежуточные выводы"
   ]
  },
  {
   "cell_type": "markdown",
   "id": "90827d69",
   "metadata": {},
   "source": [
    "Нами открыты и изучены представленные данные: \n",
    "- изучены выпадающие значения,\n",
    "- преобразованы целевые данные,\n",
    "- проверены типы данных,\n",
    "- выявлен дисбаланс классов,\n",
    "- удалены явные дубликаты,\n",
    "- изучина корреляция признаков, обнаружена мультиколлинеарность, в связи с чем, один из признако (диастолическое давление) исключен,\n",
    "- сгенерированы новые признаки, в том числе интервальные"
   ]
  },
  {
   "cell_type": "markdown",
   "id": "d712c721",
   "metadata": {},
   "source": [
    "## Обучение моделей"
   ]
  },
  {
   "cell_type": "markdown",
   "id": "b5ddbf23",
   "metadata": {},
   "source": [
    "### Определим целевой признак и разделим данные на выборки для обучения моделей:"
   ]
  },
  {
   "cell_type": "markdown",
   "id": "656bb1ac",
   "metadata": {},
   "source": [
    "Выделим целевой признак"
   ]
  },
  {
   "cell_type": "code",
   "execution_count": 532,
   "id": "560d3475",
   "metadata": {},
   "outputs": [],
   "source": [
    "x_data = data_ready.drop(['RiskLevel'], axis=1)\n",
    "y_data = data_ready['RiskLevel']"
   ]
  },
  {
   "cell_type": "markdown",
   "id": "d2976fbf",
   "metadata": {},
   "source": [
    "Разобьем данные на выборки"
   ]
  },
  {
   "cell_type": "code",
   "execution_count": 533,
   "id": "0e112d2d",
   "metadata": {},
   "outputs": [],
   "source": [
    "x, y = x_data, y_data\n",
    "\n",
    "x_train, x_test, y_train, y_test = train_test_split(x_data, y_data, \n",
    "                                                    train_size=0.7, \n",
    "                                                    random_state=12345,\n",
    "                                                    stratify=y,\n",
    "                                                   shuffle=True)"
   ]
  },
  {
   "cell_type": "code",
   "execution_count": 534,
   "id": "556c1266",
   "metadata": {},
   "outputs": [],
   "source": [
    "x_test, x_val, y_test, y_val = train_test_split(x_test, y_test, \n",
    "                                                    train_size=0.5, \n",
    "                                                    random_state=12345,\n",
    "                                                    stratify=y_test,\n",
    "                                               shuffle = True)"
   ]
  },
  {
   "cell_type": "code",
   "execution_count": 535,
   "id": "136fe5b7",
   "metadata": {},
   "outputs": [
    {
     "data": {
      "text/plain": [
       "(282, 12)"
      ]
     },
     "execution_count": 535,
     "metadata": {},
     "output_type": "execute_result"
    }
   ],
   "source": [
    "x_train.shape"
   ]
  },
  {
   "cell_type": "code",
   "execution_count": 536,
   "id": "2fc6a9b5",
   "metadata": {},
   "outputs": [
    {
     "data": {
      "text/plain": [
       "(282,)"
      ]
     },
     "execution_count": 536,
     "metadata": {},
     "output_type": "execute_result"
    }
   ],
   "source": [
    "y_train.shape"
   ]
  },
  {
   "cell_type": "code",
   "execution_count": 537,
   "id": "7887907a",
   "metadata": {},
   "outputs": [
    {
     "data": {
      "text/plain": [
       "(61, 12)"
      ]
     },
     "execution_count": 537,
     "metadata": {},
     "output_type": "execute_result"
    }
   ],
   "source": [
    "x_test.shape"
   ]
  },
  {
   "cell_type": "code",
   "execution_count": 538,
   "id": "f35bd69c",
   "metadata": {},
   "outputs": [
    {
     "data": {
      "text/plain": [
       "(61,)"
      ]
     },
     "execution_count": 538,
     "metadata": {},
     "output_type": "execute_result"
    }
   ],
   "source": [
    "y_test.shape"
   ]
  },
  {
   "cell_type": "code",
   "execution_count": 539,
   "id": "31758a85",
   "metadata": {},
   "outputs": [
    {
     "data": {
      "text/plain": [
       "(61, 12)"
      ]
     },
     "execution_count": 539,
     "metadata": {},
     "output_type": "execute_result"
    }
   ],
   "source": [
    "x_val.shape"
   ]
  },
  {
   "cell_type": "code",
   "execution_count": 540,
   "id": "8383e6d5",
   "metadata": {},
   "outputs": [
    {
     "data": {
      "text/plain": [
       "(61,)"
      ]
     },
     "execution_count": 540,
     "metadata": {},
     "output_type": "execute_result"
    }
   ],
   "source": [
    "y_val.shape"
   ]
  },
  {
   "cell_type": "markdown",
   "id": "309b1501",
   "metadata": {},
   "source": [
    "Таким образовм у нас получится 3 выборки: две по 15 процентов - тестовая и валидационная, и 70 процентов - тренировочная."
   ]
  },
  {
   "cell_type": "markdown",
   "id": "7f7aee68",
   "metadata": {},
   "source": [
    "### Обучение модели RandomForestClassifier"
   ]
  },
  {
   "cell_type": "code",
   "execution_count": 541,
   "id": "c05fad46",
   "metadata": {},
   "outputs": [
    {
     "name": "stdout",
     "output_type": "stream",
     "text": [
      "Accuracy score: 0.7868852459016393\n"
     ]
    }
   ],
   "source": [
    "rfc = RandomForestClassifier(n_estimators=200, class_weight='balanced')\n",
    "rfc.fit(x_train, y_train)\n",
    "\n",
    "rfc_predict = rfc.predict(x_val)\n",
    "print('Accuracy score:',accuracy_score(y_val, rfc_predict))"
   ]
  },
  {
   "cell_type": "code",
   "execution_count": 542,
   "id": "ea350fac",
   "metadata": {},
   "outputs": [
    {
     "name": "stdout",
     "output_type": "stream",
     "text": [
      "              precision    recall  f1-score   support\n",
      "\n",
      "           0       0.76      0.90      0.82        31\n",
      "           1       0.64      0.47      0.54        15\n",
      "           3       1.00      0.87      0.93        15\n",
      "\n",
      "    accuracy                           0.79        61\n",
      "   macro avg       0.80      0.75      0.76        61\n",
      "weighted avg       0.79      0.79      0.78        61\n",
      "\n"
     ]
    }
   ],
   "source": [
    "print(classification_report(y_val, rfc_predict))"
   ]
  },
  {
   "cell_type": "markdown",
   "id": "92a33f65",
   "metadata": {},
   "source": [
    "#### Подберем гиперпараметры, используя автоматический подбор"
   ]
  },
  {
   "cell_type": "markdown",
   "id": "26e4d47e",
   "metadata": {},
   "source": [
    "##### Разобьем данные на 2 выборки - тренировочную и тестовую"
   ]
  },
  {
   "cell_type": "code",
   "execution_count": 543,
   "id": "e9a305af",
   "metadata": {},
   "outputs": [],
   "source": [
    "x_train_grid, x_test_grid, y_train_grid, y_test_grid = train_test_split(x_data, y_data, \n",
    "                                                    train_size=0.75, \n",
    "                                                    random_state=12345,\n",
    "                                                    stratify=y_data)"
   ]
  },
  {
   "cell_type": "code",
   "execution_count": 544,
   "id": "d81ea056",
   "metadata": {},
   "outputs": [
    {
     "data": {
      "text/plain": [
       "(303, 12)"
      ]
     },
     "execution_count": 544,
     "metadata": {},
     "output_type": "execute_result"
    }
   ],
   "source": [
    "x_train_grid.shape"
   ]
  },
  {
   "cell_type": "code",
   "execution_count": 545,
   "id": "68d92e62",
   "metadata": {},
   "outputs": [
    {
     "data": {
      "text/plain": [
       "(101, 12)"
      ]
     },
     "execution_count": 545,
     "metadata": {},
     "output_type": "execute_result"
    }
   ],
   "source": [
    "x_test_grid.shape"
   ]
  },
  {
   "cell_type": "code",
   "execution_count": 546,
   "id": "73536674",
   "metadata": {},
   "outputs": [
    {
     "data": {
      "text/plain": [
       "(303,)"
      ]
     },
     "execution_count": 546,
     "metadata": {},
     "output_type": "execute_result"
    }
   ],
   "source": [
    "y_train_grid.shape"
   ]
  },
  {
   "cell_type": "code",
   "execution_count": 547,
   "id": "a6487072",
   "metadata": {},
   "outputs": [
    {
     "data": {
      "text/plain": [
       "(101,)"
      ]
     },
     "execution_count": 547,
     "metadata": {},
     "output_type": "execute_result"
    }
   ],
   "source": [
    "y_test_grid.shape"
   ]
  },
  {
   "cell_type": "markdown",
   "id": "cba95caf",
   "metadata": {},
   "source": [
    "##### Построим модель model_random_forest GS"
   ]
  },
  {
   "cell_type": "code",
   "execution_count": 548,
   "id": "7ab1502e",
   "metadata": {},
   "outputs": [],
   "source": [
    "model_random_forest = RandomForestClassifier(random_state=12345, class_weight='balanced')"
   ]
  },
  {
   "cell_type": "code",
   "execution_count": 549,
   "id": "bf07b36f",
   "metadata": {},
   "outputs": [],
   "source": [
    "parametrs_random_forest = {'n_estimators': [100, 150],\n",
    "                          'max_depth': range (1,11),\\\n",
    "                          'min_samples_leaf': range (7,8),\\\n",
    "                           'min_samples_split': range (2,3)}"
   ]
  },
  {
   "cell_type": "code",
   "execution_count": 550,
   "id": "ff00d427",
   "metadata": {},
   "outputs": [
    {
     "name": "stdout",
     "output_type": "stream",
     "text": [
      "CPU times: total: 17.9 s\n",
      "Wall time: 17.9 s\n"
     ]
    },
    {
     "data": {
      "text/html": [
       "<style>#sk-container-id-12 {color: black;background-color: white;}#sk-container-id-12 pre{padding: 0;}#sk-container-id-12 div.sk-toggleable {background-color: white;}#sk-container-id-12 label.sk-toggleable__label {cursor: pointer;display: block;width: 100%;margin-bottom: 0;padding: 0.3em;box-sizing: border-box;text-align: center;}#sk-container-id-12 label.sk-toggleable__label-arrow:before {content: \"▸\";float: left;margin-right: 0.25em;color: #696969;}#sk-container-id-12 label.sk-toggleable__label-arrow:hover:before {color: black;}#sk-container-id-12 div.sk-estimator:hover label.sk-toggleable__label-arrow:before {color: black;}#sk-container-id-12 div.sk-toggleable__content {max-height: 0;max-width: 0;overflow: hidden;text-align: left;background-color: #f0f8ff;}#sk-container-id-12 div.sk-toggleable__content pre {margin: 0.2em;color: black;border-radius: 0.25em;background-color: #f0f8ff;}#sk-container-id-12 input.sk-toggleable__control:checked~div.sk-toggleable__content {max-height: 200px;max-width: 100%;overflow: auto;}#sk-container-id-12 input.sk-toggleable__control:checked~label.sk-toggleable__label-arrow:before {content: \"▾\";}#sk-container-id-12 div.sk-estimator input.sk-toggleable__control:checked~label.sk-toggleable__label {background-color: #d4ebff;}#sk-container-id-12 div.sk-label input.sk-toggleable__control:checked~label.sk-toggleable__label {background-color: #d4ebff;}#sk-container-id-12 input.sk-hidden--visually {border: 0;clip: rect(1px 1px 1px 1px);clip: rect(1px, 1px, 1px, 1px);height: 1px;margin: -1px;overflow: hidden;padding: 0;position: absolute;width: 1px;}#sk-container-id-12 div.sk-estimator {font-family: monospace;background-color: #f0f8ff;border: 1px dotted black;border-radius: 0.25em;box-sizing: border-box;margin-bottom: 0.5em;}#sk-container-id-12 div.sk-estimator:hover {background-color: #d4ebff;}#sk-container-id-12 div.sk-parallel-item::after {content: \"\";width: 100%;border-bottom: 1px solid gray;flex-grow: 1;}#sk-container-id-12 div.sk-label:hover label.sk-toggleable__label {background-color: #d4ebff;}#sk-container-id-12 div.sk-serial::before {content: \"\";position: absolute;border-left: 1px solid gray;box-sizing: border-box;top: 0;bottom: 0;left: 50%;z-index: 0;}#sk-container-id-12 div.sk-serial {display: flex;flex-direction: column;align-items: center;background-color: white;padding-right: 0.2em;padding-left: 0.2em;position: relative;}#sk-container-id-12 div.sk-item {position: relative;z-index: 1;}#sk-container-id-12 div.sk-parallel {display: flex;align-items: stretch;justify-content: center;background-color: white;position: relative;}#sk-container-id-12 div.sk-item::before, #sk-container-id-12 div.sk-parallel-item::before {content: \"\";position: absolute;border-left: 1px solid gray;box-sizing: border-box;top: 0;bottom: 0;left: 50%;z-index: -1;}#sk-container-id-12 div.sk-parallel-item {display: flex;flex-direction: column;z-index: 1;position: relative;background-color: white;}#sk-container-id-12 div.sk-parallel-item:first-child::after {align-self: flex-end;width: 50%;}#sk-container-id-12 div.sk-parallel-item:last-child::after {align-self: flex-start;width: 50%;}#sk-container-id-12 div.sk-parallel-item:only-child::after {width: 0;}#sk-container-id-12 div.sk-dashed-wrapped {border: 1px dashed gray;margin: 0 0.4em 0.5em 0.4em;box-sizing: border-box;padding-bottom: 0.4em;background-color: white;}#sk-container-id-12 div.sk-label label {font-family: monospace;font-weight: bold;display: inline-block;line-height: 1.2em;}#sk-container-id-12 div.sk-label-container {text-align: center;}#sk-container-id-12 div.sk-container {/* jupyter's `normalize.less` sets `[hidden] { display: none; }` but bootstrap.min.css set `[hidden] { display: none !important; }` so we also need the `!important` here to be able to override the default hidden behavior on the sphinx rendered scikit-learn.org. See: https://github.com/scikit-learn/scikit-learn/issues/21755 */display: inline-block !important;position: relative;}#sk-container-id-12 div.sk-text-repr-fallback {display: none;}</style><div id=\"sk-container-id-12\" class=\"sk-top-container\"><div class=\"sk-text-repr-fallback\"><pre>GridSearchCV(cv=5,\n",
       "             estimator=RandomForestClassifier(class_weight=&#x27;balanced&#x27;,\n",
       "                                              random_state=12345),\n",
       "             param_grid={&#x27;max_depth&#x27;: range(1, 11),\n",
       "                         &#x27;min_samples_leaf&#x27;: range(7, 8),\n",
       "                         &#x27;min_samples_split&#x27;: range(2, 3),\n",
       "                         &#x27;n_estimators&#x27;: [100, 150]})</pre><b>In a Jupyter environment, please rerun this cell to show the HTML representation or trust the notebook. <br />On GitHub, the HTML representation is unable to render, please try loading this page with nbviewer.org.</b></div><div class=\"sk-container\" hidden><div class=\"sk-item sk-dashed-wrapped\"><div class=\"sk-label-container\"><div class=\"sk-label sk-toggleable\"><input class=\"sk-toggleable__control sk-hidden--visually\" id=\"sk-estimator-id-30\" type=\"checkbox\" ><label for=\"sk-estimator-id-30\" class=\"sk-toggleable__label sk-toggleable__label-arrow\">GridSearchCV</label><div class=\"sk-toggleable__content\"><pre>GridSearchCV(cv=5,\n",
       "             estimator=RandomForestClassifier(class_weight=&#x27;balanced&#x27;,\n",
       "                                              random_state=12345),\n",
       "             param_grid={&#x27;max_depth&#x27;: range(1, 11),\n",
       "                         &#x27;min_samples_leaf&#x27;: range(7, 8),\n",
       "                         &#x27;min_samples_split&#x27;: range(2, 3),\n",
       "                         &#x27;n_estimators&#x27;: [100, 150]})</pre></div></div></div><div class=\"sk-parallel\"><div class=\"sk-parallel-item\"><div class=\"sk-item\"><div class=\"sk-label-container\"><div class=\"sk-label sk-toggleable\"><input class=\"sk-toggleable__control sk-hidden--visually\" id=\"sk-estimator-id-31\" type=\"checkbox\" ><label for=\"sk-estimator-id-31\" class=\"sk-toggleable__label sk-toggleable__label-arrow\">estimator: RandomForestClassifier</label><div class=\"sk-toggleable__content\"><pre>RandomForestClassifier(class_weight=&#x27;balanced&#x27;, random_state=12345)</pre></div></div></div><div class=\"sk-serial\"><div class=\"sk-item\"><div class=\"sk-estimator sk-toggleable\"><input class=\"sk-toggleable__control sk-hidden--visually\" id=\"sk-estimator-id-32\" type=\"checkbox\" ><label for=\"sk-estimator-id-32\" class=\"sk-toggleable__label sk-toggleable__label-arrow\">RandomForestClassifier</label><div class=\"sk-toggleable__content\"><pre>RandomForestClassifier(class_weight=&#x27;balanced&#x27;, random_state=12345)</pre></div></div></div></div></div></div></div></div></div></div>"
      ],
      "text/plain": [
       "GridSearchCV(cv=5,\n",
       "             estimator=RandomForestClassifier(class_weight='balanced',\n",
       "                                              random_state=12345),\n",
       "             param_grid={'max_depth': range(1, 11),\n",
       "                         'min_samples_leaf': range(7, 8),\n",
       "                         'min_samples_split': range(2, 3),\n",
       "                         'n_estimators': [100, 150]})"
      ]
     },
     "execution_count": 550,
     "metadata": {},
     "output_type": "execute_result"
    }
   ],
   "source": [
    "%%time\n",
    "grid_random_forest = GridSearchCV(model_random_forest, parametrs_random_forest, cv=5)\n",
    "grid_random_forest.fit(x_train_grid, y_train_grid)"
   ]
  },
  {
   "cell_type": "code",
   "execution_count": 551,
   "id": "d8e293e7",
   "metadata": {},
   "outputs": [
    {
     "data": {
      "text/plain": [
       "{'max_depth': 2,\n",
       " 'min_samples_leaf': 7,\n",
       " 'min_samples_split': 2,\n",
       " 'n_estimators': 150}"
      ]
     },
     "execution_count": 551,
     "metadata": {},
     "output_type": "execute_result"
    }
   ],
   "source": [
    "best_parametres_r_f=grid_random_forest.best_params_\n",
    "best_parametres_r_f"
   ]
  },
  {
   "cell_type": "code",
   "execution_count": 552,
   "id": "0003badd",
   "metadata": {},
   "outputs": [
    {
     "data": {
      "text/plain": [
       "0.7357923497267759"
      ]
     },
     "execution_count": 552,
     "metadata": {},
     "output_type": "execute_result"
    }
   ],
   "source": [
    "grid_random_forest.best_score_"
   ]
  },
  {
   "cell_type": "markdown",
   "id": "2820590c",
   "metadata": {},
   "source": [
    "Таким образом, доля правильных ответов модели случайный лес с указанными гиперпараметрами составляет 0.72."
   ]
  },
  {
   "cell_type": "code",
   "execution_count": 553,
   "id": "d44e639f",
   "metadata": {},
   "outputs": [
    {
     "name": "stdout",
     "output_type": "stream",
     "text": [
      "              precision    recall  f1-score   support\n",
      "\n",
      "           0       0.70      0.96      0.81        52\n",
      "           1       0.80      0.17      0.28        24\n",
      "           3       0.80      0.80      0.80        25\n",
      "\n",
      "    accuracy                           0.73       101\n",
      "   macro avg       0.77      0.64      0.63       101\n",
      "weighted avg       0.75      0.73      0.68       101\n",
      "\n"
     ]
    }
   ],
   "source": [
    "print(classification_report(y_test_grid, grid_random_forest.best_estimator_.predict(x_test_grid)))"
   ]
  },
  {
   "cell_type": "markdown",
   "id": "605598cc",
   "metadata": {},
   "source": [
    "### Обучим модель Дерево решений"
   ]
  },
  {
   "cell_type": "code",
   "execution_count": 554,
   "id": "0b7a2916",
   "metadata": {},
   "outputs": [],
   "source": [
    "model_d_tree = DecisionTreeClassifier(random_state=12345, class_weight='balanced')"
   ]
  },
  {
   "cell_type": "code",
   "execution_count": 555,
   "id": "6a30459c",
   "metadata": {},
   "outputs": [],
   "source": [
    "parametrs_d_tree = {'max_depth':range (1,11, 1),\n",
    "    'min_samples_split':[2,4,5,10,15]}"
   ]
  },
  {
   "cell_type": "code",
   "execution_count": 556,
   "id": "5bf571e5",
   "metadata": {},
   "outputs": [
    {
     "name": "stdout",
     "output_type": "stream",
     "text": [
      "CPU times: total: 1.52 s\n",
      "Wall time: 1.53 s\n"
     ]
    },
    {
     "data": {
      "text/html": [
       "<style>#sk-container-id-13 {color: black;background-color: white;}#sk-container-id-13 pre{padding: 0;}#sk-container-id-13 div.sk-toggleable {background-color: white;}#sk-container-id-13 label.sk-toggleable__label {cursor: pointer;display: block;width: 100%;margin-bottom: 0;padding: 0.3em;box-sizing: border-box;text-align: center;}#sk-container-id-13 label.sk-toggleable__label-arrow:before {content: \"▸\";float: left;margin-right: 0.25em;color: #696969;}#sk-container-id-13 label.sk-toggleable__label-arrow:hover:before {color: black;}#sk-container-id-13 div.sk-estimator:hover label.sk-toggleable__label-arrow:before {color: black;}#sk-container-id-13 div.sk-toggleable__content {max-height: 0;max-width: 0;overflow: hidden;text-align: left;background-color: #f0f8ff;}#sk-container-id-13 div.sk-toggleable__content pre {margin: 0.2em;color: black;border-radius: 0.25em;background-color: #f0f8ff;}#sk-container-id-13 input.sk-toggleable__control:checked~div.sk-toggleable__content {max-height: 200px;max-width: 100%;overflow: auto;}#sk-container-id-13 input.sk-toggleable__control:checked~label.sk-toggleable__label-arrow:before {content: \"▾\";}#sk-container-id-13 div.sk-estimator input.sk-toggleable__control:checked~label.sk-toggleable__label {background-color: #d4ebff;}#sk-container-id-13 div.sk-label input.sk-toggleable__control:checked~label.sk-toggleable__label {background-color: #d4ebff;}#sk-container-id-13 input.sk-hidden--visually {border: 0;clip: rect(1px 1px 1px 1px);clip: rect(1px, 1px, 1px, 1px);height: 1px;margin: -1px;overflow: hidden;padding: 0;position: absolute;width: 1px;}#sk-container-id-13 div.sk-estimator {font-family: monospace;background-color: #f0f8ff;border: 1px dotted black;border-radius: 0.25em;box-sizing: border-box;margin-bottom: 0.5em;}#sk-container-id-13 div.sk-estimator:hover {background-color: #d4ebff;}#sk-container-id-13 div.sk-parallel-item::after {content: \"\";width: 100%;border-bottom: 1px solid gray;flex-grow: 1;}#sk-container-id-13 div.sk-label:hover label.sk-toggleable__label {background-color: #d4ebff;}#sk-container-id-13 div.sk-serial::before {content: \"\";position: absolute;border-left: 1px solid gray;box-sizing: border-box;top: 0;bottom: 0;left: 50%;z-index: 0;}#sk-container-id-13 div.sk-serial {display: flex;flex-direction: column;align-items: center;background-color: white;padding-right: 0.2em;padding-left: 0.2em;position: relative;}#sk-container-id-13 div.sk-item {position: relative;z-index: 1;}#sk-container-id-13 div.sk-parallel {display: flex;align-items: stretch;justify-content: center;background-color: white;position: relative;}#sk-container-id-13 div.sk-item::before, #sk-container-id-13 div.sk-parallel-item::before {content: \"\";position: absolute;border-left: 1px solid gray;box-sizing: border-box;top: 0;bottom: 0;left: 50%;z-index: -1;}#sk-container-id-13 div.sk-parallel-item {display: flex;flex-direction: column;z-index: 1;position: relative;background-color: white;}#sk-container-id-13 div.sk-parallel-item:first-child::after {align-self: flex-end;width: 50%;}#sk-container-id-13 div.sk-parallel-item:last-child::after {align-self: flex-start;width: 50%;}#sk-container-id-13 div.sk-parallel-item:only-child::after {width: 0;}#sk-container-id-13 div.sk-dashed-wrapped {border: 1px dashed gray;margin: 0 0.4em 0.5em 0.4em;box-sizing: border-box;padding-bottom: 0.4em;background-color: white;}#sk-container-id-13 div.sk-label label {font-family: monospace;font-weight: bold;display: inline-block;line-height: 1.2em;}#sk-container-id-13 div.sk-label-container {text-align: center;}#sk-container-id-13 div.sk-container {/* jupyter's `normalize.less` sets `[hidden] { display: none; }` but bootstrap.min.css set `[hidden] { display: none !important; }` so we also need the `!important` here to be able to override the default hidden behavior on the sphinx rendered scikit-learn.org. See: https://github.com/scikit-learn/scikit-learn/issues/21755 */display: inline-block !important;position: relative;}#sk-container-id-13 div.sk-text-repr-fallback {display: none;}</style><div id=\"sk-container-id-13\" class=\"sk-top-container\"><div class=\"sk-text-repr-fallback\"><pre>GridSearchCV(cv=5,\n",
       "             estimator=DecisionTreeClassifier(class_weight=&#x27;balanced&#x27;,\n",
       "                                              random_state=12345),\n",
       "             param_grid={&#x27;max_depth&#x27;: range(1, 11),\n",
       "                         &#x27;min_samples_split&#x27;: [2, 4, 5, 10, 15]},\n",
       "             scoring=&#x27;accuracy&#x27;)</pre><b>In a Jupyter environment, please rerun this cell to show the HTML representation or trust the notebook. <br />On GitHub, the HTML representation is unable to render, please try loading this page with nbviewer.org.</b></div><div class=\"sk-container\" hidden><div class=\"sk-item sk-dashed-wrapped\"><div class=\"sk-label-container\"><div class=\"sk-label sk-toggleable\"><input class=\"sk-toggleable__control sk-hidden--visually\" id=\"sk-estimator-id-33\" type=\"checkbox\" ><label for=\"sk-estimator-id-33\" class=\"sk-toggleable__label sk-toggleable__label-arrow\">GridSearchCV</label><div class=\"sk-toggleable__content\"><pre>GridSearchCV(cv=5,\n",
       "             estimator=DecisionTreeClassifier(class_weight=&#x27;balanced&#x27;,\n",
       "                                              random_state=12345),\n",
       "             param_grid={&#x27;max_depth&#x27;: range(1, 11),\n",
       "                         &#x27;min_samples_split&#x27;: [2, 4, 5, 10, 15]},\n",
       "             scoring=&#x27;accuracy&#x27;)</pre></div></div></div><div class=\"sk-parallel\"><div class=\"sk-parallel-item\"><div class=\"sk-item\"><div class=\"sk-label-container\"><div class=\"sk-label sk-toggleable\"><input class=\"sk-toggleable__control sk-hidden--visually\" id=\"sk-estimator-id-34\" type=\"checkbox\" ><label for=\"sk-estimator-id-34\" class=\"sk-toggleable__label sk-toggleable__label-arrow\">estimator: DecisionTreeClassifier</label><div class=\"sk-toggleable__content\"><pre>DecisionTreeClassifier(class_weight=&#x27;balanced&#x27;, random_state=12345)</pre></div></div></div><div class=\"sk-serial\"><div class=\"sk-item\"><div class=\"sk-estimator sk-toggleable\"><input class=\"sk-toggleable__control sk-hidden--visually\" id=\"sk-estimator-id-35\" type=\"checkbox\" ><label for=\"sk-estimator-id-35\" class=\"sk-toggleable__label sk-toggleable__label-arrow\">DecisionTreeClassifier</label><div class=\"sk-toggleable__content\"><pre>DecisionTreeClassifier(class_weight=&#x27;balanced&#x27;, random_state=12345)</pre></div></div></div></div></div></div></div></div></div></div>"
      ],
      "text/plain": [
       "GridSearchCV(cv=5,\n",
       "             estimator=DecisionTreeClassifier(class_weight='balanced',\n",
       "                                              random_state=12345),\n",
       "             param_grid={'max_depth': range(1, 11),\n",
       "                         'min_samples_split': [2, 4, 5, 10, 15]},\n",
       "             scoring='accuracy')"
      ]
     },
     "execution_count": 556,
     "metadata": {},
     "output_type": "execute_result"
    }
   ],
   "source": [
    "%%time\n",
    "grid = GridSearchCV(model_d_tree, parametrs_d_tree, cv=5, \n",
    "                      scoring='accuracy')\n",
    "grid.fit(x_train_grid, y_train_grid)"
   ]
  },
  {
   "cell_type": "code",
   "execution_count": 557,
   "id": "1b4c55c3",
   "metadata": {},
   "outputs": [
    {
     "data": {
      "text/plain": [
       "0.7061748633879781"
      ]
     },
     "execution_count": 557,
     "metadata": {},
     "output_type": "execute_result"
    }
   ],
   "source": [
    "grid.best_score_"
   ]
  },
  {
   "cell_type": "markdown",
   "id": "b1c57a04",
   "metadata": {},
   "source": [
    "Таким образом, доля правильных ответов модели дерево решений - 0,70"
   ]
  },
  {
   "cell_type": "markdown",
   "id": "66586201",
   "metadata": {},
   "source": [
    "### Обучим модель CatBoostClassifier"
   ]
  },
  {
   "cell_type": "markdown",
   "id": "a7cb546e",
   "metadata": {},
   "source": [
    "Нормализуем данные"
   ]
  },
  {
   "cell_type": "code",
   "execution_count": 558,
   "id": "ddd32620",
   "metadata": {},
   "outputs": [],
   "source": [
    "scaler = StandardScaler()\n",
    "scaler.fit(x_train_grid)\n",
    "x_train_grid_sc = scaler.transform(x_train_grid)\n",
    "x_test_grid_sc = scaler.transform(x_test_grid)"
   ]
  },
  {
   "cell_type": "code",
   "execution_count": 559,
   "id": "7f7e20c8",
   "metadata": {},
   "outputs": [],
   "source": [
    "#cat_features = ['AgeBin', 'HartRateBin', 'BloodGlucoseBin', 'SystolicBPBin', 'BodyTempBin', 'PKBin', 'Sum']\n",
    "clf = CatBoostClassifier(auto_class_weights= 'Balanced')\n",
    "\n",
    "params = {'iterations': [100],\n",
    "          'depth': [10, 15],\n",
    "          'loss_function': ['MultiClass'],\n",
    "  #        'l2_leaf_reg': np.logspace(-20, -19, 3),\n",
    "          'leaf_estimation_iterations': [2, 5],\n",
    "          'eval_metric': ['Accuracy'],\n",
    "          'use_best_model': [True],\n",
    "          'random_seed': [42],\n",
    "        #  'logging_level':['Silent'],\n",
    "          'learning_rate': [0.1]\n",
    " #         'use_weights' : [1]\n",
    "         }\n",
    "#scorer = make_scorer(accuracy_score)\n",
    "clf_grid = GridSearchCV(clf, param_grid=params, cv=5, error_score='raise')"
   ]
  },
  {
   "cell_type": "code",
   "execution_count": 560,
   "id": "50a8325c",
   "metadata": {},
   "outputs": [],
   "source": [
    "evalset = (x_test_grid_sc, y_test_grid)"
   ]
  },
  {
   "cell_type": "code",
   "execution_count": 561,
   "id": "64ef2cd0",
   "metadata": {},
   "outputs": [
    {
     "data": {
      "application/vnd.jupyter.widget-view+json": {
       "model_id": "26f71eb0c7e443f19a6d0d6503cbf38b",
       "version_major": 2,
       "version_minor": 0
      },
      "text/plain": [
       "MetricVisualizer(layout=Layout(align_self='stretch', height='500px'))"
      ]
     },
     "metadata": {},
     "output_type": "display_data"
    },
    {
     "data": {
      "application/vnd.jupyter.widget-view+json": {
       "model_id": "007acef136cf481b9557c7e7d6ec951f",
       "version_major": 2,
       "version_minor": 0
      },
      "text/plain": [
       "MetricVisualizer(layout=Layout(align_self='stretch', height='500px'))"
      ]
     },
     "metadata": {},
     "output_type": "display_data"
    },
    {
     "data": {
      "application/vnd.jupyter.widget-view+json": {
       "model_id": "203fa32b2ae54bb8a7e402b634adce9c",
       "version_major": 2,
       "version_minor": 0
      },
      "text/plain": [
       "MetricVisualizer(layout=Layout(align_self='stretch', height='500px'))"
      ]
     },
     "metadata": {},
     "output_type": "display_data"
    },
    {
     "data": {
      "application/vnd.jupyter.widget-view+json": {
       "model_id": "293ee54025c24f3bbecaa9193dec84f5",
       "version_major": 2,
       "version_minor": 0
      },
      "text/plain": [
       "MetricVisualizer(layout=Layout(align_self='stretch', height='500px'))"
      ]
     },
     "metadata": {},
     "output_type": "display_data"
    },
    {
     "data": {
      "application/vnd.jupyter.widget-view+json": {
       "model_id": "342efb5e02ef4e048f0c581f262b336b",
       "version_major": 2,
       "version_minor": 0
      },
      "text/plain": [
       "MetricVisualizer(layout=Layout(align_self='stretch', height='500px'))"
      ]
     },
     "metadata": {},
     "output_type": "display_data"
    },
    {
     "data": {
      "application/vnd.jupyter.widget-view+json": {
       "model_id": "25c32d57bb634201bca65b7c771dd9bd",
       "version_major": 2,
       "version_minor": 0
      },
      "text/plain": [
       "MetricVisualizer(layout=Layout(align_self='stretch', height='500px'))"
      ]
     },
     "metadata": {},
     "output_type": "display_data"
    },
    {
     "data": {
      "application/vnd.jupyter.widget-view+json": {
       "model_id": "e296045b7e654c548cf425b1f1c3d6e1",
       "version_major": 2,
       "version_minor": 0
      },
      "text/plain": [
       "MetricVisualizer(layout=Layout(align_self='stretch', height='500px'))"
      ]
     },
     "metadata": {},
     "output_type": "display_data"
    },
    {
     "data": {
      "application/vnd.jupyter.widget-view+json": {
       "model_id": "ac89910a448a4d5990455e9ab6c6b217",
       "version_major": 2,
       "version_minor": 0
      },
      "text/plain": [
       "MetricVisualizer(layout=Layout(align_self='stretch', height='500px'))"
      ]
     },
     "metadata": {},
     "output_type": "display_data"
    },
    {
     "data": {
      "application/vnd.jupyter.widget-view+json": {
       "model_id": "d5520e47641c4bb89b9db280366783f0",
       "version_major": 2,
       "version_minor": 0
      },
      "text/plain": [
       "MetricVisualizer(layout=Layout(align_self='stretch', height='500px'))"
      ]
     },
     "metadata": {},
     "output_type": "display_data"
    },
    {
     "data": {
      "application/vnd.jupyter.widget-view+json": {
       "model_id": "b66e1118cda74d6cb64d6be51d2c5bc9",
       "version_major": 2,
       "version_minor": 0
      },
      "text/plain": [
       "MetricVisualizer(layout=Layout(align_self='stretch', height='500px'))"
      ]
     },
     "metadata": {},
     "output_type": "display_data"
    },
    {
     "data": {
      "application/vnd.jupyter.widget-view+json": {
       "model_id": "5bc2195d8e6948708be010c1c49b4998",
       "version_major": 2,
       "version_minor": 0
      },
      "text/plain": [
       "MetricVisualizer(layout=Layout(align_self='stretch', height='500px'))"
      ]
     },
     "metadata": {},
     "output_type": "display_data"
    },
    {
     "data": {
      "application/vnd.jupyter.widget-view+json": {
       "model_id": "abeeb00b203947148ac8eee2cf131972",
       "version_major": 2,
       "version_minor": 0
      },
      "text/plain": [
       "MetricVisualizer(layout=Layout(align_self='stretch', height='500px'))"
      ]
     },
     "metadata": {},
     "output_type": "display_data"
    },
    {
     "data": {
      "application/vnd.jupyter.widget-view+json": {
       "model_id": "ba30676c237348d19a944f6dd1325364",
       "version_major": 2,
       "version_minor": 0
      },
      "text/plain": [
       "MetricVisualizer(layout=Layout(align_self='stretch', height='500px'))"
      ]
     },
     "metadata": {},
     "output_type": "display_data"
    },
    {
     "data": {
      "application/vnd.jupyter.widget-view+json": {
       "model_id": "f423917e8d204322889ec80f3de7ec29",
       "version_major": 2,
       "version_minor": 0
      },
      "text/plain": [
       "MetricVisualizer(layout=Layout(align_self='stretch', height='500px'))"
      ]
     },
     "metadata": {},
     "output_type": "display_data"
    },
    {
     "data": {
      "application/vnd.jupyter.widget-view+json": {
       "model_id": "abb9384b15554f07ad508a5f7ad647ba",
       "version_major": 2,
       "version_minor": 0
      },
      "text/plain": [
       "MetricVisualizer(layout=Layout(align_self='stretch', height='500px'))"
      ]
     },
     "metadata": {},
     "output_type": "display_data"
    },
    {
     "data": {
      "application/vnd.jupyter.widget-view+json": {
       "model_id": "3cf263c14c844917920c49963e4bd718",
       "version_major": 2,
       "version_minor": 0
      },
      "text/plain": [
       "MetricVisualizer(layout=Layout(align_self='stretch', height='500px'))"
      ]
     },
     "metadata": {},
     "output_type": "display_data"
    },
    {
     "data": {
      "application/vnd.jupyter.widget-view+json": {
       "model_id": "ed141ba051a548dda127845c3e40e404",
       "version_major": 2,
       "version_minor": 0
      },
      "text/plain": [
       "MetricVisualizer(layout=Layout(align_self='stretch', height='500px'))"
      ]
     },
     "metadata": {},
     "output_type": "display_data"
    },
    {
     "data": {
      "application/vnd.jupyter.widget-view+json": {
       "model_id": "605f928ea7034032ba9962526b383be7",
       "version_major": 2,
       "version_minor": 0
      },
      "text/plain": [
       "MetricVisualizer(layout=Layout(align_self='stretch', height='500px'))"
      ]
     },
     "metadata": {},
     "output_type": "display_data"
    },
    {
     "data": {
      "application/vnd.jupyter.widget-view+json": {
       "model_id": "6e682c3b601145088cb833efef6f516c",
       "version_major": 2,
       "version_minor": 0
      },
      "text/plain": [
       "MetricVisualizer(layout=Layout(align_self='stretch', height='500px'))"
      ]
     },
     "metadata": {},
     "output_type": "display_data"
    },
    {
     "data": {
      "application/vnd.jupyter.widget-view+json": {
       "model_id": "cee0e829fc454e4ab9d96d493584cbac",
       "version_major": 2,
       "version_minor": 0
      },
      "text/plain": [
       "MetricVisualizer(layout=Layout(align_self='stretch', height='500px'))"
      ]
     },
     "metadata": {},
     "output_type": "display_data"
    },
    {
     "data": {
      "application/vnd.jupyter.widget-view+json": {
       "model_id": "8376df8ee65645238e1c8c6165b54672",
       "version_major": 2,
       "version_minor": 0
      },
      "text/plain": [
       "MetricVisualizer(layout=Layout(align_self='stretch', height='500px'))"
      ]
     },
     "metadata": {},
     "output_type": "display_data"
    },
    {
     "data": {
      "text/plain": [
       "{'depth': 15,\n",
       " 'eval_metric': 'Accuracy',\n",
       " 'iterations': 100,\n",
       " 'leaf_estimation_iterations': 2,\n",
       " 'learning_rate': 0.1,\n",
       " 'loss_function': 'MultiClass',\n",
       " 'random_seed': 42,\n",
       " 'use_best_model': True}"
      ]
     },
     "execution_count": 561,
     "metadata": {},
     "output_type": "execute_result"
    }
   ],
   "source": [
    "clf_grid.fit(x_train_grid_sc, y_train_grid, \n",
    "              verbose=False,\n",
    "              plot=True,\n",
    "            eval_set = evalset)\n",
    "best_param = clf_grid.best_params_\n",
    "best_param"
   ]
  },
  {
   "cell_type": "code",
   "execution_count": 562,
   "id": "e68da099",
   "metadata": {},
   "outputs": [
    {
     "data": {
      "text/plain": [
       "0.66327868852459"
      ]
     },
     "execution_count": 562,
     "metadata": {},
     "output_type": "execute_result"
    }
   ],
   "source": [
    "clf_grid.best_score_"
   ]
  },
  {
   "cell_type": "markdown",
   "id": "1b1ea157",
   "metadata": {},
   "source": [
    "Таким образом, доля правильных ответов модели CatBoostClassifier - 0,66"
   ]
  },
  {
   "cell_type": "markdown",
   "id": "9b069ab0",
   "metadata": {},
   "source": [
    "### Обучение нейронной сети"
   ]
  },
  {
   "cell_type": "code",
   "execution_count": 563,
   "id": "9f0c8302",
   "metadata": {},
   "outputs": [],
   "source": [
    "model = keras.Sequential([\n",
    "    keras.layers.Dense(32, activation='relu'),\n",
    "    keras.layers.Dense(16, activation='relu'),\n",
    "    keras.layers.Dropout(0.3),\n",
    "    keras.layers.Dense(16, activation='relu'),\n",
    "    keras.layers.Dense(4, activation='sigmoid')  \n",
    "    \n",
    "])"
   ]
  },
  {
   "cell_type": "code",
   "execution_count": 564,
   "id": "055747ac",
   "metadata": {},
   "outputs": [],
   "source": [
    "model.compile(loss='sparse_categorical_crossentropy', optimizer=SGD(learning_rate=0.0001), metrics=['accuracy'])"
   ]
  },
  {
   "cell_type": "code",
   "execution_count": 565,
   "id": "f7a4cfcd",
   "metadata": {},
   "outputs": [
    {
     "name": "stdout",
     "output_type": "stream",
     "text": [
      "Epoch 1/300\n",
      "30/30 - 1s - loss: 7.9887 - accuracy: 0.3606 - val_loss: 1.8239 - val_accuracy: 0.4262 - 970ms/epoch - 32ms/step\n",
      "Epoch 2/300\n",
      "30/30 - 0s - loss: 4.3991 - accuracy: 0.3978 - val_loss: 1.6518 - val_accuracy: 0.4426 - 92ms/epoch - 3ms/step\n",
      "Epoch 3/300\n",
      "30/30 - 0s - loss: 3.3994 - accuracy: 0.3903 - val_loss: 1.6226 - val_accuracy: 0.4262 - 99ms/epoch - 3ms/step\n",
      "Epoch 4/300\n",
      "30/30 - 0s - loss: 2.9639 - accuracy: 0.3941 - val_loss: 1.6902 - val_accuracy: 0.3770 - 106ms/epoch - 4ms/step\n",
      "Epoch 5/300\n",
      "30/30 - 0s - loss: 2.4293 - accuracy: 0.4089 - val_loss: 1.5846 - val_accuracy: 0.3934 - 109ms/epoch - 4ms/step\n",
      "Epoch 6/300\n",
      "30/30 - 0s - loss: 2.2915 - accuracy: 0.3903 - val_loss: 1.5469 - val_accuracy: 0.4426 - 107ms/epoch - 4ms/step\n",
      "Epoch 7/300\n",
      "30/30 - 0s - loss: 1.9937 - accuracy: 0.4089 - val_loss: 1.4905 - val_accuracy: 0.4098 - 113ms/epoch - 4ms/step\n",
      "Epoch 8/300\n",
      "30/30 - 0s - loss: 1.6738 - accuracy: 0.4275 - val_loss: 1.4236 - val_accuracy: 0.4262 - 107ms/epoch - 4ms/step\n",
      "Epoch 9/300\n",
      "30/30 - 0s - loss: 1.5950 - accuracy: 0.4179 - val_loss: 1.4088 - val_accuracy: 0.4098 - 114ms/epoch - 4ms/step\n",
      "Epoch 10/300\n",
      "30/30 - 0s - loss: 1.5590 - accuracy: 0.3978 - val_loss: 1.3621 - val_accuracy: 0.4098 - 106ms/epoch - 4ms/step\n",
      "Epoch 11/300\n",
      "30/30 - 0s - loss: 1.4980 - accuracy: 0.4349 - val_loss: 1.2855 - val_accuracy: 0.4426 - 106ms/epoch - 4ms/step\n",
      "Epoch 12/300\n",
      "30/30 - 0s - loss: 1.3779 - accuracy: 0.4349 - val_loss: 1.2145 - val_accuracy: 0.4262 - 107ms/epoch - 4ms/step\n",
      "Epoch 13/300\n",
      "30/30 - 0s - loss: 1.2994 - accuracy: 0.4275 - val_loss: 1.1446 - val_accuracy: 0.4426 - 108ms/epoch - 4ms/step\n",
      "Epoch 14/300\n",
      "30/30 - 0s - loss: 1.2896 - accuracy: 0.4126 - val_loss: 1.1399 - val_accuracy: 0.4262 - 108ms/epoch - 4ms/step\n",
      "Epoch 15/300\n",
      "30/30 - 0s - loss: 1.2896 - accuracy: 0.4610 - val_loss: 1.0834 - val_accuracy: 0.4426 - 105ms/epoch - 4ms/step\n",
      "Epoch 16/300\n",
      "30/30 - 0s - loss: 1.2233 - accuracy: 0.4015 - val_loss: 1.0774 - val_accuracy: 0.3607 - 109ms/epoch - 4ms/step\n",
      "Epoch 17/300\n",
      "30/30 - 0s - loss: 1.1895 - accuracy: 0.4349 - val_loss: 1.0507 - val_accuracy: 0.4590 - 115ms/epoch - 4ms/step\n",
      "Epoch 18/300\n",
      "30/30 - 0s - loss: 1.1913 - accuracy: 0.4142 - val_loss: 1.0434 - val_accuracy: 0.4918 - 113ms/epoch - 4ms/step\n",
      "Epoch 19/300\n",
      "30/30 - 0s - loss: 1.1919 - accuracy: 0.3978 - val_loss: 1.0408 - val_accuracy: 0.4918 - 107ms/epoch - 4ms/step\n",
      "Epoch 20/300\n",
      "30/30 - 0s - loss: 1.1234 - accuracy: 0.4535 - val_loss: 1.0348 - val_accuracy: 0.5082 - 104ms/epoch - 3ms/step\n",
      "Epoch 21/300\n",
      "30/30 - 0s - loss: 1.1130 - accuracy: 0.4684 - val_loss: 1.0348 - val_accuracy: 0.4754 - 105ms/epoch - 3ms/step\n",
      "Epoch 22/300\n",
      "30/30 - 0s - loss: 1.1582 - accuracy: 0.4312 - val_loss: 1.0376 - val_accuracy: 0.4754 - 108ms/epoch - 4ms/step\n",
      "Epoch 23/300\n",
      "30/30 - 0s - loss: 1.1261 - accuracy: 0.4758 - val_loss: 1.0325 - val_accuracy: 0.4918 - 105ms/epoch - 3ms/step\n",
      "Epoch 24/300\n",
      "30/30 - 0s - loss: 1.1394 - accuracy: 0.4201 - val_loss: 1.0300 - val_accuracy: 0.5082 - 106ms/epoch - 4ms/step\n",
      "Epoch 25/300\n",
      "30/30 - 0s - loss: 1.1205 - accuracy: 0.4870 - val_loss: 1.0318 - val_accuracy: 0.4918 - 107ms/epoch - 4ms/step\n",
      "Epoch 26/300\n",
      "30/30 - 0s - loss: 1.0999 - accuracy: 0.4572 - val_loss: 1.0291 - val_accuracy: 0.5082 - 111ms/epoch - 4ms/step\n",
      "Epoch 27/300\n",
      "30/30 - 0s - loss: 1.1533 - accuracy: 0.4216 - val_loss: 1.0285 - val_accuracy: 0.4754 - 114ms/epoch - 4ms/step\n",
      "Epoch 28/300\n",
      "30/30 - 0s - loss: 1.1347 - accuracy: 0.4610 - val_loss: 1.0288 - val_accuracy: 0.4590 - 112ms/epoch - 4ms/step\n",
      "Epoch 29/300\n",
      "30/30 - 0s - loss: 1.1417 - accuracy: 0.4610 - val_loss: 1.0316 - val_accuracy: 0.4590 - 108ms/epoch - 4ms/step\n",
      "Epoch 30/300\n",
      "30/30 - 0s - loss: 1.1572 - accuracy: 0.4201 - val_loss: 1.0347 - val_accuracy: 0.4590 - 107ms/epoch - 4ms/step\n",
      "Epoch 31/300\n",
      "30/30 - 0s - loss: 1.0915 - accuracy: 0.5093 - val_loss: 1.0303 - val_accuracy: 0.4590 - 104ms/epoch - 3ms/step\n",
      "Epoch 32/300\n",
      "30/30 - 0s - loss: 1.1250 - accuracy: 0.4312 - val_loss: 1.0316 - val_accuracy: 0.4590 - 105ms/epoch - 4ms/step\n",
      "Epoch 33/300\n",
      "30/30 - 0s - loss: 1.1284 - accuracy: 0.4387 - val_loss: 1.0297 - val_accuracy: 0.4590 - 108ms/epoch - 4ms/step\n",
      "Epoch 34/300\n",
      "30/30 - 0s - loss: 1.1097 - accuracy: 0.4833 - val_loss: 1.0270 - val_accuracy: 0.4590 - 103ms/epoch - 3ms/step\n",
      "Epoch 35/300\n",
      "30/30 - 0s - loss: 1.0785 - accuracy: 0.5093 - val_loss: 1.0249 - val_accuracy: 0.4590 - 106ms/epoch - 4ms/step\n",
      "Epoch 36/300\n",
      "30/30 - 0s - loss: 1.0904 - accuracy: 0.4925 - val_loss: 1.0252 - val_accuracy: 0.4754 - 114ms/epoch - 4ms/step\n",
      "Epoch 37/300\n",
      "30/30 - 0s - loss: 1.0951 - accuracy: 0.4758 - val_loss: 1.0244 - val_accuracy: 0.4590 - 109ms/epoch - 4ms/step\n",
      "Epoch 38/300\n",
      "30/30 - 0s - loss: 1.0641 - accuracy: 0.4610 - val_loss: 1.0250 - val_accuracy: 0.4590 - 113ms/epoch - 4ms/step\n",
      "Epoch 39/300\n",
      "30/30 - 0s - loss: 1.0977 - accuracy: 0.4907 - val_loss: 1.0255 - val_accuracy: 0.4590 - 106ms/epoch - 4ms/step\n",
      "Epoch 40/300\n",
      "30/30 - 0s - loss: 1.0626 - accuracy: 0.4758 - val_loss: 1.0254 - val_accuracy: 0.4590 - 105ms/epoch - 3ms/step\n",
      "Epoch 41/300\n",
      "30/30 - 0s - loss: 1.0638 - accuracy: 0.4907 - val_loss: 1.0310 - val_accuracy: 0.4590 - 106ms/epoch - 4ms/step\n",
      "Epoch 42/300\n",
      "30/30 - 0s - loss: 1.1181 - accuracy: 0.5204 - val_loss: 1.0250 - val_accuracy: 0.4590 - 110ms/epoch - 4ms/step\n",
      "Epoch 43/300\n",
      "30/30 - 0s - loss: 1.0828 - accuracy: 0.4833 - val_loss: 1.0262 - val_accuracy: 0.4754 - 109ms/epoch - 4ms/step\n",
      "Epoch 44/300\n",
      "30/30 - 0s - loss: 1.0951 - accuracy: 0.4721 - val_loss: 1.0216 - val_accuracy: 0.4590 - 110ms/epoch - 4ms/step\n",
      "Epoch 45/300\n",
      "30/30 - 0s - loss: 1.0792 - accuracy: 0.5075 - val_loss: 1.0255 - val_accuracy: 0.4590 - 110ms/epoch - 4ms/step\n",
      "Epoch 46/300\n",
      "30/30 - 0s - loss: 1.0614 - accuracy: 0.5167 - val_loss: 1.0268 - val_accuracy: 0.4754 - 114ms/epoch - 4ms/step\n",
      "Epoch 47/300\n",
      "30/30 - 0s - loss: 1.0831 - accuracy: 0.4833 - val_loss: 1.0252 - val_accuracy: 0.4590 - 112ms/epoch - 4ms/step\n",
      "Epoch 48/300\n",
      "30/30 - 0s - loss: 1.0756 - accuracy: 0.4870 - val_loss: 1.0274 - val_accuracy: 0.4590 - 105ms/epoch - 3ms/step\n",
      "Epoch 49/300\n",
      "30/30 - 0s - loss: 1.0943 - accuracy: 0.5130 - val_loss: 1.0295 - val_accuracy: 0.4590 - 106ms/epoch - 4ms/step\n",
      "Epoch 50/300\n",
      "30/30 - 0s - loss: 1.0511 - accuracy: 0.5688 - val_loss: 1.0270 - val_accuracy: 0.4590 - 103ms/epoch - 3ms/step\n",
      "Epoch 51/300\n",
      "30/30 - 0s - loss: 1.1199 - accuracy: 0.4758 - val_loss: 1.0296 - val_accuracy: 0.4590 - 108ms/epoch - 4ms/step\n",
      "Epoch 52/300\n",
      "30/30 - 0s - loss: 1.0890 - accuracy: 0.5019 - val_loss: 1.0305 - val_accuracy: 0.4590 - 107ms/epoch - 4ms/step\n",
      "Epoch 53/300\n",
      "30/30 - 0s - loss: 1.0643 - accuracy: 0.5130 - val_loss: 1.0289 - val_accuracy: 0.4590 - 103ms/epoch - 3ms/step\n",
      "Epoch 54/300\n",
      "30/30 - 0s - loss: 1.0699 - accuracy: 0.5448 - val_loss: 1.0309 - val_accuracy: 0.4590 - 107ms/epoch - 4ms/step\n",
      "Epoch 55/300\n",
      "30/30 - 0s - loss: 1.0236 - accuracy: 0.5279 - val_loss: 1.0279 - val_accuracy: 0.4590 - 99ms/epoch - 3ms/step\n",
      "Epoch 56/300\n",
      "30/30 - 0s - loss: 1.0867 - accuracy: 0.4907 - val_loss: 1.0279 - val_accuracy: 0.4754 - 105ms/epoch - 3ms/step\n",
      "Epoch 57/300\n",
      "30/30 - 0s - loss: 1.0418 - accuracy: 0.5167 - val_loss: 1.0272 - val_accuracy: 0.4590 - 100ms/epoch - 3ms/step\n",
      "Epoch 58/300\n",
      "30/30 - 0s - loss: 1.0825 - accuracy: 0.5130 - val_loss: 1.0313 - val_accuracy: 0.4590 - 97ms/epoch - 3ms/step\n",
      "Epoch 59/300\n",
      "30/30 - 0s - loss: 1.0663 - accuracy: 0.5056 - val_loss: 1.0274 - val_accuracy: 0.4590 - 96ms/epoch - 3ms/step\n",
      "Epoch 60/300\n",
      "30/30 - 0s - loss: 1.0850 - accuracy: 0.5056 - val_loss: 1.0290 - val_accuracy: 0.4590 - 96ms/epoch - 3ms/step\n",
      "Epoch 61/300\n",
      "30/30 - 0s - loss: 1.0777 - accuracy: 0.5019 - val_loss: 1.0290 - val_accuracy: 0.4590 - 96ms/epoch - 3ms/step\n",
      "Epoch 62/300\n",
      "30/30 - 0s - loss: 1.0581 - accuracy: 0.4870 - val_loss: 1.0302 - val_accuracy: 0.4590 - 96ms/epoch - 3ms/step\n",
      "Epoch 63/300\n",
      "30/30 - 0s - loss: 1.0568 - accuracy: 0.5149 - val_loss: 1.0311 - val_accuracy: 0.4590 - 100ms/epoch - 3ms/step\n",
      "Epoch 64/300\n",
      "30/30 - 0s - loss: 1.0732 - accuracy: 0.5093 - val_loss: 1.0318 - val_accuracy: 0.4590 - 101ms/epoch - 3ms/step\n",
      "Epoch 65/300\n",
      "30/30 - 0s - loss: 1.0415 - accuracy: 0.5242 - val_loss: 1.0304 - val_accuracy: 0.4590 - 99ms/epoch - 3ms/step\n",
      "Epoch 66/300\n",
      "30/30 - 0s - loss: 1.1048 - accuracy: 0.4833 - val_loss: 1.0344 - val_accuracy: 0.4754 - 101ms/epoch - 3ms/step\n",
      "Epoch 67/300\n",
      "30/30 - 0s - loss: 1.0702 - accuracy: 0.5093 - val_loss: 1.0321 - val_accuracy: 0.4590 - 107ms/epoch - 4ms/step\n",
      "Epoch 68/300\n",
      "30/30 - 0s - loss: 1.0112 - accuracy: 0.5242 - val_loss: 1.0313 - val_accuracy: 0.4590 - 101ms/epoch - 3ms/step\n",
      "Epoch 69/300\n",
      "30/30 - 0s - loss: 1.0788 - accuracy: 0.4796 - val_loss: 1.0333 - val_accuracy: 0.4590 - 97ms/epoch - 3ms/step\n",
      "Epoch 70/300\n",
      "30/30 - 0s - loss: 1.0365 - accuracy: 0.5279 - val_loss: 1.0316 - val_accuracy: 0.4590 - 98ms/epoch - 3ms/step\n",
      "Epoch 71/300\n",
      "30/30 - 0s - loss: 1.0574 - accuracy: 0.5279 - val_loss: 1.0321 - val_accuracy: 0.4590 - 112ms/epoch - 4ms/step\n",
      "Epoch 72/300\n",
      "30/30 - 0s - loss: 1.0380 - accuracy: 0.5597 - val_loss: 1.0320 - val_accuracy: 0.4754 - 117ms/epoch - 4ms/step\n",
      "Epoch 73/300\n",
      "30/30 - 0s - loss: 1.0497 - accuracy: 0.5279 - val_loss: 1.0311 - val_accuracy: 0.4590 - 117ms/epoch - 4ms/step\n",
      "Epoch 74/300\n",
      "30/30 - 0s - loss: 1.0311 - accuracy: 0.5576 - val_loss: 1.0304 - val_accuracy: 0.4590 - 105ms/epoch - 3ms/step\n",
      "Epoch 75/300\n",
      "30/30 - 0s - loss: 1.0846 - accuracy: 0.4758 - val_loss: 1.0315 - val_accuracy: 0.4590 - 100ms/epoch - 3ms/step\n",
      "Epoch 76/300\n",
      "30/30 - 0s - loss: 1.0226 - accuracy: 0.5428 - val_loss: 1.0326 - val_accuracy: 0.4754 - 102ms/epoch - 3ms/step\n",
      "Epoch 77/300\n",
      "30/30 - 0s - loss: 1.0734 - accuracy: 0.5316 - val_loss: 1.0332 - val_accuracy: 0.4590 - 105ms/epoch - 3ms/step\n",
      "Epoch 78/300\n",
      "30/30 - 0s - loss: 1.0710 - accuracy: 0.5390 - val_loss: 1.0352 - val_accuracy: 0.4590 - 106ms/epoch - 4ms/step\n",
      "Epoch 79/300\n",
      "30/30 - 0s - loss: 1.0260 - accuracy: 0.5502 - val_loss: 1.0355 - val_accuracy: 0.4754 - 101ms/epoch - 3ms/step\n",
      "Epoch 80/300\n",
      "30/30 - 0s - loss: 1.0567 - accuracy: 0.5279 - val_loss: 1.0360 - val_accuracy: 0.4590 - 97ms/epoch - 3ms/step\n",
      "Epoch 81/300\n",
      "30/30 - 0s - loss: 1.0149 - accuracy: 0.5746 - val_loss: 1.0383 - val_accuracy: 0.4754 - 102ms/epoch - 3ms/step\n",
      "Epoch 82/300\n",
      "30/30 - 0s - loss: 1.0852 - accuracy: 0.5465 - val_loss: 1.0379 - val_accuracy: 0.4754 - 102ms/epoch - 3ms/step\n",
      "Epoch 83/300\n",
      "30/30 - 0s - loss: 1.0432 - accuracy: 0.5502 - val_loss: 1.0369 - val_accuracy: 0.4590 - 102ms/epoch - 3ms/step\n",
      "Epoch 84/300\n",
      "30/30 - 0s - loss: 1.0731 - accuracy: 0.5167 - val_loss: 1.0390 - val_accuracy: 0.4754 - 100ms/epoch - 3ms/step\n",
      "Epoch 85/300\n",
      "30/30 - 0s - loss: 1.0610 - accuracy: 0.5279 - val_loss: 1.0378 - val_accuracy: 0.4754 - 115ms/epoch - 4ms/step\n",
      "Epoch 86/300\n",
      "30/30 - 0s - loss: 1.0505 - accuracy: 0.5576 - val_loss: 1.0363 - val_accuracy: 0.4754 - 126ms/epoch - 4ms/step\n",
      "Epoch 87/300\n",
      "30/30 - 0s - loss: 1.0410 - accuracy: 0.5353 - val_loss: 1.0361 - val_accuracy: 0.4754 - 103ms/epoch - 3ms/step\n",
      "Epoch 88/300\n",
      "30/30 - 0s - loss: 1.0632 - accuracy: 0.5353 - val_loss: 1.0372 - val_accuracy: 0.4590 - 112ms/epoch - 4ms/step\n",
      "Epoch 89/300\n",
      "30/30 - 0s - loss: 0.9982 - accuracy: 0.5353 - val_loss: 1.0374 - val_accuracy: 0.4590 - 101ms/epoch - 3ms/step\n",
      "Epoch 90/300\n",
      "30/30 - 0s - loss: 1.0604 - accuracy: 0.5149 - val_loss: 1.0375 - val_accuracy: 0.4754 - 99ms/epoch - 3ms/step\n",
      "Epoch 91/300\n",
      "30/30 - 0s - loss: 1.0594 - accuracy: 0.5651 - val_loss: 1.0375 - val_accuracy: 0.4754 - 102ms/epoch - 3ms/step\n",
      "Epoch 92/300\n",
      "30/30 - 0s - loss: 1.0542 - accuracy: 0.5316 - val_loss: 1.0376 - val_accuracy: 0.4590 - 101ms/epoch - 3ms/step\n",
      "Epoch 93/300\n",
      "30/30 - 0s - loss: 1.0295 - accuracy: 0.5465 - val_loss: 1.0385 - val_accuracy: 0.4754 - 101ms/epoch - 3ms/step\n",
      "Epoch 94/300\n",
      "30/30 - 0s - loss: 1.0166 - accuracy: 0.5539 - val_loss: 1.0380 - val_accuracy: 0.4754 - 99ms/epoch - 3ms/step\n",
      "Epoch 95/300\n",
      "30/30 - 0s - loss: 1.0521 - accuracy: 0.5242 - val_loss: 1.0421 - val_accuracy: 0.4918 - 102ms/epoch - 3ms/step\n",
      "Epoch 96/300\n",
      "30/30 - 0s - loss: 1.0036 - accuracy: 0.5353 - val_loss: 1.0431 - val_accuracy: 0.4590 - 94ms/epoch - 3ms/step\n",
      "Epoch 97/300\n",
      "30/30 - 0s - loss: 0.9995 - accuracy: 0.5762 - val_loss: 1.0437 - val_accuracy: 0.4590 - 103ms/epoch - 3ms/step\n",
      "Epoch 98/300\n",
      "30/30 - 0s - loss: 1.0441 - accuracy: 0.5167 - val_loss: 1.0463 - val_accuracy: 0.5082 - 104ms/epoch - 3ms/step\n",
      "Epoch 99/300\n",
      "30/30 - 0s - loss: 1.0126 - accuracy: 0.5522 - val_loss: 1.0459 - val_accuracy: 0.5246 - 100ms/epoch - 3ms/step\n",
      "Epoch 100/300\n",
      "30/30 - 0s - loss: 1.0168 - accuracy: 0.5390 - val_loss: 1.0441 - val_accuracy: 0.4918 - 99ms/epoch - 3ms/step\n",
      "Epoch 101/300\n",
      "30/30 - 0s - loss: 1.0262 - accuracy: 0.5465 - val_loss: 1.0417 - val_accuracy: 0.4590 - 114ms/epoch - 4ms/step\n",
      "Epoch 102/300\n",
      "30/30 - 0s - loss: 0.9868 - accuracy: 0.5836 - val_loss: 1.0445 - val_accuracy: 0.4918 - 122ms/epoch - 4ms/step\n",
      "Epoch 103/300\n",
      "30/30 - 0s - loss: 1.0392 - accuracy: 0.5093 - val_loss: 1.0446 - val_accuracy: 0.4918 - 105ms/epoch - 3ms/step\n",
      "Epoch 104/300\n",
      "30/30 - 0s - loss: 1.0673 - accuracy: 0.5576 - val_loss: 1.0425 - val_accuracy: 0.4754 - 103ms/epoch - 3ms/step\n",
      "Epoch 105/300\n",
      "30/30 - 0s - loss: 1.0554 - accuracy: 0.5056 - val_loss: 1.0438 - val_accuracy: 0.4918 - 99ms/epoch - 3ms/step\n",
      "Epoch 106/300\n",
      "30/30 - 0s - loss: 1.0241 - accuracy: 0.5576 - val_loss: 1.0415 - val_accuracy: 0.4590 - 104ms/epoch - 3ms/step\n",
      "Epoch 107/300\n",
      "30/30 - 0s - loss: 1.0669 - accuracy: 0.5316 - val_loss: 1.0399 - val_accuracy: 0.4754 - 107ms/epoch - 4ms/step\n",
      "Epoch 108/300\n",
      "30/30 - 0s - loss: 1.0199 - accuracy: 0.5448 - val_loss: 1.0417 - val_accuracy: 0.4590 - 107ms/epoch - 4ms/step\n",
      "Epoch 109/300\n",
      "30/30 - 0s - loss: 1.0089 - accuracy: 0.5799 - val_loss: 1.0398 - val_accuracy: 0.4918 - 99ms/epoch - 3ms/step\n",
      "Epoch 110/300\n",
      "30/30 - 0s - loss: 1.0503 - accuracy: 0.5056 - val_loss: 1.0407 - val_accuracy: 0.4754 - 97ms/epoch - 3ms/step\n",
      "Epoch 111/300\n",
      "30/30 - 0s - loss: 1.0039 - accuracy: 0.5428 - val_loss: 1.0406 - val_accuracy: 0.4754 - 102ms/epoch - 3ms/step\n",
      "Epoch 112/300\n",
      "30/30 - 0s - loss: 1.0546 - accuracy: 0.5130 - val_loss: 1.0461 - val_accuracy: 0.4918 - 100ms/epoch - 3ms/step\n",
      "Epoch 113/300\n",
      "30/30 - 0s - loss: 0.9583 - accuracy: 0.5762 - val_loss: 1.0491 - val_accuracy: 0.5246 - 98ms/epoch - 3ms/step\n",
      "Epoch 114/300\n",
      "30/30 - 0s - loss: 1.0025 - accuracy: 0.5502 - val_loss: 1.0447 - val_accuracy: 0.4590 - 98ms/epoch - 3ms/step\n",
      "Epoch 115/300\n",
      "30/30 - 0s - loss: 1.0488 - accuracy: 0.5130 - val_loss: 1.0453 - val_accuracy: 0.4918 - 100ms/epoch - 3ms/step\n",
      "Epoch 116/300\n",
      "30/30 - 0s - loss: 1.0153 - accuracy: 0.5651 - val_loss: 1.0446 - val_accuracy: 0.4754 - 99ms/epoch - 3ms/step\n",
      "Epoch 117/300\n",
      "30/30 - 0s - loss: 1.0360 - accuracy: 0.5261 - val_loss: 1.0452 - val_accuracy: 0.4590 - 104ms/epoch - 3ms/step\n",
      "Epoch 118/300\n",
      "30/30 - 0s - loss: 1.0107 - accuracy: 0.5539 - val_loss: 1.0433 - val_accuracy: 0.4754 - 95ms/epoch - 3ms/step\n",
      "Epoch 119/300\n",
      "30/30 - 0s - loss: 1.0237 - accuracy: 0.5465 - val_loss: 1.0419 - val_accuracy: 0.4754 - 103ms/epoch - 3ms/step\n",
      "Epoch 120/300\n",
      "30/30 - 0s - loss: 1.0025 - accuracy: 0.5651 - val_loss: 1.0487 - val_accuracy: 0.5246 - 100ms/epoch - 3ms/step\n",
      "Epoch 121/300\n",
      "30/30 - 0s - loss: 1.0653 - accuracy: 0.4944 - val_loss: 1.0453 - val_accuracy: 0.4918 - 100ms/epoch - 3ms/step\n",
      "Epoch 122/300\n",
      "30/30 - 0s - loss: 1.0443 - accuracy: 0.5576 - val_loss: 1.0442 - val_accuracy: 0.4754 - 94ms/epoch - 3ms/step\n",
      "Epoch 123/300\n",
      "30/30 - 0s - loss: 1.0045 - accuracy: 0.5836 - val_loss: 1.0469 - val_accuracy: 0.4918 - 101ms/epoch - 3ms/step\n",
      "Epoch 124/300\n",
      "30/30 - 0s - loss: 1.0481 - accuracy: 0.4981 - val_loss: 1.0454 - val_accuracy: 0.4918 - 102ms/epoch - 3ms/step\n",
      "Epoch 125/300\n",
      "30/30 - 0s - loss: 1.0103 - accuracy: 0.5688 - val_loss: 1.0441 - val_accuracy: 0.4754 - 99ms/epoch - 3ms/step\n",
      "Epoch 126/300\n",
      "30/30 - 0s - loss: 0.9967 - accuracy: 0.5373 - val_loss: 1.0460 - val_accuracy: 0.4918 - 101ms/epoch - 3ms/step\n",
      "Epoch 127/300\n",
      "30/30 - 0s - loss: 1.0398 - accuracy: 0.5353 - val_loss: 1.0437 - val_accuracy: 0.4918 - 115ms/epoch - 4ms/step\n",
      "Epoch 128/300\n",
      "30/30 - 0s - loss: 1.0583 - accuracy: 0.5316 - val_loss: 1.0471 - val_accuracy: 0.4918 - 105ms/epoch - 4ms/step\n",
      "Epoch 129/300\n",
      "30/30 - 0s - loss: 1.0434 - accuracy: 0.5539 - val_loss: 1.0475 - val_accuracy: 0.4918 - 107ms/epoch - 4ms/step\n",
      "Epoch 130/300\n",
      "30/30 - 0s - loss: 0.9938 - accuracy: 0.5502 - val_loss: 1.0486 - val_accuracy: 0.4918 - 100ms/epoch - 3ms/step\n",
      "Epoch 131/300\n",
      "30/30 - 0s - loss: 1.0007 - accuracy: 0.5613 - val_loss: 1.0488 - val_accuracy: 0.5082 - 96ms/epoch - 3ms/step\n",
      "Epoch 132/300\n",
      "30/30 - 0s - loss: 1.0275 - accuracy: 0.5502 - val_loss: 1.0452 - val_accuracy: 0.4918 - 99ms/epoch - 3ms/step\n",
      "Epoch 133/300\n",
      "30/30 - 0s - loss: 1.0250 - accuracy: 0.5502 - val_loss: 1.0458 - val_accuracy: 0.4754 - 103ms/epoch - 3ms/step\n",
      "Epoch 134/300\n",
      "30/30 - 0s - loss: 1.0542 - accuracy: 0.5279 - val_loss: 1.0485 - val_accuracy: 0.4918 - 101ms/epoch - 3ms/step\n",
      "Epoch 135/300\n",
      "30/30 - 0s - loss: 1.0301 - accuracy: 0.5261 - val_loss: 1.0449 - val_accuracy: 0.4918 - 109ms/epoch - 4ms/step\n",
      "Epoch 136/300\n",
      "30/30 - 0s - loss: 1.0219 - accuracy: 0.5465 - val_loss: 1.0466 - val_accuracy: 0.4918 - 123ms/epoch - 4ms/step\n",
      "Epoch 137/300\n",
      "30/30 - 0s - loss: 1.0010 - accuracy: 0.5465 - val_loss: 1.0457 - val_accuracy: 0.4918 - 127ms/epoch - 4ms/step\n",
      "Epoch 138/300\n",
      "30/30 - 0s - loss: 1.0121 - accuracy: 0.5539 - val_loss: 1.0447 - val_accuracy: 0.4918 - 106ms/epoch - 4ms/step\n",
      "Epoch 139/300\n",
      "30/30 - 0s - loss: 1.0422 - accuracy: 0.5279 - val_loss: 1.0475 - val_accuracy: 0.5082 - 103ms/epoch - 3ms/step\n",
      "Epoch 140/300\n",
      "30/30 - 0s - loss: 0.9971 - accuracy: 0.5502 - val_loss: 1.0463 - val_accuracy: 0.5082 - 96ms/epoch - 3ms/step\n",
      "Epoch 141/300\n",
      "30/30 - 0s - loss: 1.0398 - accuracy: 0.5316 - val_loss: 1.0462 - val_accuracy: 0.4918 - 102ms/epoch - 3ms/step\n",
      "Epoch 142/300\n",
      "30/30 - 0s - loss: 1.0395 - accuracy: 0.5465 - val_loss: 1.0470 - val_accuracy: 0.4918 - 109ms/epoch - 4ms/step\n",
      "Epoch 143/300\n",
      "30/30 - 0s - loss: 1.0022 - accuracy: 0.5651 - val_loss: 1.0478 - val_accuracy: 0.4918 - 108ms/epoch - 4ms/step\n",
      "Epoch 144/300\n",
      "30/30 - 0s - loss: 1.0461 - accuracy: 0.5373 - val_loss: 1.0439 - val_accuracy: 0.4590 - 95ms/epoch - 3ms/step\n",
      "Epoch 145/300\n",
      "30/30 - 0s - loss: 1.0158 - accuracy: 0.5465 - val_loss: 1.0446 - val_accuracy: 0.4754 - 101ms/epoch - 3ms/step\n",
      "Epoch 146/300\n",
      "30/30 - 0s - loss: 1.0503 - accuracy: 0.5130 - val_loss: 1.0470 - val_accuracy: 0.4918 - 102ms/epoch - 3ms/step\n",
      "Epoch 147/300\n",
      "30/30 - 0s - loss: 1.0239 - accuracy: 0.5613 - val_loss: 1.0482 - val_accuracy: 0.4918 - 110ms/epoch - 4ms/step\n",
      "Epoch 148/300\n",
      "30/30 - 0s - loss: 1.0008 - accuracy: 0.5688 - val_loss: 1.0493 - val_accuracy: 0.4918 - 108ms/epoch - 4ms/step\n",
      "Epoch 149/300\n",
      "30/30 - 0s - loss: 0.9882 - accuracy: 0.5465 - val_loss: 1.0482 - val_accuracy: 0.4918 - 103ms/epoch - 3ms/step\n",
      "Epoch 150/300\n",
      "30/30 - 0s - loss: 1.0127 - accuracy: 0.5613 - val_loss: 1.0473 - val_accuracy: 0.4918 - 101ms/epoch - 3ms/step\n",
      "Epoch 151/300\n",
      "30/30 - 0s - loss: 1.0041 - accuracy: 0.5613 - val_loss: 1.0487 - val_accuracy: 0.4918 - 110ms/epoch - 4ms/step\n",
      "Epoch 152/300\n",
      "30/30 - 0s - loss: 1.0102 - accuracy: 0.5428 - val_loss: 1.0482 - val_accuracy: 0.5082 - 110ms/epoch - 4ms/step\n",
      "Epoch 153/300\n",
      "30/30 - 0s - loss: 1.0117 - accuracy: 0.5784 - val_loss: 1.0456 - val_accuracy: 0.4918 - 110ms/epoch - 4ms/step\n",
      "Epoch 154/300\n",
      "30/30 - 0s - loss: 1.0573 - accuracy: 0.5353 - val_loss: 1.0451 - val_accuracy: 0.4918 - 106ms/epoch - 4ms/step\n",
      "Epoch 155/300\n",
      "30/30 - 0s - loss: 1.0648 - accuracy: 0.5242 - val_loss: 1.0437 - val_accuracy: 0.4918 - 111ms/epoch - 4ms/step\n",
      "Epoch 156/300\n",
      "30/30 - 0s - loss: 1.0392 - accuracy: 0.5130 - val_loss: 1.0431 - val_accuracy: 0.4590 - 101ms/epoch - 3ms/step\n",
      "Epoch 157/300\n",
      "30/30 - 0s - loss: 1.0070 - accuracy: 0.5316 - val_loss: 1.0487 - val_accuracy: 0.5246 - 106ms/epoch - 4ms/step\n",
      "Epoch 158/300\n",
      "30/30 - 0s - loss: 1.0000 - accuracy: 0.5799 - val_loss: 1.0435 - val_accuracy: 0.4754 - 116ms/epoch - 4ms/step\n",
      "Epoch 159/300\n",
      "30/30 - 0s - loss: 1.0052 - accuracy: 0.5390 - val_loss: 1.0442 - val_accuracy: 0.4918 - 113ms/epoch - 4ms/step\n",
      "Epoch 160/300\n",
      "30/30 - 0s - loss: 1.0322 - accuracy: 0.5316 - val_loss: 1.0465 - val_accuracy: 0.5082 - 109ms/epoch - 4ms/step\n",
      "Epoch 161/300\n",
      "30/30 - 0s - loss: 1.0020 - accuracy: 0.5428 - val_loss: 1.0494 - val_accuracy: 0.5246 - 99ms/epoch - 3ms/step\n",
      "Epoch 162/300\n",
      "30/30 - 0s - loss: 1.0247 - accuracy: 0.5373 - val_loss: 1.0442 - val_accuracy: 0.4918 - 109ms/epoch - 4ms/step\n",
      "Epoch 163/300\n",
      "30/30 - 0s - loss: 0.9739 - accuracy: 0.5651 - val_loss: 1.0436 - val_accuracy: 0.4918 - 110ms/epoch - 4ms/step\n",
      "Epoch 164/300\n",
      "30/30 - 0s - loss: 1.0426 - accuracy: 0.5465 - val_loss: 1.0470 - val_accuracy: 0.5082 - 106ms/epoch - 4ms/step\n",
      "Epoch 165/300\n",
      "30/30 - 0s - loss: 1.0029 - accuracy: 0.5428 - val_loss: 1.0433 - val_accuracy: 0.4754 - 102ms/epoch - 3ms/step\n",
      "Epoch 166/300\n",
      "30/30 - 0s - loss: 1.0501 - accuracy: 0.5204 - val_loss: 1.0442 - val_accuracy: 0.4754 - 108ms/epoch - 4ms/step\n",
      "Epoch 167/300\n",
      "30/30 - 0s - loss: 1.0055 - accuracy: 0.5539 - val_loss: 1.0482 - val_accuracy: 0.5246 - 119ms/epoch - 4ms/step\n",
      "Epoch 168/300\n",
      "30/30 - 0s - loss: 0.9722 - accuracy: 0.5651 - val_loss: 1.0478 - val_accuracy: 0.4918 - 111ms/epoch - 4ms/step\n",
      "Epoch 169/300\n",
      "30/30 - 0s - loss: 1.0142 - accuracy: 0.5502 - val_loss: 1.0488 - val_accuracy: 0.5082 - 109ms/epoch - 4ms/step\n",
      "Epoch 170/300\n",
      "30/30 - 0s - loss: 1.0226 - accuracy: 0.5576 - val_loss: 1.0484 - val_accuracy: 0.5082 - 106ms/epoch - 4ms/step\n",
      "Epoch 171/300\n",
      "30/30 - 0s - loss: 1.0019 - accuracy: 0.5821 - val_loss: 1.0456 - val_accuracy: 0.4918 - 102ms/epoch - 3ms/step\n",
      "Epoch 172/300\n",
      "30/30 - 0s - loss: 1.0135 - accuracy: 0.5613 - val_loss: 1.0467 - val_accuracy: 0.5082 - 103ms/epoch - 3ms/step\n",
      "Epoch 173/300\n",
      "30/30 - 0s - loss: 1.0206 - accuracy: 0.5539 - val_loss: 1.0426 - val_accuracy: 0.4754 - 102ms/epoch - 3ms/step\n",
      "Epoch 174/300\n",
      "30/30 - 0s - loss: 1.0227 - accuracy: 0.5353 - val_loss: 1.0437 - val_accuracy: 0.4754 - 101ms/epoch - 3ms/step\n",
      "Epoch 175/300\n",
      "30/30 - 0s - loss: 1.0211 - accuracy: 0.5502 - val_loss: 1.0461 - val_accuracy: 0.5082 - 102ms/epoch - 3ms/step\n",
      "Epoch 176/300\n",
      "30/30 - 0s - loss: 1.0041 - accuracy: 0.5762 - val_loss: 1.0446 - val_accuracy: 0.4918 - 105ms/epoch - 3ms/step\n",
      "Epoch 177/300\n",
      "30/30 - 0s - loss: 1.0401 - accuracy: 0.5316 - val_loss: 1.0421 - val_accuracy: 0.4918 - 103ms/epoch - 3ms/step\n",
      "Epoch 178/300\n",
      "30/30 - 0s - loss: 0.9770 - accuracy: 0.5799 - val_loss: 1.0435 - val_accuracy: 0.5082 - 106ms/epoch - 4ms/step\n",
      "Epoch 179/300\n",
      "30/30 - 0s - loss: 1.0364 - accuracy: 0.5204 - val_loss: 1.0435 - val_accuracy: 0.5082 - 100ms/epoch - 3ms/step\n",
      "Epoch 180/300\n",
      "30/30 - 0s - loss: 1.0138 - accuracy: 0.5485 - val_loss: 1.0412 - val_accuracy: 0.4754 - 98ms/epoch - 3ms/step\n",
      "Epoch 181/300\n",
      "30/30 - 0s - loss: 1.0475 - accuracy: 0.5576 - val_loss: 1.0405 - val_accuracy: 0.4754 - 100ms/epoch - 3ms/step\n",
      "Epoch 182/300\n",
      "30/30 - 0s - loss: 1.0157 - accuracy: 0.5428 - val_loss: 1.0430 - val_accuracy: 0.5082 - 97ms/epoch - 3ms/step\n",
      "Epoch 183/300\n",
      "30/30 - 0s - loss: 0.9692 - accuracy: 0.6022 - val_loss: 1.0427 - val_accuracy: 0.5082 - 98ms/epoch - 3ms/step\n",
      "Epoch 184/300\n",
      "30/30 - 0s - loss: 1.0407 - accuracy: 0.5725 - val_loss: 1.0416 - val_accuracy: 0.4754 - 101ms/epoch - 3ms/step\n",
      "Epoch 185/300\n",
      "30/30 - 0s - loss: 0.9989 - accuracy: 0.5539 - val_loss: 1.0433 - val_accuracy: 0.5082 - 99ms/epoch - 3ms/step\n",
      "Epoch 186/300\n",
      "30/30 - 0s - loss: 1.0286 - accuracy: 0.5651 - val_loss: 1.0408 - val_accuracy: 0.4918 - 106ms/epoch - 4ms/step\n",
      "Epoch 187/300\n",
      "30/30 - 0s - loss: 1.0186 - accuracy: 0.5130 - val_loss: 1.0416 - val_accuracy: 0.4754 - 104ms/epoch - 3ms/step\n",
      "Epoch 188/300\n",
      "30/30 - 0s - loss: 1.0199 - accuracy: 0.5613 - val_loss: 1.0396 - val_accuracy: 0.4918 - 105ms/epoch - 3ms/step\n",
      "Epoch 189/300\n",
      "30/30 - 0s - loss: 1.0319 - accuracy: 0.5336 - val_loss: 1.0398 - val_accuracy: 0.5082 - 104ms/epoch - 3ms/step\n",
      "Epoch 190/300\n",
      "30/30 - 0s - loss: 1.0179 - accuracy: 0.5725 - val_loss: 1.0381 - val_accuracy: 0.5082 - 99ms/epoch - 3ms/step\n",
      "Epoch 191/300\n",
      "30/30 - 0s - loss: 1.0320 - accuracy: 0.5279 - val_loss: 1.0387 - val_accuracy: 0.4918 - 100ms/epoch - 3ms/step\n",
      "Epoch 192/300\n",
      "30/30 - 0s - loss: 0.9938 - accuracy: 0.5651 - val_loss: 1.0390 - val_accuracy: 0.5082 - 102ms/epoch - 3ms/step\n",
      "Epoch 193/300\n",
      "30/30 - 0s - loss: 1.0095 - accuracy: 0.5799 - val_loss: 1.0409 - val_accuracy: 0.5082 - 100ms/epoch - 3ms/step\n",
      "Epoch 194/300\n",
      "30/30 - 0s - loss: 1.0445 - accuracy: 0.5093 - val_loss: 1.0396 - val_accuracy: 0.5082 - 107ms/epoch - 4ms/step\n",
      "Epoch 195/300\n",
      "30/30 - 0s - loss: 0.9951 - accuracy: 0.5390 - val_loss: 1.0436 - val_accuracy: 0.5246 - 109ms/epoch - 4ms/step\n",
      "Epoch 196/300\n",
      "30/30 - 0s - loss: 0.9833 - accuracy: 0.5874 - val_loss: 1.0400 - val_accuracy: 0.4918 - 108ms/epoch - 4ms/step\n",
      "Epoch 197/300\n",
      "30/30 - 0s - loss: 1.0195 - accuracy: 0.5390 - val_loss: 1.0423 - val_accuracy: 0.5082 - 109ms/epoch - 4ms/step\n",
      "Epoch 198/300\n",
      "30/30 - 0s - loss: 0.9924 - accuracy: 0.5746 - val_loss: 1.0382 - val_accuracy: 0.4754 - 117ms/epoch - 4ms/step\n",
      "Epoch 199/300\n",
      "30/30 - 0s - loss: 1.0466 - accuracy: 0.5130 - val_loss: 1.0400 - val_accuracy: 0.5082 - 108ms/epoch - 4ms/step\n",
      "Epoch 200/300\n",
      "30/30 - 0s - loss: 0.9770 - accuracy: 0.5836 - val_loss: 1.0391 - val_accuracy: 0.5082 - 98ms/epoch - 3ms/step\n",
      "Epoch 201/300\n",
      "30/30 - 0s - loss: 1.0180 - accuracy: 0.5316 - val_loss: 1.0370 - val_accuracy: 0.4918 - 107ms/epoch - 4ms/step\n",
      "Epoch 202/300\n",
      "30/30 - 0s - loss: 0.9873 - accuracy: 0.5688 - val_loss: 1.0400 - val_accuracy: 0.5082 - 111ms/epoch - 4ms/step\n",
      "Epoch 203/300\n",
      "30/30 - 0s - loss: 1.0294 - accuracy: 0.5613 - val_loss: 1.0422 - val_accuracy: 0.5082 - 110ms/epoch - 4ms/step\n",
      "Epoch 204/300\n",
      "30/30 - 0s - loss: 1.0361 - accuracy: 0.5428 - val_loss: 1.0472 - val_accuracy: 0.5082 - 101ms/epoch - 3ms/step\n",
      "Epoch 205/300\n",
      "30/30 - 0s - loss: 1.0234 - accuracy: 0.5651 - val_loss: 1.0391 - val_accuracy: 0.4918 - 99ms/epoch - 3ms/step\n",
      "Epoch 206/300\n",
      "30/30 - 0s - loss: 1.0105 - accuracy: 0.5613 - val_loss: 1.0396 - val_accuracy: 0.5082 - 104ms/epoch - 3ms/step\n",
      "Epoch 207/300\n",
      "30/30 - 0s - loss: 1.0111 - accuracy: 0.5709 - val_loss: 1.0415 - val_accuracy: 0.5082 - 113ms/epoch - 4ms/step\n",
      "Epoch 208/300\n",
      "30/30 - 0s - loss: 1.0265 - accuracy: 0.5428 - val_loss: 1.0398 - val_accuracy: 0.5082 - 115ms/epoch - 4ms/step\n",
      "Epoch 209/300\n",
      "30/30 - 0s - loss: 0.9801 - accuracy: 0.5688 - val_loss: 1.0404 - val_accuracy: 0.5082 - 100ms/epoch - 3ms/step\n",
      "Epoch 210/300\n",
      "30/30 - 0s - loss: 1.0358 - accuracy: 0.5316 - val_loss: 1.0399 - val_accuracy: 0.5082 - 109ms/epoch - 4ms/step\n",
      "Epoch 211/300\n",
      "30/30 - 0s - loss: 1.0343 - accuracy: 0.5428 - val_loss: 1.0395 - val_accuracy: 0.4918 - 107ms/epoch - 4ms/step\n",
      "Epoch 212/300\n",
      "30/30 - 0s - loss: 1.0014 - accuracy: 0.5613 - val_loss: 1.0382 - val_accuracy: 0.5082 - 105ms/epoch - 3ms/step\n",
      "Epoch 213/300\n",
      "30/30 - 0s - loss: 0.9963 - accuracy: 0.5502 - val_loss: 1.0392 - val_accuracy: 0.4918 - 101ms/epoch - 3ms/step\n",
      "Epoch 214/300\n",
      "30/30 - 0s - loss: 0.9877 - accuracy: 0.5725 - val_loss: 1.0382 - val_accuracy: 0.4918 - 101ms/epoch - 3ms/step\n",
      "Epoch 215/300\n",
      "30/30 - 0s - loss: 1.0055 - accuracy: 0.5390 - val_loss: 1.0420 - val_accuracy: 0.5082 - 107ms/epoch - 4ms/step\n",
      "Epoch 216/300\n",
      "30/30 - 0s - loss: 1.0471 - accuracy: 0.5373 - val_loss: 1.0411 - val_accuracy: 0.4918 - 109ms/epoch - 4ms/step\n",
      "Epoch 217/300\n",
      "30/30 - 0s - loss: 1.0099 - accuracy: 0.5613 - val_loss: 1.0454 - val_accuracy: 0.5082 - 103ms/epoch - 3ms/step\n",
      "Epoch 218/300\n",
      "30/30 - 0s - loss: 1.0152 - accuracy: 0.5465 - val_loss: 1.0435 - val_accuracy: 0.5082 - 108ms/epoch - 4ms/step\n",
      "Epoch 219/300\n",
      "30/30 - 0s - loss: 1.0185 - accuracy: 0.5502 - val_loss: 1.0440 - val_accuracy: 0.5082 - 109ms/epoch - 4ms/step\n",
      "Epoch 220/300\n",
      "30/30 - 0s - loss: 1.0318 - accuracy: 0.5390 - val_loss: 1.0445 - val_accuracy: 0.5246 - 111ms/epoch - 4ms/step\n",
      "Epoch 221/300\n",
      "30/30 - 0s - loss: 0.9782 - accuracy: 0.5651 - val_loss: 1.0470 - val_accuracy: 0.5082 - 98ms/epoch - 3ms/step\n",
      "Epoch 222/300\n",
      "30/30 - 0s - loss: 0.9570 - accuracy: 0.6320 - val_loss: 1.0514 - val_accuracy: 0.5246 - 104ms/epoch - 3ms/step\n",
      "Epoch 223/300\n",
      "30/30 - 0s - loss: 1.0809 - accuracy: 0.5167 - val_loss: 1.0437 - val_accuracy: 0.5082 - 109ms/epoch - 4ms/step\n",
      "Epoch 224/300\n",
      "30/30 - 0s - loss: 1.0316 - accuracy: 0.5576 - val_loss: 1.0389 - val_accuracy: 0.4918 - 109ms/epoch - 4ms/step\n",
      "Epoch 225/300\n",
      "30/30 - 0s - loss: 0.9786 - accuracy: 0.5709 - val_loss: 1.0391 - val_accuracy: 0.5082 - 97ms/epoch - 3ms/step\n",
      "Epoch 226/300\n",
      "30/30 - 0s - loss: 1.0087 - accuracy: 0.5762 - val_loss: 1.0365 - val_accuracy: 0.4918 - 110ms/epoch - 4ms/step\n",
      "Epoch 227/300\n",
      "30/30 - 0s - loss: 1.0152 - accuracy: 0.5390 - val_loss: 1.0372 - val_accuracy: 0.4918 - 112ms/epoch - 4ms/step\n",
      "Epoch 228/300\n",
      "30/30 - 0s - loss: 1.0228 - accuracy: 0.5502 - val_loss: 1.0377 - val_accuracy: 0.4918 - 115ms/epoch - 4ms/step\n",
      "Epoch 229/300\n",
      "30/30 - 0s - loss: 1.0179 - accuracy: 0.5465 - val_loss: 1.0369 - val_accuracy: 0.4754 - 103ms/epoch - 3ms/step\n",
      "Epoch 230/300\n",
      "30/30 - 0s - loss: 0.9899 - accuracy: 0.5762 - val_loss: 1.0379 - val_accuracy: 0.4918 - 108ms/epoch - 4ms/step\n",
      "Epoch 231/300\n",
      "30/30 - 0s - loss: 1.0031 - accuracy: 0.5502 - val_loss: 1.0393 - val_accuracy: 0.4918 - 108ms/epoch - 4ms/step\n",
      "Epoch 232/300\n",
      "30/30 - 0s - loss: 0.9763 - accuracy: 0.5985 - val_loss: 1.0390 - val_accuracy: 0.5082 - 101ms/epoch - 3ms/step\n",
      "Epoch 233/300\n",
      "30/30 - 0s - loss: 1.0222 - accuracy: 0.5428 - val_loss: 1.0358 - val_accuracy: 0.4918 - 109ms/epoch - 4ms/step\n",
      "Epoch 234/300\n",
      "30/30 - 0s - loss: 1.0200 - accuracy: 0.5373 - val_loss: 1.0370 - val_accuracy: 0.4918 - 109ms/epoch - 4ms/step\n",
      "Epoch 235/300\n",
      "30/30 - 0s - loss: 0.9850 - accuracy: 0.5836 - val_loss: 1.0383 - val_accuracy: 0.4918 - 102ms/epoch - 3ms/step\n",
      "Epoch 236/300\n",
      "30/30 - 0s - loss: 0.9892 - accuracy: 0.5799 - val_loss: 1.0382 - val_accuracy: 0.4918 - 104ms/epoch - 3ms/step\n",
      "Epoch 237/300\n",
      "30/30 - 0s - loss: 0.9975 - accuracy: 0.5576 - val_loss: 1.0366 - val_accuracy: 0.4918 - 107ms/epoch - 4ms/step\n",
      "Epoch 238/300\n",
      "30/30 - 0s - loss: 1.0426 - accuracy: 0.5130 - val_loss: 1.0383 - val_accuracy: 0.4918 - 100ms/epoch - 3ms/step\n",
      "Epoch 239/300\n",
      "30/30 - 0s - loss: 1.0275 - accuracy: 0.5688 - val_loss: 1.0371 - val_accuracy: 0.4918 - 100ms/epoch - 3ms/step\n",
      "Epoch 240/300\n",
      "30/30 - 0s - loss: 0.9901 - accuracy: 0.5613 - val_loss: 1.0424 - val_accuracy: 0.5246 - 99ms/epoch - 3ms/step\n",
      "Epoch 241/300\n",
      "30/30 - 0s - loss: 1.0317 - accuracy: 0.5390 - val_loss: 1.0392 - val_accuracy: 0.4918 - 103ms/epoch - 3ms/step\n",
      "Epoch 242/300\n",
      "30/30 - 0s - loss: 1.0101 - accuracy: 0.5576 - val_loss: 1.0364 - val_accuracy: 0.4918 - 96ms/epoch - 3ms/step\n",
      "Epoch 243/300\n",
      "30/30 - 0s - loss: 0.9745 - accuracy: 0.5858 - val_loss: 1.0360 - val_accuracy: 0.4918 - 104ms/epoch - 3ms/step\n",
      "Epoch 244/300\n",
      "30/30 - 0s - loss: 0.9728 - accuracy: 0.6059 - val_loss: 1.0356 - val_accuracy: 0.5082 - 100ms/epoch - 3ms/step\n",
      "Epoch 245/300\n",
      "30/30 - 0s - loss: 0.9775 - accuracy: 0.5613 - val_loss: 1.0406 - val_accuracy: 0.4918 - 100ms/epoch - 3ms/step\n",
      "Epoch 246/300\n",
      "30/30 - 0s - loss: 0.9826 - accuracy: 0.5465 - val_loss: 1.0487 - val_accuracy: 0.5246 - 103ms/epoch - 3ms/step\n",
      "Epoch 247/300\n",
      "30/30 - 0s - loss: 0.9673 - accuracy: 0.5725 - val_loss: 1.0428 - val_accuracy: 0.5246 - 104ms/epoch - 3ms/step\n",
      "Epoch 248/300\n",
      "30/30 - 0s - loss: 1.0299 - accuracy: 0.5353 - val_loss: 1.0363 - val_accuracy: 0.4918 - 105ms/epoch - 4ms/step\n",
      "Epoch 249/300\n",
      "30/30 - 0s - loss: 0.9658 - accuracy: 0.6022 - val_loss: 1.0381 - val_accuracy: 0.5082 - 102ms/epoch - 3ms/step\n",
      "Epoch 250/300\n",
      "30/30 - 0s - loss: 1.0464 - accuracy: 0.5279 - val_loss: 1.0378 - val_accuracy: 0.4918 - 102ms/epoch - 3ms/step\n",
      "Epoch 251/300\n",
      "30/30 - 0s - loss: 1.0542 - accuracy: 0.5316 - val_loss: 1.0396 - val_accuracy: 0.4918 - 104ms/epoch - 3ms/step\n",
      "Epoch 252/300\n",
      "30/30 - 0s - loss: 0.9832 - accuracy: 0.5858 - val_loss: 1.0422 - val_accuracy: 0.5246 - 101ms/epoch - 3ms/step\n",
      "Epoch 253/300\n",
      "30/30 - 0s - loss: 1.0203 - accuracy: 0.5613 - val_loss: 1.0380 - val_accuracy: 0.4918 - 100ms/epoch - 3ms/step\n",
      "Epoch 254/300\n",
      "30/30 - 0s - loss: 0.9979 - accuracy: 0.5502 - val_loss: 1.0425 - val_accuracy: 0.5246 - 103ms/epoch - 3ms/step\n",
      "Epoch 255/300\n",
      "30/30 - 0s - loss: 0.9906 - accuracy: 0.5762 - val_loss: 1.0352 - val_accuracy: 0.4918 - 101ms/epoch - 3ms/step\n",
      "Epoch 256/300\n",
      "30/30 - 0s - loss: 1.0019 - accuracy: 0.5799 - val_loss: 1.0391 - val_accuracy: 0.4918 - 101ms/epoch - 3ms/step\n",
      "Epoch 257/300\n",
      "30/30 - 0s - loss: 1.0078 - accuracy: 0.5799 - val_loss: 1.0377 - val_accuracy: 0.4918 - 106ms/epoch - 4ms/step\n",
      "Epoch 258/300\n",
      "30/30 - 0s - loss: 1.0123 - accuracy: 0.5502 - val_loss: 1.0364 - val_accuracy: 0.4918 - 107ms/epoch - 4ms/step\n",
      "Epoch 259/300\n",
      "30/30 - 0s - loss: 0.9704 - accuracy: 0.5762 - val_loss: 1.0365 - val_accuracy: 0.4918 - 105ms/epoch - 3ms/step\n",
      "Epoch 260/300\n",
      "30/30 - 0s - loss: 1.0206 - accuracy: 0.5613 - val_loss: 1.0390 - val_accuracy: 0.4918 - 104ms/epoch - 3ms/step\n",
      "Epoch 261/300\n",
      "30/30 - 0s - loss: 1.0107 - accuracy: 0.5709 - val_loss: 1.0365 - val_accuracy: 0.4918 - 102ms/epoch - 3ms/step\n",
      "Epoch 262/300\n",
      "30/30 - 0s - loss: 0.9782 - accuracy: 0.5762 - val_loss: 1.0352 - val_accuracy: 0.5082 - 101ms/epoch - 3ms/step\n",
      "Epoch 263/300\n",
      "30/30 - 0s - loss: 0.9941 - accuracy: 0.5465 - val_loss: 1.0364 - val_accuracy: 0.5082 - 100ms/epoch - 3ms/step\n",
      "Epoch 264/300\n",
      "30/30 - 0s - loss: 0.9774 - accuracy: 0.5836 - val_loss: 1.0341 - val_accuracy: 0.4918 - 105ms/epoch - 3ms/step\n",
      "Epoch 265/300\n",
      "30/30 - 0s - loss: 0.9889 - accuracy: 0.5948 - val_loss: 1.0324 - val_accuracy: 0.4918 - 104ms/epoch - 3ms/step\n",
      "Epoch 266/300\n",
      "30/30 - 0s - loss: 1.0324 - accuracy: 0.5390 - val_loss: 1.0337 - val_accuracy: 0.5246 - 100ms/epoch - 3ms/step\n",
      "Epoch 267/300\n",
      "30/30 - 0s - loss: 0.9644 - accuracy: 0.5911 - val_loss: 1.0341 - val_accuracy: 0.4918 - 104ms/epoch - 3ms/step\n",
      "Epoch 268/300\n",
      "30/30 - 0s - loss: 1.0107 - accuracy: 0.5576 - val_loss: 1.0358 - val_accuracy: 0.4918 - 103ms/epoch - 3ms/step\n",
      "Epoch 269/300\n",
      "30/30 - 0s - loss: 1.0012 - accuracy: 0.5725 - val_loss: 1.0339 - val_accuracy: 0.4918 - 101ms/epoch - 3ms/step\n",
      "Epoch 270/300\n",
      "30/30 - 0s - loss: 0.9852 - accuracy: 0.5672 - val_loss: 1.0375 - val_accuracy: 0.4918 - 102ms/epoch - 3ms/step\n",
      "Epoch 271/300\n",
      "WARNING:tensorflow:Your input ran out of data; interrupting training. Make sure that your dataset or generator can generate at least `steps_per_epoch * epochs` batches (in this case, 9000 batches). You may need to use the repeat() function when building your dataset.\n",
      "30/30 - 0s - loss: 0.9852 - accuracy: 0.5672 - val_loss: 1.0375 - val_accuracy: 0.4918 - 78ms/epoch - 3ms/step\n"
     ]
    },
    {
     "data": {
      "text/plain": [
       "<keras.callbacks.History at 0x2fa90ea96f0>"
      ]
     },
     "execution_count": 565,
     "metadata": {},
     "output_type": "execute_result"
    }
   ],
   "source": [
    "model.fit(x_train_grid, y_train_grid,  epochs=300,\n",
    "             #validation_data= x_test_grid_sc,\n",
    "             # batch_size=batch_size, \n",
    "                steps_per_epoch=30,\n",
    "          validation_split=0.2,\n",
    "              verbose=2, \n",
    "          shuffle=True)"
   ]
  },
  {
   "cell_type": "code",
   "execution_count": 566,
   "id": "76cfc802",
   "metadata": {},
   "outputs": [
    {
     "name": "stdout",
     "output_type": "stream",
     "text": [
      "4/4 [==============================] - 0s 2ms/step\n"
     ]
    }
   ],
   "source": [
    "y_pred = model.predict(x_test_grid)\n",
    "y_pred = np.argmax(y_pred, axis=-1)"
   ]
  },
  {
   "cell_type": "code",
   "execution_count": 567,
   "id": "6775c534",
   "metadata": {},
   "outputs": [
    {
     "name": "stdout",
     "output_type": "stream",
     "text": [
      "Accuracy score: 0.5544554455445545\n"
     ]
    }
   ],
   "source": [
    "print('Accuracy score:',accuracy_score(y_test_grid, y_pred))"
   ]
  },
  {
   "cell_type": "code",
   "execution_count": 568,
   "id": "04693184",
   "metadata": {},
   "outputs": [
    {
     "name": "stdout",
     "output_type": "stream",
     "text": [
      "              precision    recall  f1-score   support\n",
      "\n",
      "           0       0.56      0.96      0.70        52\n",
      "           1       0.00      0.00      0.00        24\n",
      "           3       0.55      0.24      0.33        25\n",
      "\n",
      "    accuracy                           0.55       101\n",
      "   macro avg       0.37      0.40      0.35       101\n",
      "weighted avg       0.42      0.55      0.45       101\n",
      "\n"
     ]
    },
    {
     "name": "stderr",
     "output_type": "stream",
     "text": [
      "Precision and F-score are ill-defined and being set to 0.0 in labels with no predicted samples. Use `zero_division` parameter to control this behavior.\n",
      "Precision and F-score are ill-defined and being set to 0.0 in labels with no predicted samples. Use `zero_division` parameter to control this behavior.\n",
      "Precision and F-score are ill-defined and being set to 0.0 in labels with no predicted samples. Use `zero_division` parameter to control this behavior.\n"
     ]
    }
   ],
   "source": [
    "print(classification_report(y_test_grid, y_pred))"
   ]
  },
  {
   "cell_type": "markdown",
   "id": "10f01e93",
   "metadata": {},
   "source": [
    "### Проверим наилучшую модель на тестовой выборке"
   ]
  },
  {
   "cell_type": "code",
   "execution_count": 569,
   "id": "d2d4b07f",
   "metadata": {},
   "outputs": [],
   "source": [
    "best = grid_random_forest.best_estimator_"
   ]
  },
  {
   "cell_type": "code",
   "execution_count": 570,
   "id": "4ba8ad1a",
   "metadata": {},
   "outputs": [],
   "source": [
    "best_pred = grid_random_forest.predict(x_test_grid)"
   ]
  },
  {
   "cell_type": "code",
   "execution_count": 571,
   "id": "af707810",
   "metadata": {},
   "outputs": [
    {
     "name": "stdout",
     "output_type": "stream",
     "text": [
      "accuracy = 0.7326732673267327\n"
     ]
    }
   ],
   "source": [
    "print ('accuracy = {}'.format(accuracy_score(y_test_grid, best_pred)))"
   ]
  },
  {
   "cell_type": "code",
   "execution_count": 572,
   "id": "05787e7e",
   "metadata": {},
   "outputs": [
    {
     "name": "stdout",
     "output_type": "stream",
     "text": [
      "              precision    recall  f1-score   support\n",
      "\n",
      "           0       0.70      0.96      0.81        52\n",
      "           1       0.80      0.17      0.28        24\n",
      "           3       0.80      0.80      0.80        25\n",
      "\n",
      "    accuracy                           0.73       101\n",
      "   macro avg       0.77      0.64      0.63       101\n",
      "weighted avg       0.75      0.73      0.68       101\n",
      "\n"
     ]
    }
   ],
   "source": [
    "print(classification_report(y_test_grid, best_pred))"
   ]
  },
  {
   "cell_type": "markdown",
   "id": "e30bab00",
   "metadata": {},
   "source": [
    "#### Выведем матрицу ошибок на тесте"
   ]
  },
  {
   "cell_type": "code",
   "execution_count": 573,
   "id": "a5616db2",
   "metadata": {},
   "outputs": [],
   "source": [
    "cm = confusion_matrix(y_test_grid, best_pred, labels=grid_random_forest.classes_)"
   ]
  },
  {
   "cell_type": "code",
   "execution_count": 574,
   "id": "7469988a",
   "metadata": {},
   "outputs": [
    {
     "data": {
      "image/png": "[encoded data removed]",
      "text/plain": [
       "<Figure size 1000x500 with 2 Axes>"
      ]
     },
     "metadata": {},
     "output_type": "display_data"
    }
   ],
   "source": [
    "disp = ConfusionMatrixDisplay(confusion_matrix=cm,\n",
    "                               display_labels=grid_random_forest.classes_)\n",
    "disp.plot(cmap='Blues')\n",
    "plt.show()"
   ]
  },
  {
   "cell_type": "markdown",
   "id": "d9d0371c",
   "metadata": {},
   "source": [
    "### Проверим модель на адекватность"
   ]
  },
  {
   "cell_type": "code",
   "execution_count": 575,
   "id": "bae2d9a7",
   "metadata": {},
   "outputs": [],
   "source": [
    "features_dummy = data_ready.drop(['RiskLevel'], axis=1)\n",
    "target_dummy = data_ready['RiskLevel']"
   ]
  },
  {
   "cell_type": "code",
   "execution_count": 576,
   "id": "e9865840",
   "metadata": {},
   "outputs": [
    {
     "data": {
      "text/html": [
       "<style>#sk-container-id-14 {color: black;background-color: white;}#sk-container-id-14 pre{padding: 0;}#sk-container-id-14 div.sk-toggleable {background-color: white;}#sk-container-id-14 label.sk-toggleable__label {cursor: pointer;display: block;width: 100%;margin-bottom: 0;padding: 0.3em;box-sizing: border-box;text-align: center;}#sk-container-id-14 label.sk-toggleable__label-arrow:before {content: \"▸\";float: left;margin-right: 0.25em;color: #696969;}#sk-container-id-14 label.sk-toggleable__label-arrow:hover:before {color: black;}#sk-container-id-14 div.sk-estimator:hover label.sk-toggleable__label-arrow:before {color: black;}#sk-container-id-14 div.sk-toggleable__content {max-height: 0;max-width: 0;overflow: hidden;text-align: left;background-color: #f0f8ff;}#sk-container-id-14 div.sk-toggleable__content pre {margin: 0.2em;color: black;border-radius: 0.25em;background-color: #f0f8ff;}#sk-container-id-14 input.sk-toggleable__control:checked~div.sk-toggleable__content {max-height: 200px;max-width: 100%;overflow: auto;}#sk-container-id-14 input.sk-toggleable__control:checked~label.sk-toggleable__label-arrow:before {content: \"▾\";}#sk-container-id-14 div.sk-estimator input.sk-toggleable__control:checked~label.sk-toggleable__label {background-color: #d4ebff;}#sk-container-id-14 div.sk-label input.sk-toggleable__control:checked~label.sk-toggleable__label {background-color: #d4ebff;}#sk-container-id-14 input.sk-hidden--visually {border: 0;clip: rect(1px 1px 1px 1px);clip: rect(1px, 1px, 1px, 1px);height: 1px;margin: -1px;overflow: hidden;padding: 0;position: absolute;width: 1px;}#sk-container-id-14 div.sk-estimator {font-family: monospace;background-color: #f0f8ff;border: 1px dotted black;border-radius: 0.25em;box-sizing: border-box;margin-bottom: 0.5em;}#sk-container-id-14 div.sk-estimator:hover {background-color: #d4ebff;}#sk-container-id-14 div.sk-parallel-item::after {content: \"\";width: 100%;border-bottom: 1px solid gray;flex-grow: 1;}#sk-container-id-14 div.sk-label:hover label.sk-toggleable__label {background-color: #d4ebff;}#sk-container-id-14 div.sk-serial::before {content: \"\";position: absolute;border-left: 1px solid gray;box-sizing: border-box;top: 0;bottom: 0;left: 50%;z-index: 0;}#sk-container-id-14 div.sk-serial {display: flex;flex-direction: column;align-items: center;background-color: white;padding-right: 0.2em;padding-left: 0.2em;position: relative;}#sk-container-id-14 div.sk-item {position: relative;z-index: 1;}#sk-container-id-14 div.sk-parallel {display: flex;align-items: stretch;justify-content: center;background-color: white;position: relative;}#sk-container-id-14 div.sk-item::before, #sk-container-id-14 div.sk-parallel-item::before {content: \"\";position: absolute;border-left: 1px solid gray;box-sizing: border-box;top: 0;bottom: 0;left: 50%;z-index: -1;}#sk-container-id-14 div.sk-parallel-item {display: flex;flex-direction: column;z-index: 1;position: relative;background-color: white;}#sk-container-id-14 div.sk-parallel-item:first-child::after {align-self: flex-end;width: 50%;}#sk-container-id-14 div.sk-parallel-item:last-child::after {align-self: flex-start;width: 50%;}#sk-container-id-14 div.sk-parallel-item:only-child::after {width: 0;}#sk-container-id-14 div.sk-dashed-wrapped {border: 1px dashed gray;margin: 0 0.4em 0.5em 0.4em;box-sizing: border-box;padding-bottom: 0.4em;background-color: white;}#sk-container-id-14 div.sk-label label {font-family: monospace;font-weight: bold;display: inline-block;line-height: 1.2em;}#sk-container-id-14 div.sk-label-container {text-align: center;}#sk-container-id-14 div.sk-container {/* jupyter's `normalize.less` sets `[hidden] { display: none; }` but bootstrap.min.css set `[hidden] { display: none !important; }` so we also need the `!important` here to be able to override the default hidden behavior on the sphinx rendered scikit-learn.org. See: https://github.com/scikit-learn/scikit-learn/issues/21755 */display: inline-block !important;position: relative;}#sk-container-id-14 div.sk-text-repr-fallback {display: none;}</style><div id=\"sk-container-id-14\" class=\"sk-top-container\"><div class=\"sk-text-repr-fallback\"><pre>DummyClassifier(random_state=12345, strategy=&#x27;most_frequent&#x27;)</pre><b>In a Jupyter environment, please rerun this cell to show the HTML representation or trust the notebook. <br />On GitHub, the HTML representation is unable to render, please try loading this page with nbviewer.org.</b></div><div class=\"sk-container\" hidden><div class=\"sk-item\"><div class=\"sk-estimator sk-toggleable\"><input class=\"sk-toggleable__control sk-hidden--visually\" id=\"sk-estimator-id-36\" type=\"checkbox\" checked><label for=\"sk-estimator-id-36\" class=\"sk-toggleable__label sk-toggleable__label-arrow\">DummyClassifier</label><div class=\"sk-toggleable__content\"><pre>DummyClassifier(random_state=12345, strategy=&#x27;most_frequent&#x27;)</pre></div></div></div></div></div>"
      ],
      "text/plain": [
       "DummyClassifier(random_state=12345, strategy='most_frequent')"
      ]
     },
     "execution_count": 576,
     "metadata": {},
     "output_type": "execute_result"
    }
   ],
   "source": [
    "dummy_data = DummyClassifier(strategy=\"most_frequent\", random_state=12345)\n",
    "\n",
    "dummy_data.fit(features_dummy, target_dummy)"
   ]
  },
  {
   "cell_type": "code",
   "execution_count": 577,
   "id": "4e7743f5",
   "metadata": {},
   "outputs": [
    {
     "data": {
      "text/plain": [
       "0.5123762376237624"
      ]
     },
     "execution_count": 577,
     "metadata": {},
     "output_type": "execute_result"
    }
   ],
   "source": [
    "dummy_data.score(features_dummy, target_dummy)"
   ]
  },
  {
   "cell_type": "markdown",
   "id": "09e878d8",
   "metadata": {},
   "source": [
    "### Анализ важности факторов для наилучшей модели"
   ]
  },
  {
   "cell_type": "markdown",
   "id": "a2d327a1",
   "metadata": {},
   "source": [
    "Используем Shap и feature_importances для анализа важности факторов."
   ]
  },
  {
   "cell_type": "code",
   "execution_count": 578,
   "id": "b8751f6e",
   "metadata": {},
   "outputs": [],
   "source": [
    "mod = grid_random_forest.best_estimator_"
   ]
  },
  {
   "cell_type": "code",
   "execution_count": 579,
   "id": "46cc286d",
   "metadata": {},
   "outputs": [
    {
     "data": {
      "image/png": "[encoded data removed]",
      "text/plain": [
       "<Figure size 800x630 with 1 Axes>"
      ]
     },
     "metadata": {},
     "output_type": "display_data"
    }
   ],
   "source": [
    "shap_test = shap.TreeExplainer(mod).shap_values(x_test_grid)\n",
    "shap.summary_plot(shap_test, x_test_grid, max_display=25, class_names=y_train_grid.unique())"
   ]
  },
  {
   "cell_type": "code",
   "execution_count": 580,
   "id": "8a09624b",
   "metadata": {},
   "outputs": [
    {
     "data": {
      "image/png": "[encoded data removed]",
      "text/plain": [
       "<Figure size 1000x500 with 1 Axes>"
      ]
     },
     "metadata": {},
     "output_type": "display_data"
    }
   ],
   "source": [
    "imp = pd.Series(grid_random_forest.best_estimator_.feature_importances_, data_ready.drop(['RiskLevel'], axis=1).columns)\n",
    "fig, ax = plt.subplots(figsize=(10,5))\n",
    "imp.plot.bar(ax=ax)\n",
    "ax.set_title(\"Важность признаков\")\n",
    "ax.set_ylabel('Важность')\n",
    "fig.tight_layout()"
   ]
  },
  {
   "cell_type": "markdown",
   "id": "f7b30b15",
   "metadata": {},
   "source": [
    "### Промежуточные выводы"
   ]
  },
  {
   "cell_type": "markdown",
   "id": "1a507e57",
   "metadata": {},
   "source": [
    "- Выборки разделены на тренировочную, тестовую и валидационную, выделен целевой признак.\n",
    "- Обучены 4 модели: RandomForestClassifier, DesicionTreeCLissifier, CatBoostClassifier и нейронная сеть с использованием Keras, применен автоматический подбор параметров, проведена нормализация признаков.\n",
    "- на тренировочной выборке точность предсказаний для RandomForestClassifier составила 0,72, для DesicionTreeCLissifier - 0,70, CatBoostClassifier - 0,66, нейронная сеть - 0,53.\n",
    "- наилучшая модель RandomForestClassifier проверена на тестовой выборке с результатом точности предсказания - 0,73, выведена матрица ошибок.\n",
    "- модель проверена на адекватность, показатели точности dummy модели составили 0,51.\n",
    "- проведен анализ важности факторов с помощью библиотеки shap и feature_importances. Интервал уровня глюкозы в крови, систолическое давление и истинный уровень гюкозы оказались важнейшими признаками."
   ]
  },
  {
   "cell_type": "markdown",
   "id": "e35e6bbd",
   "metadata": {},
   "source": [
    "## Выводы"
   ]
  },
  {
   "cell_type": "markdown",
   "id": "7c7c830d",
   "metadata": {},
   "source": [
    "Нами проведен первичный анализ данных, произведена очистка и предобработка данных, сгенерироаны новые признаки. Затем обучены четыре модели. Наилучший результат показала модель RandomForestClassifier с показателем точности предсказаний 0,73. Данная модель проверена на тестовой выборке с показателем точности 0,73. Модель проверена на адекватность, также проведен анализ важности факторов. Интервал уровня глюкозы в крови, систолическое давление и истинный уровень гюкозы оказались важнейшими признаками.\n",
    "\n",
    "Таким образом, нами создана прогностическая модель рисков беременных, предсказывающая уровень риска с точностью 73 процента."
   ]
  },
  {
   "cell_type": "code",
   "execution_count": null,
   "id": "8dd9f40f",
   "metadata": {},
   "outputs": [],
   "source": []
  }
 ],
 "metadata": {
  "kernelspec": {
   "display_name": "Python 3 (ipykernel)",
   "language": "python",
   "name": "python3"
  },
  "language_info": {
   "codemirror_mode": {
    "name": "ipython",
    "version": 3
   },
   "file_extension": ".py",
   "mimetype": "text/x-python",
   "name": "python",
   "nbconvert_exporter": "python",
   "pygments_lexer": "ipython3",
   "version": "3.11.8"
  },
  "toc": {
   "base_numbering": 1,
   "nav_menu": {},
   "number_sections": true,
   "sideBar": true,
   "skip_h1_title": true,
   "title_cell": "Table of Contents",
   "title_sidebar": "Contents",
   "toc_cell": true,
   "toc_position": {
    "height": "calc(100% - 180px)",
    "left": "10px",
    "top": "150px",
    "width": "373.4px"
   },
   "toc_section_display": true,
   "toc_window_display": true
  }
 },
 "nbformat": 4,
 "nbformat_minor": 5
}
