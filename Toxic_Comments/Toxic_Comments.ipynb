{
 "cells": [
  {
   "cell_type": "markdown",
   "metadata": {},
   "source": [
    "# Проект классификации комментариев"
   ]
  },
  {
   "cell_type": "markdown",
   "metadata": {},
   "source": [
    "Интернет-магазин запускает новый сервис. Теперь пользователи могут редактировать и дополнять описания товаров, как в вики-сообществах. То есть клиенты предлагают свои правки и комментируют изменения других. Магазину нужен инструмент, который будет искать токсичные комментарии и отправлять их на модерацию. \n",
    "\n",
    "Необходимо построить модель со значением метрики качества *F1* не меньше 0.75 для классификации комментариев на позитивные и негативные."
   ]
  },
  {
   "cell_type": "markdown",
   "metadata": {},
   "source": [
    "**Цель проекта**: построить модель для поиска токсичных комментариев. \n",
    "\n",
    "**Шаги проекта**:\n",
    "- подготовить данные,\n",
    "- проверить датасет на сбалансированность,\n",
    "- очистить и лемматизировать текст,\n",
    "- создать и почистить мешок слов,\n",
    "- разделить данные на выборки и определить целевой признак,\n",
    "- вычислить TF-IDF для тренировочной и тестовой выборок,\n",
    "- обучить модели логистическая регрессия и CatBoostClassifier,\n",
    "- сделать выводы."
   ]
  },
  {
   "cell_type": "markdown",
   "metadata": {},
   "source": [
    "## Подготовка"
   ]
  },
  {
   "cell_type": "code",
   "execution_count": 214,
   "metadata": {
    "tags": []
   },
   "outputs": [
    {
     "name": "stdout",
     "output_type": "stream",
     "text": [
      "Requirement already satisfied: spacy in c:\\users\\user\\appdata\\roaming\\python\\python310\\site-packages (3.5.1)\n",
      "Requirement already satisfied: wasabi<1.2.0,>=0.9.1 in c:\\users\\user\\appdata\\roaming\\python\\python310\\site-packages (from spacy) (1.1.1)\n",
      "Requirement already satisfied: setuptools in c:\\programdata\\anaconda3\\lib\\site-packages (from spacy) (65.6.3)\n",
      "Requirement already satisfied: thinc<8.2.0,>=8.1.8 in c:\\users\\user\\appdata\\roaming\\python\\python310\\site-packages (from spacy) (8.1.9)\n",
      "Requirement already satisfied: srsly<3.0.0,>=2.4.3 in c:\\users\\user\\appdata\\roaming\\python\\python310\\site-packages (from spacy) (2.4.6)\n",
      "Requirement already satisfied: requests<3.0.0,>=2.13.0 in c:\\programdata\\anaconda3\\lib\\site-packages (from spacy) (2.28.1)\n",
      "Requirement already satisfied: cymem<2.1.0,>=2.0.2 in c:\\users\\user\\appdata\\roaming\\python\\python310\\site-packages (from spacy) (2.0.7)\n",
      "Requirement already satisfied: preshed<3.1.0,>=3.0.2 in c:\\users\\user\\appdata\\roaming\\python\\python310\\site-packages (from spacy) (3.0.8)\n",
      "Requirement already satisfied: numpy>=1.15.0 in c:\\programdata\\anaconda3\\lib\\site-packages (from spacy) (1.23.5)\n",
      "Requirement already satisfied: spacy-legacy<3.1.0,>=3.0.11 in c:\\users\\user\\appdata\\roaming\\python\\python310\\site-packages (from spacy) (3.0.12)\n",
      "Requirement already satisfied: tqdm<5.0.0,>=4.38.0 in c:\\programdata\\anaconda3\\lib\\site-packages (from spacy) (4.64.1)\n",
      "Requirement already satisfied: jinja2 in c:\\programdata\\anaconda3\\lib\\site-packages (from spacy) (3.1.2)\n",
      "Requirement already satisfied: smart-open<7.0.0,>=5.2.1 in c:\\programdata\\anaconda3\\lib\\site-packages (from spacy) (5.2.1)\n",
      "Requirement already satisfied: catalogue<2.1.0,>=2.0.6 in c:\\users\\user\\appdata\\roaming\\python\\python310\\site-packages (from spacy) (2.0.8)\n",
      "Requirement already satisfied: langcodes<4.0.0,>=3.2.0 in c:\\users\\user\\appdata\\roaming\\python\\python310\\site-packages (from spacy) (3.3.0)\n",
      "Requirement already satisfied: murmurhash<1.1.0,>=0.28.0 in c:\\users\\user\\appdata\\roaming\\python\\python310\\site-packages (from spacy) (1.0.9)\n",
      "Requirement already satisfied: packaging>=20.0 in c:\\programdata\\anaconda3\\lib\\site-packages (from spacy) (22.0)\n",
      "Requirement already satisfied: spacy-loggers<2.0.0,>=1.0.0 in c:\\users\\user\\appdata\\roaming\\python\\python310\\site-packages (from spacy) (1.0.4)\n",
      "Requirement already satisfied: pydantic!=1.8,!=1.8.1,<1.11.0,>=1.7.4 in c:\\users\\user\\appdata\\roaming\\python\\python310\\site-packages (from spacy) (1.10.7)\n",
      "Requirement already satisfied: typer<0.8.0,>=0.3.0 in c:\\users\\user\\appdata\\roaming\\python\\python310\\site-packages (from spacy) (0.7.0)\n",
      "Requirement already satisfied: pathy>=0.10.0 in c:\\users\\user\\appdata\\roaming\\python\\python310\\site-packages (from spacy) (0.10.1)\n",
      "Requirement already satisfied: typing-extensions>=4.2.0 in c:\\programdata\\anaconda3\\lib\\site-packages (from pydantic!=1.8,!=1.8.1,<1.11.0,>=1.7.4->spacy) (4.4.0)\n",
      "Requirement already satisfied: certifi>=2017.4.17 in c:\\programdata\\anaconda3\\lib\\site-packages (from requests<3.0.0,>=2.13.0->spacy) (2022.12.7)\n",
      "Requirement already satisfied: idna<4,>=2.5 in c:\\programdata\\anaconda3\\lib\\site-packages (from requests<3.0.0,>=2.13.0->spacy) (3.4)\n",
      "Requirement already satisfied: urllib3<1.27,>=1.21.1 in c:\\programdata\\anaconda3\\lib\\site-packages (from requests<3.0.0,>=2.13.0->spacy) (1.26.14)\n",
      "Requirement already satisfied: charset-normalizer<3,>=2 in c:\\programdata\\anaconda3\\lib\\site-packages (from requests<3.0.0,>=2.13.0->spacy) (2.0.4)\n",
      "Requirement already satisfied: blis<0.8.0,>=0.7.8 in c:\\users\\user\\appdata\\roaming\\python\\python310\\site-packages (from thinc<8.2.0,>=8.1.8->spacy) (0.7.9)\n",
      "Requirement already satisfied: confection<1.0.0,>=0.0.1 in c:\\users\\user\\appdata\\roaming\\python\\python310\\site-packages (from thinc<8.2.0,>=8.1.8->spacy) (0.0.4)\n",
      "Requirement already satisfied: colorama in c:\\programdata\\anaconda3\\lib\\site-packages (from tqdm<5.0.0,>=4.38.0->spacy) (0.4.6)\n",
      "Requirement already satisfied: click<9.0.0,>=7.1.1 in c:\\programdata\\anaconda3\\lib\\site-packages (from typer<0.8.0,>=0.3.0->spacy) (8.0.4)\n",
      "Requirement already satisfied: MarkupSafe>=2.0 in c:\\programdata\\anaconda3\\lib\\site-packages (from jinja2->spacy) (2.1.1)\n",
      "Collecting en-core-web-sm==3.5.0\n",
      "  Downloading https://github.com/explosion/spacy-models/releases/download/en_core_web_sm-3.5.0/en_core_web_sm-3.5.0-py3-none-any.whl (12.8 MB)\n",
      "     --------------------------------------- 12.8/12.8 MB 10.7 MB/s eta 0:00:00\n",
      "Requirement already satisfied: spacy<3.6.0,>=3.5.0 in c:\\users\\user\\appdata\\roaming\\python\\python310\\site-packages (from en-core-web-sm==3.5.0) (3.5.1)\n",
      "Requirement already satisfied: spacy-loggers<2.0.0,>=1.0.0 in c:\\users\\user\\appdata\\roaming\\python\\python310\\site-packages (from spacy<3.6.0,>=3.5.0->en-core-web-sm==3.5.0) (1.0.4)\n",
      "Requirement already satisfied: murmurhash<1.1.0,>=0.28.0 in c:\\users\\user\\appdata\\roaming\\python\\python310\\site-packages (from spacy<3.6.0,>=3.5.0->en-core-web-sm==3.5.0) (1.0.9)\n",
      "Requirement already satisfied: setuptools in c:\\programdata\\anaconda3\\lib\\site-packages (from spacy<3.6.0,>=3.5.0->en-core-web-sm==3.5.0) (65.6.3)\n",
      "Requirement already satisfied: pydantic!=1.8,!=1.8.1,<1.11.0,>=1.7.4 in c:\\users\\user\\appdata\\roaming\\python\\python310\\site-packages (from spacy<3.6.0,>=3.5.0->en-core-web-sm==3.5.0) (1.10.7)\n",
      "Requirement already satisfied: thinc<8.2.0,>=8.1.8 in c:\\users\\user\\appdata\\roaming\\python\\python310\\site-packages (from spacy<3.6.0,>=3.5.0->en-core-web-sm==3.5.0) (8.1.9)\n",
      "Requirement already satisfied: numpy>=1.15.0 in c:\\programdata\\anaconda3\\lib\\site-packages (from spacy<3.6.0,>=3.5.0->en-core-web-sm==3.5.0) (1.23.5)\n",
      "Requirement already satisfied: typer<0.8.0,>=0.3.0 in c:\\users\\user\\appdata\\roaming\\python\\python310\\site-packages (from spacy<3.6.0,>=3.5.0->en-core-web-sm==3.5.0) (0.7.0)\n",
      "Requirement already satisfied: srsly<3.0.0,>=2.4.3 in c:\\users\\user\\appdata\\roaming\\python\\python310\\site-packages (from spacy<3.6.0,>=3.5.0->en-core-web-sm==3.5.0) (2.4.6)\n",
      "Requirement already satisfied: pathy>=0.10.0 in c:\\users\\user\\appdata\\roaming\\python\\python310\\site-packages (from spacy<3.6.0,>=3.5.0->en-core-web-sm==3.5.0) (0.10.1)\n",
      "Requirement already satisfied: preshed<3.1.0,>=3.0.2 in c:\\users\\user\\appdata\\roaming\\python\\python310\\site-packages (from spacy<3.6.0,>=3.5.0->en-core-web-sm==3.5.0) (3.0.8)\n",
      "Requirement already satisfied: requests<3.0.0,>=2.13.0 in c:\\programdata\\anaconda3\\lib\\site-packages (from spacy<3.6.0,>=3.5.0->en-core-web-sm==3.5.0) (2.28.1)\n",
      "Requirement already satisfied: langcodes<4.0.0,>=3.2.0 in c:\\users\\user\\appdata\\roaming\\python\\python310\\site-packages (from spacy<3.6.0,>=3.5.0->en-core-web-sm==3.5.0) (3.3.0)\n",
      "Requirement already satisfied: catalogue<2.1.0,>=2.0.6 in c:\\users\\user\\appdata\\roaming\\python\\python310\\site-packages (from spacy<3.6.0,>=3.5.0->en-core-web-sm==3.5.0) (2.0.8)\n",
      "Requirement already satisfied: wasabi<1.2.0,>=0.9.1 in c:\\users\\user\\appdata\\roaming\\python\\python310\\site-packages (from spacy<3.6.0,>=3.5.0->en-core-web-sm==3.5.0) (1.1.1)\n",
      "Requirement already satisfied: packaging>=20.0 in c:\\programdata\\anaconda3\\lib\\site-packages (from spacy<3.6.0,>=3.5.0->en-core-web-sm==3.5.0) (22.0)\n",
      "Requirement already satisfied: spacy-legacy<3.1.0,>=3.0.11 in c:\\users\\user\\appdata\\roaming\\python\\python310\\site-packages (from spacy<3.6.0,>=3.5.0->en-core-web-sm==3.5.0) (3.0.12)\n",
      "Requirement already satisfied: jinja2 in c:\\programdata\\anaconda3\\lib\\site-packages (from spacy<3.6.0,>=3.5.0->en-core-web-sm==3.5.0) (3.1.2)\n",
      "Requirement already satisfied: tqdm<5.0.0,>=4.38.0 in c:\\programdata\\anaconda3\\lib\\site-packages (from spacy<3.6.0,>=3.5.0->en-core-web-sm==3.5.0) (4.64.1)\n",
      "Requirement already satisfied: smart-open<7.0.0,>=5.2.1 in c:\\programdata\\anaconda3\\lib\\site-packages (from spacy<3.6.0,>=3.5.0->en-core-web-sm==3.5.0) (5.2.1)\n",
      "Requirement already satisfied: cymem<2.1.0,>=2.0.2 in c:\\users\\user\\appdata\\roaming\\python\\python310\\site-packages (from spacy<3.6.0,>=3.5.0->en-core-web-sm==3.5.0) (2.0.7)\n",
      "Requirement already satisfied: typing-extensions>=4.2.0 in c:\\programdata\\anaconda3\\lib\\site-packages (from pydantic!=1.8,!=1.8.1,<1.11.0,>=1.7.4->spacy<3.6.0,>=3.5.0->en-core-web-sm==3.5.0) (4.4.0)\n",
      "Requirement already satisfied: urllib3<1.27,>=1.21.1 in c:\\programdata\\anaconda3\\lib\\site-packages (from requests<3.0.0,>=2.13.0->spacy<3.6.0,>=3.5.0->en-core-web-sm==3.5.0) (1.26.14)\n",
      "Requirement already satisfied: certifi>=2017.4.17 in c:\\programdata\\anaconda3\\lib\\site-packages (from requests<3.0.0,>=2.13.0->spacy<3.6.0,>=3.5.0->en-core-web-sm==3.5.0) (2022.12.7)\n",
      "Requirement already satisfied: charset-normalizer<3,>=2 in c:\\programdata\\anaconda3\\lib\\site-packages (from requests<3.0.0,>=2.13.0->spacy<3.6.0,>=3.5.0->en-core-web-sm==3.5.0) (2.0.4)\n",
      "Requirement already satisfied: idna<4,>=2.5 in c:\\programdata\\anaconda3\\lib\\site-packages (from requests<3.0.0,>=2.13.0->spacy<3.6.0,>=3.5.0->en-core-web-sm==3.5.0) (3.4)\n",
      "Requirement already satisfied: blis<0.8.0,>=0.7.8 in c:\\users\\user\\appdata\\roaming\\python\\python310\\site-packages (from thinc<8.2.0,>=8.1.8->spacy<3.6.0,>=3.5.0->en-core-web-sm==3.5.0) (0.7.9)\n",
      "Requirement already satisfied: confection<1.0.0,>=0.0.1 in c:\\users\\user\\appdata\\roaming\\python\\python310\\site-packages (from thinc<8.2.0,>=8.1.8->spacy<3.6.0,>=3.5.0->en-core-web-sm==3.5.0) (0.0.4)\n",
      "Requirement already satisfied: colorama in c:\\programdata\\anaconda3\\lib\\site-packages (from tqdm<5.0.0,>=4.38.0->spacy<3.6.0,>=3.5.0->en-core-web-sm==3.5.0) (0.4.6)\n",
      "Requirement already satisfied: click<9.0.0,>=7.1.1 in c:\\programdata\\anaconda3\\lib\\site-packages (from typer<0.8.0,>=0.3.0->spacy<3.6.0,>=3.5.0->en-core-web-sm==3.5.0) (8.0.4)\n",
      "Requirement already satisfied: MarkupSafe>=2.0 in c:\\programdata\\anaconda3\\lib\\site-packages (from jinja2->spacy<3.6.0,>=3.5.0->en-core-web-sm==3.5.0) (2.1.1)\n",
      "\u001b[38;5;3m[!] As of spaCy v3.0, shortcuts like 'en' are deprecated. Please use\n",
      "the full pipeline package name 'en_core_web_sm' instead.\u001b[0m\n",
      "\u001b[38;5;2m[+] Download and installation successful\u001b[0m\n",
      "You can now load the package via spacy.load('en_core_web_sm')\n"
     ]
    }
   ],
   "source": [
    "import sys\n",
    "!{sys.executable} -m pip install spacy\n",
    "# Download spaCy's  'en' Model\n",
    "!{sys.executable} -m spacy download en\n",
    "from sklearn.feature_extraction.text import CountVectorizer"
   ]
  },
  {
   "cell_type": "code",
   "execution_count": 215,
   "metadata": {
    "tags": []
   },
   "outputs": [
    {
     "name": "stdout",
     "output_type": "stream",
     "text": [
      "Requirement already satisfied: catboost in c:\\users\\user\\appdata\\roaming\\python\\python310\\site-packages (1.1.1)\n",
      "Requirement already satisfied: pandas>=0.24.0 in c:\\programdata\\anaconda3\\lib\\site-packages (from catboost) (1.5.3)\n",
      "Requirement already satisfied: plotly in c:\\programdata\\anaconda3\\lib\\site-packages (from catboost) (5.9.0)\n",
      "Requirement already satisfied: numpy>=1.16.0 in c:\\programdata\\anaconda3\\lib\\site-packages (from catboost) (1.23.5)\n",
      "Requirement already satisfied: scipy in c:\\programdata\\anaconda3\\lib\\site-packages (from catboost) (1.10.0)\n",
      "Requirement already satisfied: matplotlib in c:\\programdata\\anaconda3\\lib\\site-packages (from catboost) (3.7.0)\n",
      "Requirement already satisfied: six in c:\\programdata\\anaconda3\\lib\\site-packages (from catboost) (1.16.0)\n",
      "Requirement already satisfied: graphviz in c:\\users\\user\\appdata\\roaming\\python\\python310\\site-packages (from catboost) (0.20.1)\n",
      "Requirement already satisfied: python-dateutil>=2.8.1 in c:\\programdata\\anaconda3\\lib\\site-packages (from pandas>=0.24.0->catboost) (2.8.2)\n",
      "Requirement already satisfied: pytz>=2020.1 in c:\\programdata\\anaconda3\\lib\\site-packages (from pandas>=0.24.0->catboost) (2022.7)\n",
      "Requirement already satisfied: pyparsing>=2.3.1 in c:\\programdata\\anaconda3\\lib\\site-packages (from matplotlib->catboost) (3.0.9)\n",
      "Requirement already satisfied: contourpy>=1.0.1 in c:\\programdata\\anaconda3\\lib\\site-packages (from matplotlib->catboost) (1.0.5)\n",
      "Requirement already satisfied: packaging>=20.0 in c:\\programdata\\anaconda3\\lib\\site-packages (from matplotlib->catboost) (22.0)\n",
      "Requirement already satisfied: fonttools>=4.22.0 in c:\\programdata\\anaconda3\\lib\\site-packages (from matplotlib->catboost) (4.25.0)\n",
      "Requirement already satisfied: cycler>=0.10 in c:\\programdata\\anaconda3\\lib\\site-packages (from matplotlib->catboost) (0.11.0)\n",
      "Requirement already satisfied: kiwisolver>=1.0.1 in c:\\programdata\\anaconda3\\lib\\site-packages (from matplotlib->catboost) (1.4.4)\n",
      "Requirement already satisfied: pillow>=6.2.0 in c:\\programdata\\anaconda3\\lib\\site-packages (from matplotlib->catboost) (9.4.0)\n",
      "Requirement already satisfied: tenacity>=6.2.0 in c:\\programdata\\anaconda3\\lib\\site-packages (from plotly->catboost) (8.0.1)\n",
      "Note: you may need to restart the kernel to use updated packages.\n"
     ]
    }
   ],
   "source": [
    "pip install catboost --no-cache-dir"
   ]
  },
  {
   "cell_type": "code",
   "execution_count": 216,
   "metadata": {
    "tags": []
   },
   "outputs": [
    {
     "name": "stdout",
     "output_type": "stream",
     "text": [
      "Collecting package metadata (current_repodata.json): ...working... done\n",
      "Solving environment: ...working... done\n",
      "\n",
      "# All requested packages already installed.\n",
      "\n",
      "\n",
      "Note: you may need to restart the kernel to use updated packages.\n"
     ]
    }
   ],
   "source": [
    "conda install -c conda-forge pandarallel"
   ]
  },
  {
   "cell_type": "code",
   "execution_count": 217,
   "metadata": {
    "tags": []
   },
   "outputs": [
    {
     "name": "stdout",
     "output_type": "stream",
     "text": [
      "Collecting package metadata (current_repodata.json): ...working... done\n",
      "Solving environment: ...working... done\n",
      "\n",
      "# All requested packages already installed.\n",
      "\n",
      "\n",
      "Note: you may need to restart the kernel to use updated packages.\n"
     ]
    }
   ],
   "source": [
    "conda install -c conda-forge lightgbm"
   ]
  },
  {
   "cell_type": "code",
   "execution_count": 218,
   "metadata": {},
   "outputs": [
    {
     "name": "stdout",
     "output_type": "stream",
     "text": [
      "Collecting package metadata (current_repodata.json): ...working... done\n",
      "Solving environment: ...working... done\n",
      "\n",
      "# All requested packages already installed.\n",
      "\n",
      "\n",
      "Note: you may need to restart the kernel to use updated packages.\n"
     ]
    }
   ],
   "source": [
    "conda install -c conda-forge wordcloud"
   ]
  },
  {
   "cell_type": "code",
   "execution_count": 219,
   "metadata": {
    "tags": []
   },
   "outputs": [],
   "source": [
    "import pandas as pd\n",
    "import nltk\n",
    "import spacy\n",
    "import re \n",
    "import time\n",
    "import catboost\n",
    "import requests\n",
    "import matplotlib.pyplot as plt\n",
    "\n",
    "from wordcloud import WordCloud\n",
    "from nltk.corpus import stopwords\n",
    "from sklearn.feature_extraction.text import TfidfVectorizer\n",
    "from sklearn.model_selection import train_test_split\n",
    "from sklearn.model_selection import RandomizedSearchCV\n",
    "from sklearn.model_selection import GridSearchCV\n",
    "from pymystem3 import Mystem\n",
    "from tqdm import tqdm\n",
    "from sklearn.linear_model import LogisticRegression\n",
    "from sklearn.pipeline import make_pipeline\n",
    "from sklearn.metrics import f1_score\n",
    "from sklearn.metrics import make_scorer\n",
    "\n",
    "\n",
    "from nltk import word_tokenize\n",
    "from nltk.probability import FreqDist\n",
    "\n",
    "\n",
    "from catboost import CatBoostClassifier\n",
    "\n",
    "from tqdm import tqdm\n",
    "from pandarallel import pandarallel\n",
    "from sklearn.preprocessing import StandardScaler"
   ]
  },
  {
   "cell_type": "markdown",
   "metadata": {},
   "source": [
    "### Откроем и изучим данные"
   ]
  },
  {
   "cell_type": "code",
   "execution_count": 222,
   "metadata": {
    "tags": []
   },
   "outputs": [],
   "source": [
    "try:\n",
    "\n",
    "    data = pd.read_csv(r'C:\\Users\\User\\Desktop\\DS\\Projects\\Викишоп МО для текстов\\toxic_comments.csv', index_col = 0)\n",
    "except:\n",
    "\n",
    "    data = pd.read_csv('/datasets/toxic_comments.csv', index_col = 0)  "
   ]
  },
  {
   "cell_type": "code",
   "execution_count": 223,
   "metadata": {
    "tags": []
   },
   "outputs": [
    {
     "data": {
      "text/html": [
       "<div>\n",
       "<style scoped>\n",
       "    .dataframe tbody tr th:only-of-type {\n",
       "        vertical-align: middle;\n",
       "    }\n",
       "\n",
       "    .dataframe tbody tr th {\n",
       "        vertical-align: top;\n",
       "    }\n",
       "\n",
       "    .dataframe thead th {\n",
       "        text-align: right;\n",
       "    }\n",
       "</style>\n",
       "<table border=\"1\" class=\"dataframe\">\n",
       "  <thead>\n",
       "    <tr style=\"text-align: right;\">\n",
       "      <th></th>\n",
       "      <th>text</th>\n",
       "      <th>toxic</th>\n",
       "    </tr>\n",
       "  </thead>\n",
       "  <tbody>\n",
       "    <tr>\n",
       "      <th>0</th>\n",
       "      <td>Explanation\\nWhy the edits made under my usern...</td>\n",
       "      <td>0</td>\n",
       "    </tr>\n",
       "    <tr>\n",
       "      <th>1</th>\n",
       "      <td>D'aww! He matches this background colour I'm s...</td>\n",
       "      <td>0</td>\n",
       "    </tr>\n",
       "    <tr>\n",
       "      <th>2</th>\n",
       "      <td>Hey man, I'm really not trying to edit war. It...</td>\n",
       "      <td>0</td>\n",
       "    </tr>\n",
       "    <tr>\n",
       "      <th>3</th>\n",
       "      <td>\"\\nMore\\nI can't make any real suggestions on ...</td>\n",
       "      <td>0</td>\n",
       "    </tr>\n",
       "    <tr>\n",
       "      <th>4</th>\n",
       "      <td>You, sir, are my hero. Any chance you remember...</td>\n",
       "      <td>0</td>\n",
       "    </tr>\n",
       "  </tbody>\n",
       "</table>\n",
       "</div>"
      ],
      "text/plain": [
       "                                                text  toxic\n",
       "0  Explanation\\nWhy the edits made under my usern...      0\n",
       "1  D'aww! He matches this background colour I'm s...      0\n",
       "2  Hey man, I'm really not trying to edit war. It...      0\n",
       "3  \"\\nMore\\nI can't make any real suggestions on ...      0\n",
       "4  You, sir, are my hero. Any chance you remember...      0"
      ]
     },
     "execution_count": 223,
     "metadata": {},
     "output_type": "execute_result"
    }
   ],
   "source": [
    "data.head()"
   ]
  },
  {
   "cell_type": "code",
   "execution_count": 224,
   "metadata": {
    "tags": []
   },
   "outputs": [
    {
     "name": "stdout",
     "output_type": "stream",
     "text": [
      "<class 'pandas.core.frame.DataFrame'>\n",
      "Int64Index: 159292 entries, 0 to 159450\n",
      "Data columns (total 2 columns):\n",
      " #   Column  Non-Null Count   Dtype \n",
      "---  ------  --------------   ----- \n",
      " 0   text    159292 non-null  object\n",
      " 1   toxic   159292 non-null  int64 \n",
      "dtypes: int64(1), object(1)\n",
      "memory usage: 3.6+ MB\n"
     ]
    }
   ],
   "source": [
    "data.info()"
   ]
  },
  {
   "cell_type": "markdown",
   "metadata": {},
   "source": [
    "Пропусков не обнаружено, типы данных соответсвуют."
   ]
  },
  {
   "cell_type": "code",
   "execution_count": 226,
   "metadata": {
    "scrolled": true,
    "tags": []
   },
   "outputs": [
    {
     "data": {
      "text/html": [
       "<div>\n",
       "<style scoped>\n",
       "    .dataframe tbody tr th:only-of-type {\n",
       "        vertical-align: middle;\n",
       "    }\n",
       "\n",
       "    .dataframe tbody tr th {\n",
       "        vertical-align: top;\n",
       "    }\n",
       "\n",
       "    .dataframe thead th {\n",
       "        text-align: right;\n",
       "    }\n",
       "</style>\n",
       "<table border=\"1\" class=\"dataframe\">\n",
       "  <thead>\n",
       "    <tr style=\"text-align: right;\">\n",
       "      <th></th>\n",
       "      <th>text</th>\n",
       "      <th>toxic</th>\n",
       "    </tr>\n",
       "  </thead>\n",
       "  <tbody>\n",
       "    <tr>\n",
       "      <th>78900</th>\n",
       "      <td>Edit request on 30 December 2011 \\n\\nPlease ad...</td>\n",
       "      <td>0</td>\n",
       "    </tr>\n",
       "    <tr>\n",
       "      <th>82785</th>\n",
       "      <td>Public apology \\n\\nI hereby make a public apol...</td>\n",
       "      <td>0</td>\n",
       "    </tr>\n",
       "    <tr>\n",
       "      <th>140378</th>\n",
       "      <td>Contested deletion \\n\\nThis page is not unambi...</td>\n",
       "      <td>0</td>\n",
       "    </tr>\n",
       "    <tr>\n",
       "      <th>86108</th>\n",
       "      <td>Please stop. If you continue to vandalize page...</td>\n",
       "      <td>0</td>\n",
       "    </tr>\n",
       "    <tr>\n",
       "      <th>500</th>\n",
       "      <td>Protecting 'Causes of the 1948 Palestinian exo...</td>\n",
       "      <td>0</td>\n",
       "    </tr>\n",
       "    <tr>\n",
       "      <th>151174</th>\n",
       "      <td>\"\\n\\n baiting Paul \\n\\nI don't think its entir...</td>\n",
       "      <td>0</td>\n",
       "    </tr>\n",
       "    <tr>\n",
       "      <th>148057</th>\n",
       "      <td>Each tradition is as good as another. So Im ha...</td>\n",
       "      <td>0</td>\n",
       "    </tr>\n",
       "    <tr>\n",
       "      <th>139006</th>\n",
       "      <td>\"\\nWhy? Does one need a \"\"stake\"\" in something...</td>\n",
       "      <td>0</td>\n",
       "    </tr>\n",
       "    <tr>\n",
       "      <th>33981</th>\n",
       "      <td>\"\\n\\nTalkback\\n\\nI regret Sir. I shall be more...</td>\n",
       "      <td>0</td>\n",
       "    </tr>\n",
       "    <tr>\n",
       "      <th>78780</th>\n",
       "      <td>Dinosaur \\nSupport given. I have always read t...</td>\n",
       "      <td>0</td>\n",
       "    </tr>\n",
       "  </tbody>\n",
       "</table>\n",
       "</div>"
      ],
      "text/plain": [
       "                                                     text  toxic\n",
       "78900   Edit request on 30 December 2011 \\n\\nPlease ad...      0\n",
       "82785   Public apology \\n\\nI hereby make a public apol...      0\n",
       "140378  Contested deletion \\n\\nThis page is not unambi...      0\n",
       "86108   Please stop. If you continue to vandalize page...      0\n",
       "500     Protecting 'Causes of the 1948 Palestinian exo...      0\n",
       "151174  \"\\n\\n baiting Paul \\n\\nI don't think its entir...      0\n",
       "148057  Each tradition is as good as another. So Im ha...      0\n",
       "139006  \"\\nWhy? Does one need a \"\"stake\"\" in something...      0\n",
       "33981   \"\\n\\nTalkback\\n\\nI regret Sir. I shall be more...      0\n",
       "78780   Dinosaur \\nSupport given. I have always read t...      0"
      ]
     },
     "execution_count": 226,
     "metadata": {},
     "output_type": "execute_result"
    }
   ],
   "source": [
    "data.sample(10)"
   ]
  },
  {
   "cell_type": "markdown",
   "metadata": {},
   "source": [
    "### Проверим датасет на сбалансированность"
   ]
  },
  {
   "cell_type": "code",
   "execution_count": 227,
   "metadata": {
    "tags": []
   },
   "outputs": [],
   "source": [
    "toxic = data['toxic'].value_counts()"
   ]
  },
  {
   "cell_type": "code",
   "execution_count": 228,
   "metadata": {
    "tags": []
   },
   "outputs": [
    {
     "data": {
      "text/plain": [
       "0    143106\n",
       "1     16186\n",
       "Name: toxic, dtype: int64"
      ]
     },
     "execution_count": 228,
     "metadata": {},
     "output_type": "execute_result"
    }
   ],
   "source": [
    "data_balance = pd.Series(toxic)\n",
    "data_balance"
   ]
  },
  {
   "cell_type": "code",
   "execution_count": 229,
   "metadata": {
    "tags": []
   },
   "outputs": [
    {
     "data": {
      "text/plain": [
       "10.161213369158526"
      ]
     },
     "execution_count": 229,
     "metadata": {},
     "output_type": "execute_result"
    }
   ],
   "source": [
    "toxic_rate = data_balance[1]*100/(data_balance[0]+data_balance[1])\n",
    "toxic_rate"
   ]
  },
  {
   "cell_type": "markdown",
   "metadata": {},
   "source": [
    "Таким образом, можно сделать вывод, что данные несбалансированы: 10 процентов приходится на токсичные комментарии. Точность модели для проверки адекватности должна быть более 0,89."
   ]
  },
  {
   "cell_type": "markdown",
   "metadata": {},
   "source": [
    "### Очистим и лемматизируем текст, приведем к нижнему регистру"
   ]
  },
  {
   "cell_type": "code",
   "execution_count": 230,
   "metadata": {
    "tags": []
   },
   "outputs": [],
   "source": [
    "data['text'] = data['text'].str.lower()"
   ]
  },
  {
   "cell_type": "code",
   "execution_count": 231,
   "metadata": {
    "tags": []
   },
   "outputs": [],
   "source": [
    "def clear_text(text):\n",
    "    lemm_engl = re.sub(r'[^a-zA-Z ]', ' ', text) \n",
    "    lemm_no_space = lemm_engl.split()\n",
    "    lemm = \" \".join(lemm_no_space)\n",
    "    return lemm"
   ]
  },
  {
   "cell_type": "code",
   "execution_count": 232,
   "metadata": {
    "tags": []
   },
   "outputs": [],
   "source": [
    "tqdm.pandas(desc=\"progress\")"
   ]
  },
  {
   "cell_type": "code",
   "execution_count": 233,
   "metadata": {
    "tags": []
   },
   "outputs": [
    {
     "name": "stderr",
     "output_type": "stream",
     "text": [
      "progress: 100%|█████████████████████████████████████████████████████████████| 159292/159292 [00:02<00:00, 54400.45it/s]\n"
     ]
    }
   ],
   "source": [
    "data['clear_text'] = data['text'].progress_apply(clear_text) "
   ]
  },
  {
   "cell_type": "code",
   "execution_count": 234,
   "metadata": {
    "tags": []
   },
   "outputs": [
    {
     "name": "stdout",
     "output_type": "stream",
     "text": [
      "CPU times: total: 16min 8s\n",
      "Wall time: 16min 10s\n"
     ]
    }
   ],
   "source": [
    "%%time\n",
    "lemm_text=[]\n",
    "\n",
    "\n",
    "sp = spacy.load('en_core_web_sm', disable=['parser', 'ner'])\n",
    "\n",
    "for i in data['clear_text']:\n",
    "    doc = sp(i)\n",
    "    lemm_text.append(\" \".join([token.lemma_ for token in doc]))\n"
   ]
  },
  {
   "cell_type": "code",
   "execution_count": 235,
   "metadata": {
    "tags": []
   },
   "outputs": [
    {
     "data": {
      "text/html": [
       "<div>\n",
       "<style scoped>\n",
       "    .dataframe tbody tr th:only-of-type {\n",
       "        vertical-align: middle;\n",
       "    }\n",
       "\n",
       "    .dataframe tbody tr th {\n",
       "        vertical-align: top;\n",
       "    }\n",
       "\n",
       "    .dataframe thead th {\n",
       "        text-align: right;\n",
       "    }\n",
       "</style>\n",
       "<table border=\"1\" class=\"dataframe\">\n",
       "  <thead>\n",
       "    <tr style=\"text-align: right;\">\n",
       "      <th></th>\n",
       "      <th>text</th>\n",
       "      <th>toxic</th>\n",
       "      <th>clear_text</th>\n",
       "      <th>lemm_text</th>\n",
       "    </tr>\n",
       "  </thead>\n",
       "  <tbody>\n",
       "    <tr>\n",
       "      <th>0</th>\n",
       "      <td>explanation\\nwhy the edits made under my usern...</td>\n",
       "      <td>0</td>\n",
       "      <td>explanation why the edits made under my userna...</td>\n",
       "      <td>explanation why the edit make under my usernam...</td>\n",
       "    </tr>\n",
       "    <tr>\n",
       "      <th>1</th>\n",
       "      <td>d'aww! he matches this background colour i'm s...</td>\n",
       "      <td>0</td>\n",
       "      <td>d aww he matches this background colour i m se...</td>\n",
       "      <td>d aww he match this background colour I m seem...</td>\n",
       "    </tr>\n",
       "    <tr>\n",
       "      <th>2</th>\n",
       "      <td>hey man, i'm really not trying to edit war. it...</td>\n",
       "      <td>0</td>\n",
       "      <td>hey man i m really not trying to edit war it s...</td>\n",
       "      <td>hey man I m really not try to edit war it s ju...</td>\n",
       "    </tr>\n",
       "    <tr>\n",
       "      <th>3</th>\n",
       "      <td>\"\\nmore\\ni can't make any real suggestions on ...</td>\n",
       "      <td>0</td>\n",
       "      <td>more i can t make any real suggestions on impr...</td>\n",
       "      <td>more I can t make any real suggestion on impro...</td>\n",
       "    </tr>\n",
       "    <tr>\n",
       "      <th>4</th>\n",
       "      <td>you, sir, are my hero. any chance you remember...</td>\n",
       "      <td>0</td>\n",
       "      <td>you sir are my hero any chance you remember wh...</td>\n",
       "      <td>you sir be my hero any chance you remember wha...</td>\n",
       "    </tr>\n",
       "  </tbody>\n",
       "</table>\n",
       "</div>"
      ],
      "text/plain": [
       "                                                text  toxic  \\\n",
       "0  explanation\\nwhy the edits made under my usern...      0   \n",
       "1  d'aww! he matches this background colour i'm s...      0   \n",
       "2  hey man, i'm really not trying to edit war. it...      0   \n",
       "3  \"\\nmore\\ni can't make any real suggestions on ...      0   \n",
       "4  you, sir, are my hero. any chance you remember...      0   \n",
       "\n",
       "                                          clear_text  \\\n",
       "0  explanation why the edits made under my userna...   \n",
       "1  d aww he matches this background colour i m se...   \n",
       "2  hey man i m really not trying to edit war it s...   \n",
       "3  more i can t make any real suggestions on impr...   \n",
       "4  you sir are my hero any chance you remember wh...   \n",
       "\n",
       "                                           lemm_text  \n",
       "0  explanation why the edit make under my usernam...  \n",
       "1  d aww he match this background colour I m seem...  \n",
       "2  hey man I m really not try to edit war it s ju...  \n",
       "3  more I can t make any real suggestion on impro...  \n",
       "4  you sir be my hero any chance you remember wha...  "
      ]
     },
     "execution_count": 235,
     "metadata": {},
     "output_type": "execute_result"
    }
   ],
   "source": [
    "data['lemm_text'] = lemm_text\n",
    "data.head()"
   ]
  },
  {
   "cell_type": "markdown",
   "metadata": {},
   "source": [
    "### Проведем частотный анализ текста"
   ]
  },
  {
   "cell_type": "code",
   "execution_count": 239,
   "metadata": {},
   "outputs": [
    {
     "data": {
      "text/plain": [
       "0         explanation why the edit make under my usernam...\n",
       "1         d aww he match this background colour I m seem...\n",
       "2         hey man I m really not try to edit war it s ju...\n",
       "3         more I can t make any real suggestion on impro...\n",
       "4         you sir be my hero any chance you remember wha...\n",
       "                                ...                        \n",
       "159446    and for the second time of ask when your view ...\n",
       "159447    you should be ashamed of yourself that be a ho...\n",
       "159448    spitzer umm there s no actual article for pros...\n",
       "159449    and it look like it be actually you who put on...\n",
       "159450    and I really don t think you understand I come...\n",
       "Name: lemm_text, Length: 159292, dtype: object"
      ]
     },
     "execution_count": 239,
     "metadata": {},
     "output_type": "execute_result"
    }
   ],
   "source": [
    "#count_vect = CountVectorizer()\n",
    "stop_words = set(stopwords.words('english'))\n",
    "\n",
    "corpus = data['lemm_text']\n",
    "\n",
    "#corpus = list(corpus)\n",
    "\n",
    "corpus"
   ]
  },
  {
   "cell_type": "code",
   "execution_count": 240,
   "metadata": {},
   "outputs": [],
   "source": [
    "list_for_count = []\n",
    "for sentance in corpus:\n",
    "    words_list = sentance.split()\n",
    "    final_list = [word for word in words_list if word not in stop_words]\n",
    "    final_string = ' '.join(final_list)\n",
    "    list_for_count.append(final_string)"
   ]
  },
  {
   "cell_type": "code",
   "execution_count": 241,
   "metadata": {
    "tags": []
   },
   "outputs": [
    {
     "name": "stderr",
     "output_type": "stream",
     "text": [
      "[nltk_data] Downloading package punkt to\n",
      "[nltk_data]     C:\\Users\\User\\AppData\\Roaming\\nltk_data...\n",
      "[nltk_data]   Package punkt is already up-to-date!\n"
     ]
    }
   ],
   "source": [
    "nltk.download('punkt')\n",
    "text_tokens = word_tokenize(str(list_for_count))"
   ]
  },
  {
   "cell_type": "code",
   "execution_count": 242,
   "metadata": {},
   "outputs": [
    {
     "data": {
      "text/plain": [
       "FreqDist({'I': 278277, \"'\": 178055, ',': 159291, 'article': 73271, 'page': 56667, 'wikipedia': 47744, 'talk': 39867, 'edit': 36198, 'use': 32886, 'one': 30068, ...})"
      ]
     },
     "execution_count": 242,
     "metadata": {},
     "output_type": "execute_result"
    }
   ],
   "source": [
    "text = nltk.Text(text_tokens)\n",
    "fdist = FreqDist(text)\n",
    "fdist"
   ]
  },
  {
   "cell_type": "markdown",
   "metadata": {},
   "source": [
    "Определим 20 наиболее часто встречающихся слов и визулизируем их"
   ]
  },
  {
   "cell_type": "code",
   "execution_count": 243,
   "metadata": {},
   "outputs": [
    {
     "data": {
      "text/plain": [
       "[('I', 278277),\n",
       " (\"'\", 178055),\n",
       " (',', 159291),\n",
       " ('article', 73271),\n",
       " ('page', 56667),\n",
       " ('wikipedia', 47744),\n",
       " ('talk', 39867),\n",
       " ('edit', 36198),\n",
       " ('use', 32886),\n",
       " ('one', 30068),\n",
       " ('make', 30043),\n",
       " ('would', 28913),\n",
       " ('like', 28434),\n",
       " ('see', 26665),\n",
       " ('please', 26203),\n",
       " ('say', 24945),\n",
       " ('think', 24659),\n",
       " ('know', 23665),\n",
       " ('source', 22972),\n",
       " ('get', 22174)]"
      ]
     },
     "execution_count": 243,
     "metadata": {},
     "output_type": "execute_result"
    }
   ],
   "source": [
    "fdist.most_common(20)"
   ]
  },
  {
   "cell_type": "code",
   "execution_count": 244,
   "metadata": {},
   "outputs": [
    {
     "data": {
      "image/png": "[encoded data removed]",
      "text/plain": [
       "<Figure size 640x480 with 1 Axes>"
      ]
     },
     "metadata": {},
     "output_type": "display_data"
    },
    {
     "data": {
      "text/plain": [
       "<Axes: xlabel='Samples', ylabel='Counts'>"
      ]
     },
     "execution_count": 244,
     "metadata": {},
     "output_type": "execute_result"
    }
   ],
   "source": [
    "fdist.plot(40,cumulative=False)"
   ]
  },
  {
   "cell_type": "markdown",
   "metadata": {},
   "source": [
    "Визуализируем популярные слова в виде облака слов"
   ]
  },
  {
   "cell_type": "code",
   "execution_count": 245,
   "metadata": {},
   "outputs": [],
   "source": [
    "%matplotlib inline"
   ]
  },
  {
   "cell_type": "code",
   "execution_count": 246,
   "metadata": {},
   "outputs": [],
   "source": [
    "text_raw = \" \".join(text)"
   ]
  },
  {
   "cell_type": "code",
   "execution_count": 247,
   "metadata": {},
   "outputs": [],
   "source": [
    "wordcloud = WordCloud().generate(str(text_tokens))"
   ]
  },
  {
   "cell_type": "code",
   "execution_count": 248,
   "metadata": {},
   "outputs": [
    {
     "data": {
      "text/plain": [
       "<matplotlib.image.AxesImage at 0x1d1a230ce80>"
      ]
     },
     "execution_count": 248,
     "metadata": {},
     "output_type": "execute_result"
    },
    {
     "data": {
      "image/png": "[encoded data removed]",
      "text/plain": [
       "<Figure size 640x480 with 1 Axes>"
      ]
     },
     "metadata": {},
     "output_type": "display_data"
    }
   ],
   "source": [
    "plt.imshow(wordcloud)"
   ]
  },
  {
   "cell_type": "markdown",
   "metadata": {},
   "source": [
    "### Разделим данные на выборки, учитывая дисбаланс"
   ]
  },
  {
   "cell_type": "code",
   "execution_count": 251,
   "metadata": {},
   "outputs": [],
   "source": [
    "train, test = train_test_split(data, train_size=0.80, random_state=12345, stratify=data['toxic'])"
   ]
  },
  {
   "cell_type": "code",
   "execution_count": 252,
   "metadata": {},
   "outputs": [
    {
     "name": "stdout",
     "output_type": "stream",
     "text": [
      "(127433, 4)\n",
      "(31859, 4)\n"
     ]
    }
   ],
   "source": [
    "i = train, test\n",
    "for x in i:\n",
    "    print(x.shape)"
   ]
  },
  {
   "cell_type": "code",
   "execution_count": 253,
   "metadata": {},
   "outputs": [],
   "source": [
    "toxic_train = test['toxic'].value_counts()\n",
    "train_balance = pd.DataFrame(toxic_train)"
   ]
  },
  {
   "cell_type": "code",
   "execution_count": 254,
   "metadata": {},
   "outputs": [
    {
     "data": {
      "text/plain": [
       "10.161213369158526"
      ]
     },
     "execution_count": 254,
     "metadata": {},
     "output_type": "execute_result"
    }
   ],
   "source": [
    "toxic_train_rate = data_balance[1]*100/(data_balance[0]+data_balance[1])\n",
    "toxic_train_rate"
   ]
  },
  {
   "cell_type": "markdown",
   "metadata": {},
   "source": [
    "Дисбаланс в выборках равен дисбалансу в исходных данных"
   ]
  },
  {
   "cell_type": "markdown",
   "metadata": {},
   "source": [
    "### Вычислим TF-IDF для тренировочной и тестовой выборок"
   ]
  },
  {
   "cell_type": "code",
   "execution_count": 255,
   "metadata": {},
   "outputs": [],
   "source": [
    "stop_words = set(stopwords.words('english'))\n",
    "st = list(stop_words)"
   ]
  },
  {
   "cell_type": "code",
   "execution_count": 256,
   "metadata": {},
   "outputs": [],
   "source": [
    "count_tf_idf = TfidfVectorizer(stop_words=st) \n",
    "tf_idf_train = count_tf_idf.fit_transform(train['lemm_text']) "
   ]
  },
  {
   "cell_type": "code",
   "execution_count": 257,
   "metadata": {},
   "outputs": [
    {
     "data": {
      "text/plain": [
       "(127433, 132996)"
      ]
     },
     "execution_count": 257,
     "metadata": {},
     "output_type": "execute_result"
    }
   ],
   "source": [
    "tf_idf_train.shape"
   ]
  },
  {
   "cell_type": "code",
   "execution_count": 258,
   "metadata": {},
   "outputs": [
    {
     "data": {
      "text/plain": [
       "(31859, 132996)"
      ]
     },
     "execution_count": 258,
     "metadata": {},
     "output_type": "execute_result"
    }
   ],
   "source": [
    "tf_idf_test = count_tf_idf.transform(test['lemm_text']) \n",
    "tf_idf_test.shape"
   ]
  },
  {
   "cell_type": "markdown",
   "metadata": {},
   "source": [
    "### Определим целевой признак"
   ]
  },
  {
   "cell_type": "code",
   "execution_count": 259,
   "metadata": {
    "tags": []
   },
   "outputs": [],
   "source": [
    "features_train = tf_idf_train\n",
    "features_test = tf_idf_test\n",
    "\n",
    "target_train = train['toxic']\n",
    "target_test = test['toxic']"
   ]
  },
  {
   "cell_type": "markdown",
   "metadata": {},
   "source": [
    "## Обучение"
   ]
  },
  {
   "cell_type": "markdown",
   "metadata": {},
   "source": [
    "### Обучим модель логистическая регрессия"
   ]
  },
  {
   "cell_type": "code",
   "execution_count": 260,
   "metadata": {},
   "outputs": [],
   "source": [
    "#f1_scorer = make_scorer(f1_score)\n",
    "pipe = make_pipeline(StandardScaler(with_mean=False), \n",
    "                     LogisticRegression(max_iter=200, solver='liblinear', class_weight='balanced'))\n",
    "model_lr = pipe.fit(features_train, target_train)\n",
    "prediction_lr = model_lr.predict(features_test)\n",
    "f1_lr = f1_score(target_test, prediction_lr)"
   ]
  },
  {
   "cell_type": "code",
   "execution_count": 261,
   "metadata": {},
   "outputs": [
    {
     "data": {
      "text/plain": [
       "0.6354617856643846"
      ]
     },
     "execution_count": 261,
     "metadata": {},
     "output_type": "execute_result"
    }
   ],
   "source": [
    "f1_lr"
   ]
  },
  {
   "cell_type": "markdown",
   "metadata": {},
   "source": [
    "Таким образом, метрика качества модели составляет 0,63, попробуем автоматически подобрать гиперпараметры и проверим, улучшит ли это результат."
   ]
  },
  {
   "cell_type": "code",
   "execution_count": 262,
   "metadata": {},
   "outputs": [],
   "source": [
    "f1_scorer = make_scorer(f1_score)"
   ]
  },
  {
   "cell_type": "code",
   "execution_count": 263,
   "metadata": {
    "collapsed": true,
    "jupyter": {
     "outputs_hidden": true
    }
   },
   "outputs": [
    {
     "name": "stderr",
     "output_type": "stream",
     "text": [
      "C:\\ProgramData\\anaconda3\\lib\\site-packages\\sklearn\\model_selection\\_validation.py:378: FitFailedWarning: \n",
      "54 fits failed out of a total of 60.\n",
      "The score on these train-test partitions for these parameters will be set to nan.\n",
      "If these failures are not expected, you can try to debug them by setting error_score='raise'.\n",
      "\n",
      "Below are more details about the failures:\n",
      "--------------------------------------------------------------------------------\n",
      "27 fits failed with the following error:\n",
      "Traceback (most recent call last):\n",
      "  File \"C:\\ProgramData\\anaconda3\\lib\\site-packages\\sklearn\\model_selection\\_validation.py\", line 686, in _fit_and_score\n",
      "    estimator.fit(X_train, y_train, **fit_params)\n",
      "  File \"C:\\ProgramData\\anaconda3\\lib\\site-packages\\sklearn\\linear_model\\_logistic.py\", line 1160, in fit\n",
      "    self._validate_params()\n",
      "  File \"C:\\ProgramData\\anaconda3\\lib\\site-packages\\sklearn\\base.py\", line 581, in _validate_params\n",
      "    validate_parameter_constraints(\n",
      "  File \"C:\\ProgramData\\anaconda3\\lib\\site-packages\\sklearn\\utils\\_param_validation.py\", line 97, in validate_parameter_constraints\n",
      "    raise InvalidParameterError(\n",
      "sklearn.utils._param_validation.InvalidParameterError: The 'class_weight' parameter of LogisticRegression must be an instance of 'dict', a str among {'balanced'} or None. Got 1 instead.\n",
      "\n",
      "--------------------------------------------------------------------------------\n",
      "18 fits failed with the following error:\n",
      "Traceback (most recent call last):\n",
      "  File \"C:\\ProgramData\\anaconda3\\lib\\site-packages\\sklearn\\model_selection\\_validation.py\", line 686, in _fit_and_score\n",
      "    estimator.fit(X_train, y_train, **fit_params)\n",
      "  File \"C:\\ProgramData\\anaconda3\\lib\\site-packages\\sklearn\\linear_model\\_logistic.py\", line 1162, in fit\n",
      "    solver = _check_solver(self.solver, self.penalty, self.dual)\n",
      "  File \"C:\\ProgramData\\anaconda3\\lib\\site-packages\\sklearn\\linear_model\\_logistic.py\", line 54, in _check_solver\n",
      "    raise ValueError(\n",
      "ValueError: Solver lbfgs supports only 'l2' or 'none' penalties, got elasticnet penalty.\n",
      "\n",
      "--------------------------------------------------------------------------------\n",
      "9 fits failed with the following error:\n",
      "Traceback (most recent call last):\n",
      "  File \"C:\\ProgramData\\anaconda3\\lib\\site-packages\\sklearn\\model_selection\\_validation.py\", line 686, in _fit_and_score\n",
      "    estimator.fit(X_train, y_train, **fit_params)\n",
      "  File \"C:\\ProgramData\\anaconda3\\lib\\site-packages\\sklearn\\linear_model\\_logistic.py\", line 1162, in fit\n",
      "    solver = _check_solver(self.solver, self.penalty, self.dual)\n",
      "  File \"C:\\ProgramData\\anaconda3\\lib\\site-packages\\sklearn\\linear_model\\_logistic.py\", line 54, in _check_solver\n",
      "    raise ValueError(\n",
      "ValueError: Solver lbfgs supports only 'l2' or 'none' penalties, got l1 penalty.\n",
      "\n",
      "  warnings.warn(some_fits_failed_message, FitFailedWarning)\n",
      "C:\\ProgramData\\anaconda3\\lib\\site-packages\\sklearn\\model_selection\\_search.py:952: UserWarning: One or more of the test scores are non-finite: [       nan        nan        nan 0.76575618        nan        nan\n",
      "        nan        nan        nan        nan        nan        nan\n",
      "        nan        nan        nan        nan 0.75151719        nan\n",
      "        nan        nan]\n",
      "  warnings.warn(\n"
     ]
    },
    {
     "name": "stdout",
     "output_type": "stream",
     "text": [
      "CPU times: total: 33.2 s\n",
      "Wall time: 45.5 s\n"
     ]
    },
    {
     "name": "stderr",
     "output_type": "stream",
     "text": [
      "C:\\ProgramData\\anaconda3\\lib\\site-packages\\sklearn\\linear_model\\_logistic.py:458: ConvergenceWarning: lbfgs failed to converge (status=1):\n",
      "STOP: TOTAL NO. of ITERATIONS REACHED LIMIT.\n",
      "\n",
      "Increase the number of iterations (max_iter) or scale the data as shown in:\n",
      "    https://scikit-learn.org/stable/modules/preprocessing.html\n",
      "Please also refer to the documentation for alternative solver options:\n",
      "    https://scikit-learn.org/stable/modules/linear_model.html#logistic-regression\n",
      "  n_iter_i = _check_optimize_result(\n"
     ]
    }
   ],
   "source": [
    "%%time\n",
    "model = LogisticRegression(random_state = 12345)\n",
    "params_lr={'penalty': ['l1', 'l2', 'elasticnet', None],\n",
    "           'max_iter': [100, 200, 300],\n",
    "           #'multi_class' : ['auto', 'ovr', 'multinomial'],\n",
    "           #'solver': ['lbfgs', 'liblinear', 'newton-cg', 'newton-cholesky', 'sag', 'saga'],\n",
    "           'C': range(1, 10, 2),\n",
    "           'class_weight': [1, 'balanced']}\n",
    "\n",
    "lr = RandomizedSearchCV(model, params_lr, n_iter=20, scoring=f1_scorer, n_jobs=-1, cv=3)\n",
    "lr.fit(features_train, target_train)\n",
    "model_params= lr.best_estimator_"
   ]
  },
  {
   "cell_type": "code",
   "execution_count": 264,
   "metadata": {},
   "outputs": [
    {
     "data": {
      "text/html": [
       "<style>#sk-container-id-3 {color: black;background-color: white;}#sk-container-id-3 pre{padding: 0;}#sk-container-id-3 div.sk-toggleable {background-color: white;}#sk-container-id-3 label.sk-toggleable__label {cursor: pointer;display: block;width: 100%;margin-bottom: 0;padding: 0.3em;box-sizing: border-box;text-align: center;}#sk-container-id-3 label.sk-toggleable__label-arrow:before {content: \"▸\";float: left;margin-right: 0.25em;color: #696969;}#sk-container-id-3 label.sk-toggleable__label-arrow:hover:before {color: black;}#sk-container-id-3 div.sk-estimator:hover label.sk-toggleable__label-arrow:before {color: black;}#sk-container-id-3 div.sk-toggleable__content {max-height: 0;max-width: 0;overflow: hidden;text-align: left;background-color: #f0f8ff;}#sk-container-id-3 div.sk-toggleable__content pre {margin: 0.2em;color: black;border-radius: 0.25em;background-color: #f0f8ff;}#sk-container-id-3 input.sk-toggleable__control:checked~div.sk-toggleable__content {max-height: 200px;max-width: 100%;overflow: auto;}#sk-container-id-3 input.sk-toggleable__control:checked~label.sk-toggleable__label-arrow:before {content: \"▾\";}#sk-container-id-3 div.sk-estimator input.sk-toggleable__control:checked~label.sk-toggleable__label {background-color: #d4ebff;}#sk-container-id-3 div.sk-label input.sk-toggleable__control:checked~label.sk-toggleable__label {background-color: #d4ebff;}#sk-container-id-3 input.sk-hidden--visually {border: 0;clip: rect(1px 1px 1px 1px);clip: rect(1px, 1px, 1px, 1px);height: 1px;margin: -1px;overflow: hidden;padding: 0;position: absolute;width: 1px;}#sk-container-id-3 div.sk-estimator {font-family: monospace;background-color: #f0f8ff;border: 1px dotted black;border-radius: 0.25em;box-sizing: border-box;margin-bottom: 0.5em;}#sk-container-id-3 div.sk-estimator:hover {background-color: #d4ebff;}#sk-container-id-3 div.sk-parallel-item::after {content: \"\";width: 100%;border-bottom: 1px solid gray;flex-grow: 1;}#sk-container-id-3 div.sk-label:hover label.sk-toggleable__label {background-color: #d4ebff;}#sk-container-id-3 div.sk-serial::before {content: \"\";position: absolute;border-left: 1px solid gray;box-sizing: border-box;top: 0;bottom: 0;left: 50%;z-index: 0;}#sk-container-id-3 div.sk-serial {display: flex;flex-direction: column;align-items: center;background-color: white;padding-right: 0.2em;padding-left: 0.2em;position: relative;}#sk-container-id-3 div.sk-item {position: relative;z-index: 1;}#sk-container-id-3 div.sk-parallel {display: flex;align-items: stretch;justify-content: center;background-color: white;position: relative;}#sk-container-id-3 div.sk-item::before, #sk-container-id-3 div.sk-parallel-item::before {content: \"\";position: absolute;border-left: 1px solid gray;box-sizing: border-box;top: 0;bottom: 0;left: 50%;z-index: -1;}#sk-container-id-3 div.sk-parallel-item {display: flex;flex-direction: column;z-index: 1;position: relative;background-color: white;}#sk-container-id-3 div.sk-parallel-item:first-child::after {align-self: flex-end;width: 50%;}#sk-container-id-3 div.sk-parallel-item:last-child::after {align-self: flex-start;width: 50%;}#sk-container-id-3 div.sk-parallel-item:only-child::after {width: 0;}#sk-container-id-3 div.sk-dashed-wrapped {border: 1px dashed gray;margin: 0 0.4em 0.5em 0.4em;box-sizing: border-box;padding-bottom: 0.4em;background-color: white;}#sk-container-id-3 div.sk-label label {font-family: monospace;font-weight: bold;display: inline-block;line-height: 1.2em;}#sk-container-id-3 div.sk-label-container {text-align: center;}#sk-container-id-3 div.sk-container {/* jupyter's `normalize.less` sets `[hidden] { display: none; }` but bootstrap.min.css set `[hidden] { display: none !important; }` so we also need the `!important` here to be able to override the default hidden behavior on the sphinx rendered scikit-learn.org. See: https://github.com/scikit-learn/scikit-learn/issues/21755 */display: inline-block !important;position: relative;}#sk-container-id-3 div.sk-text-repr-fallback {display: none;}</style><div id=\"sk-container-id-3\" class=\"sk-top-container\"><div class=\"sk-text-repr-fallback\"><pre>LogisticRegression(C=7, class_weight=&#x27;balanced&#x27;, random_state=12345)</pre><b>In a Jupyter environment, please rerun this cell to show the HTML representation or trust the notebook. <br />On GitHub, the HTML representation is unable to render, please try loading this page with nbviewer.org.</b></div><div class=\"sk-container\" hidden><div class=\"sk-item\"><div class=\"sk-estimator sk-toggleable\"><input class=\"sk-toggleable__control sk-hidden--visually\" id=\"sk-estimator-id-3\" type=\"checkbox\" checked><label for=\"sk-estimator-id-3\" class=\"sk-toggleable__label sk-toggleable__label-arrow\">LogisticRegression</label><div class=\"sk-toggleable__content\"><pre>LogisticRegression(C=7, class_weight=&#x27;balanced&#x27;, random_state=12345)</pre></div></div></div></div></div>"
      ],
      "text/plain": [
       "LogisticRegression(C=7, class_weight='balanced', random_state=12345)"
      ]
     },
     "execution_count": 264,
     "metadata": {},
     "output_type": "execute_result"
    }
   ],
   "source": [
    "model_params"
   ]
  },
  {
   "cell_type": "code",
   "execution_count": 265,
   "metadata": {},
   "outputs": [
    {
     "data": {
      "text/plain": [
       "0.7657561847828837"
      ]
     },
     "execution_count": 265,
     "metadata": {},
     "output_type": "execute_result"
    }
   ],
   "source": [
    "f1 = lr.best_score_\n",
    "f1"
   ]
  },
  {
   "cell_type": "code",
   "execution_count": 266,
   "metadata": {},
   "outputs": [
    {
     "name": "stderr",
     "output_type": "stream",
     "text": [
      "C:\\ProgramData\\anaconda3\\lib\\site-packages\\sklearn\\model_selection\\_search.py:305: UserWarning: The total space of parameters 1 is smaller than n_iter=20. Running 1 iterations. For exhaustive searches, use GridSearchCV.\n",
      "  warnings.warn(\n"
     ]
    },
    {
     "name": "stdout",
     "output_type": "stream",
     "text": [
      "CPU times: total: 18.6 s\n",
      "Wall time: 11.9 s\n"
     ]
    },
    {
     "name": "stderr",
     "output_type": "stream",
     "text": [
      "C:\\ProgramData\\anaconda3\\lib\\site-packages\\sklearn\\linear_model\\_logistic.py:458: ConvergenceWarning: lbfgs failed to converge (status=1):\n",
      "STOP: TOTAL NO. of ITERATIONS REACHED LIMIT.\n",
      "\n",
      "Increase the number of iterations (max_iter) or scale the data as shown in:\n",
      "    https://scikit-learn.org/stable/modules/preprocessing.html\n",
      "Please also refer to the documentation for alternative solver options:\n",
      "    https://scikit-learn.org/stable/modules/linear_model.html#logistic-regression\n",
      "  n_iter_i = _check_optimize_result(\n"
     ]
    }
   ],
   "source": [
    "%%time\n",
    "params_lr1={#'max_iter': [100, 200, 300],\n",
    "           #'multi_class' : ['auto', 'ovr', 'multinomial'],\n",
    "           #'solver': ['lbfgs', 'liblinear', 'newton-cg', 'newton-cholesky', 'sag', 'saga'],\n",
    "           #'C': range(1, 10, 2),\n",
    "           #'class_weight': [1, 'balanced']\n",
    "}\n",
    "pipeline = make_pipeline(LogisticRegression())\n",
    "\n",
    "\n",
    "lr1 = RandomizedSearchCV(pipeline, params_lr1, n_iter=20, scoring=f1_scorer, n_jobs=-1, cv=3)\n",
    "lr1.fit(features_train, target_train)\n",
    "model_params1= lr1.best_estimator_"
   ]
  },
  {
   "cell_type": "code",
   "execution_count": 267,
   "metadata": {},
   "outputs": [
    {
     "data": {
      "text/plain": [
       "0.7126301058439489"
      ]
     },
     "execution_count": 267,
     "metadata": {},
     "output_type": "execute_result"
    }
   ],
   "source": [
    "f1 = lr1.best_score_\n",
    "f1"
   ]
  },
  {
   "cell_type": "markdown",
   "metadata": {},
   "source": [
    "Автоматический подбор гиперпараметров позволил улучшить метрику f1 до 0.766, что соответствует заявленным требованиям"
   ]
  },
  {
   "cell_type": "markdown",
   "metadata": {},
   "source": [
    "### Обучим модель CatBoostClassifier"
   ]
  },
  {
   "cell_type": "code",
   "execution_count": 269,
   "metadata": {},
   "outputs": [],
   "source": [
    "model_cbc = CatBoostClassifier(\n",
    "    iterations=300,\n",
    "    learning_rate=0.1,\n",
    "    custom_loss=['F1'],\n",
    "    auto_class_weights='Balanced'\n",
    ")"
   ]
  },
  {
   "cell_type": "code",
   "execution_count": 270,
   "metadata": {},
   "outputs": [
    {
     "data": {
      "application/vnd.jupyter.widget-view+json": {
       "model_id": "9facb29a57e647778b8405e3e2a8d336",
       "version_major": 2,
       "version_minor": 0
      },
      "text/plain": [
       "MetricVisualizer(layout=Layout(align_self='stretch', height='500px'))"
      ]
     },
     "metadata": {},
     "output_type": "display_data"
    },
    {
     "name": "stderr",
     "output_type": "stream",
     "text": [
      "You should provide test set for use best model. use_best_model parameter has been switched to false value.\n"
     ]
    },
    {
     "name": "stdout",
     "output_type": "stream",
     "text": [
      "Model params: {'iterations': 300, 'learning_rate': 0.1, 'auto_class_weights': 'Balanced', 'custom_loss': ['F1']}\n",
      "CPU times: total: 36min 28s\n",
      "Wall time: 6min 52s\n"
     ]
    }
   ],
   "source": [
    "%%time\n",
    "model_cbc.fit(features_train, target_train,\n",
    "          verbose=False,\n",
    "              plot=True,\n",
    "              use_best_model=True\n",
    "              \n",
    ")\n",
    "\n",
    "print(f\"Model params: {model_cbc.get_params()}\")"
   ]
  },
  {
   "cell_type": "code",
   "execution_count": 271,
   "metadata": {},
   "outputs": [
    {
     "data": {
      "text/plain": [
       "{'learn': {'F1:use_weights=false': 0.7739340305711988,\n",
       "  'Logloss': 0.2682594113528366,\n",
       "  'F1:use_weights=true': 0.9020088414140788}}"
      ]
     },
     "execution_count": 271,
     "metadata": {},
     "output_type": "execute_result"
    }
   ],
   "source": [
    "model_cbc.best_score_ "
   ]
  },
  {
   "cell_type": "markdown",
   "metadata": {},
   "source": [
    "Таким образом, лучший параметр f1 для модели CatBoostClassifier - 0.90"
   ]
  },
  {
   "cell_type": "markdown",
   "metadata": {},
   "source": [
    "Протеститруем модель, показавшую дучшую метрику качества F1"
   ]
  },
  {
   "cell_type": "code",
   "execution_count": 279,
   "metadata": {},
   "outputs": [],
   "source": [
    "predictions_test_cbc = model_cbc.predict(features_test)"
   ]
  },
  {
   "cell_type": "code",
   "execution_count": 280,
   "metadata": {},
   "outputs": [
    {
     "data": {
      "text/plain": [
       "0.750561797752809"
      ]
     },
     "execution_count": 280,
     "metadata": {},
     "output_type": "execute_result"
    }
   ],
   "source": [
    "f1 = f1_score(target_test, predictions_test_cbc)\n",
    "f1"
   ]
  },
  {
   "cell_type": "markdown",
   "metadata": {},
   "source": [
    "## Выводы"
   ]
  },
  {
   "cell_type": "markdown",
   "metadata": {},
   "source": [
    "Таким образом, по итогам проделанной работы мы можем сделать следующие выводы:\n",
    "\n",
    "- пропусков не обнаружено, типы данных соответсвуют заявленным, удален неинформативный столбец;\n",
    "- данные несбалансированы: 10 процентов приходится на токсичные комментарии;\n",
    "- текст очищен и лемматизирован, проведен частотный анализ текста;\n",
    "- данные разделены на выборки и опреден целевой признак,\n",
    "- вычислен TF-IDF для тренировочной и тестовой выборок,\n",
    "- обучены модели логистическая регрессия и CatBoostClassifier;\n",
    "- лучший результат метрики f1 для Логистической регрессии - 0,766, для CatBoostClassifier - 0.90, время подсчета - 14 и 25 минут соответсвенно.\n",
    "\n",
    "Проверка модели на тестовых данных показала результат метрики f1 - 0.75, что соответсвует заявленным требованиям\n",
    "\n",
    "Таким образом, применение модели CatBoostClassifier на основе метода оценки важности слов TF-IDF может быть рекомендована для поиска токсичных комментариев в проекте Викишоп."
   ]
  }
 ],
 "metadata": {
  "ExecuteTimeLog": [
   {
    "duration": 1326,
    "start_time": "2023-03-26T18:27:10.817Z"
   },
   {
    "duration": 162,
    "start_time": "2023-03-26T18:28:43.735Z"
   },
   {
    "duration": 3818,
    "start_time": "2023-03-26T18:29:05.192Z"
   },
   {
    "duration": 13,
    "start_time": "2023-03-26T18:29:20.510Z"
   },
   {
    "duration": 32,
    "start_time": "2023-03-26T18:29:56.222Z"
   },
   {
    "duration": 9,
    "start_time": "2023-03-26T18:32:20.036Z"
   },
   {
    "duration": 8,
    "start_time": "2023-03-26T18:32:40.687Z"
   },
   {
    "duration": 21,
    "start_time": "2023-03-26T18:32:56.342Z"
   },
   {
    "duration": 770,
    "start_time": "2023-03-26T18:33:30.343Z"
   },
   {
    "duration": 834,
    "start_time": "2023-03-26T18:33:38.824Z"
   },
   {
    "duration": 12,
    "start_time": "2023-03-26T18:33:59.180Z"
   },
   {
    "duration": 17,
    "start_time": "2023-03-26T18:34:10.823Z"
   },
   {
    "duration": 14,
    "start_time": "2023-03-26T18:37:23.375Z"
   },
   {
    "duration": 25,
    "start_time": "2023-03-26T18:37:35.487Z"
   },
   {
    "duration": 13,
    "start_time": "2023-03-26T18:38:43.328Z"
   },
   {
    "duration": 13,
    "start_time": "2023-03-26T18:38:47.268Z"
   },
   {
    "duration": 13,
    "start_time": "2023-03-26T18:38:52.966Z"
   },
   {
    "duration": 12,
    "start_time": "2023-03-26T18:38:57.567Z"
   },
   {
    "duration": 13,
    "start_time": "2023-03-26T18:39:28.648Z"
   },
   {
    "duration": 13,
    "start_time": "2023-03-26T18:39:37.776Z"
   },
   {
    "duration": 57,
    "start_time": "2023-03-26T18:43:18.755Z"
   },
   {
    "duration": 46,
    "start_time": "2023-03-26T18:43:45.069Z"
   },
   {
    "duration": 9,
    "start_time": "2023-03-26T18:43:50.854Z"
   },
   {
    "duration": 16,
    "start_time": "2023-03-26T18:44:17.394Z"
   },
   {
    "duration": 12,
    "start_time": "2023-03-26T18:44:33.505Z"
   },
   {
    "duration": 14,
    "start_time": "2023-03-26T18:45:16.008Z"
   },
   {
    "duration": 3,
    "start_time": "2023-03-26T18:45:20.833Z"
   },
   {
    "duration": 814,
    "start_time": "2023-03-26T18:45:20.838Z"
   },
   {
    "duration": 8,
    "start_time": "2023-03-26T18:45:21.654Z"
   },
   {
    "duration": 34,
    "start_time": "2023-03-26T18:45:21.664Z"
   },
   {
    "duration": 10,
    "start_time": "2023-03-26T18:45:24.000Z"
   },
   {
    "duration": 12,
    "start_time": "2023-03-26T18:45:30.856Z"
   },
   {
    "duration": 13,
    "start_time": "2023-03-26T18:45:35.472Z"
   },
   {
    "duration": 3,
    "start_time": "2023-03-26T18:45:38.681Z"
   },
   {
    "duration": 850,
    "start_time": "2023-03-26T18:45:38.685Z"
   },
   {
    "duration": 7,
    "start_time": "2023-03-26T18:45:39.537Z"
   },
   {
    "duration": 35,
    "start_time": "2023-03-26T18:45:39.546Z"
   },
   {
    "duration": 10,
    "start_time": "2023-03-26T18:45:39.584Z"
   },
   {
    "duration": 12,
    "start_time": "2023-03-26T18:45:43.205Z"
   },
   {
    "duration": 6,
    "start_time": "2023-03-26T18:45:50.855Z"
   },
   {
    "duration": 841,
    "start_time": "2023-03-26T18:45:50.863Z"
   },
   {
    "duration": 15,
    "start_time": "2023-03-26T18:45:51.705Z"
   },
   {
    "duration": 54,
    "start_time": "2023-03-26T18:45:51.723Z"
   },
   {
    "duration": 11,
    "start_time": "2023-03-26T18:45:51.779Z"
   },
   {
    "duration": 7,
    "start_time": "2023-03-26T18:46:03.431Z"
   },
   {
    "duration": 56,
    "start_time": "2023-03-27T13:21:54.462Z"
   },
   {
    "duration": 1616,
    "start_time": "2023-03-27T13:21:59.458Z"
   },
   {
    "duration": 2827,
    "start_time": "2023-03-27T13:22:01.076Z"
   },
   {
    "duration": 15,
    "start_time": "2023-03-27T13:22:03.905Z"
   },
   {
    "duration": 34,
    "start_time": "2023-03-27T13:22:03.922Z"
   },
   {
    "duration": 11,
    "start_time": "2023-03-27T13:22:03.958Z"
   },
   {
    "duration": 9,
    "start_time": "2023-03-27T13:22:03.986Z"
   },
   {
    "duration": 10,
    "start_time": "2023-03-27T13:22:08.529Z"
   },
   {
    "duration": 65,
    "start_time": "2023-03-27T13:23:29.769Z"
   },
   {
    "duration": 4,
    "start_time": "2023-03-27T13:24:19.498Z"
   },
   {
    "duration": 38,
    "start_time": "2023-03-27T13:24:32.313Z"
   },
   {
    "duration": 5,
    "start_time": "2023-03-27T13:24:48.506Z"
   },
   {
    "duration": 4,
    "start_time": "2023-03-27T13:24:58.560Z"
   },
   {
    "duration": 29,
    "start_time": "2023-03-27T14:10:50.417Z"
   },
   {
    "duration": 31,
    "start_time": "2023-03-27T14:10:55.437Z"
   },
   {
    "duration": 107,
    "start_time": "2023-03-27T14:11:14.540Z"
   },
   {
    "duration": 29,
    "start_time": "2023-03-27T14:11:24.954Z"
   },
   {
    "duration": 25,
    "start_time": "2023-03-27T14:11:25.617Z"
   },
   {
    "duration": 4,
    "start_time": "2023-03-27T14:11:32.834Z"
   },
   {
    "duration": 17,
    "start_time": "2023-03-27T14:11:33.707Z"
   },
   {
    "duration": 39,
    "start_time": "2023-03-27T14:11:54.262Z"
   },
   {
    "duration": 22,
    "start_time": "2023-03-27T14:11:55.884Z"
   },
   {
    "duration": 30,
    "start_time": "2023-03-27T14:57:19.122Z"
   },
   {
    "duration": 22,
    "start_time": "2023-03-27T14:57:22.795Z"
   },
   {
    "duration": 27,
    "start_time": "2023-03-27T14:57:56.543Z"
   },
   {
    "duration": 863,
    "start_time": "2023-03-27T14:57:56.572Z"
   },
   {
    "duration": 7,
    "start_time": "2023-03-27T14:57:57.437Z"
   },
   {
    "duration": 43,
    "start_time": "2023-03-27T14:57:57.446Z"
   },
   {
    "duration": 10,
    "start_time": "2023-03-27T14:57:57.491Z"
   },
   {
    "duration": 14,
    "start_time": "2023-03-27T14:57:57.503Z"
   },
   {
    "duration": 47,
    "start_time": "2023-03-27T14:57:57.519Z"
   },
   {
    "duration": 18,
    "start_time": "2023-03-27T14:57:57.568Z"
   },
   {
    "duration": 0,
    "start_time": "2023-03-27T14:57:57.587Z"
   },
   {
    "duration": 0,
    "start_time": "2023-03-27T14:57:57.589Z"
   },
   {
    "duration": 0,
    "start_time": "2023-03-27T14:57:57.590Z"
   },
   {
    "duration": 4,
    "start_time": "2023-03-27T15:00:19.012Z"
   },
   {
    "duration": 16,
    "start_time": "2023-03-27T15:00:20.795Z"
   },
   {
    "duration": 11,
    "start_time": "2023-03-27T16:08:37.441Z"
   },
   {
    "duration": 15,
    "start_time": "2023-03-27T16:08:57.921Z"
   },
   {
    "duration": 3,
    "start_time": "2023-03-27T16:09:03.416Z"
   },
   {
    "duration": 264042,
    "start_time": "2023-03-27T16:09:21.083Z"
   },
   {
    "duration": 11302,
    "start_time": "2023-03-27T16:18:08.130Z"
   },
   {
    "duration": 3,
    "start_time": "2023-03-27T16:18:35.790Z"
   },
   {
    "duration": 4,
    "start_time": "2023-03-27T16:18:37.988Z"
   },
   {
    "duration": 2464,
    "start_time": "2023-03-27T16:18:56.523Z"
   },
   {
    "duration": 3190,
    "start_time": "2023-03-27T16:20:13.763Z"
   },
   {
    "duration": 100,
    "start_time": "2023-03-27T16:20:45.479Z"
   },
   {
    "duration": 114,
    "start_time": "2023-03-27T16:21:13.875Z"
   },
   {
    "duration": 19,
    "start_time": "2023-03-27T16:21:24.884Z"
   },
   {
    "duration": 23,
    "start_time": "2023-03-27T16:21:38.804Z"
   },
   {
    "duration": 49,
    "start_time": "2023-03-27T16:22:19.341Z"
   },
   {
    "duration": 45,
    "start_time": "2023-03-27T16:23:52.827Z"
   },
   {
    "duration": 66,
    "start_time": "2023-03-27T16:24:12.689Z"
   },
   {
    "duration": 110444,
    "start_time": "2023-03-27T16:31:42.428Z"
   },
   {
    "duration": 511,
    "start_time": "2023-03-27T16:33:50.908Z"
   },
   {
    "duration": 0,
    "start_time": "2023-03-27T16:34:39.070Z"
   },
   {
    "duration": 11934,
    "start_time": "2023-03-27T16:38:20.489Z"
   },
   {
    "duration": 3,
    "start_time": "2023-03-27T16:38:45.944Z"
   },
   {
    "duration": 153598,
    "start_time": "2023-03-27T16:39:11.653Z"
   },
   {
    "duration": 67,
    "start_time": "2023-03-27T16:43:49.911Z"
   },
   {
    "duration": 213,
    "start_time": "2023-03-27T16:44:11.653Z"
   },
   {
    "duration": 11546,
    "start_time": "2023-03-27T16:45:09.392Z"
   },
   {
    "duration": 116,
    "start_time": "2023-03-27T16:45:27.151Z"
   },
   {
    "duration": 10700,
    "start_time": "2023-03-27T16:45:38.030Z"
   },
   {
    "duration": 168,
    "start_time": "2023-03-27T16:45:52.091Z"
   },
   {
    "duration": 277012,
    "start_time": "2023-03-27T16:46:38.695Z"
   },
   {
    "duration": 65,
    "start_time": "2023-03-27T16:52:17.590Z"
   },
   {
    "duration": 18,
    "start_time": "2023-03-27T16:52:24.727Z"
   },
   {
    "duration": 1613,
    "start_time": "2023-03-27T16:52:55.951Z"
   },
   {
    "duration": 6,
    "start_time": "2023-03-27T16:53:08.159Z"
   },
   {
    "duration": 12,
    "start_time": "2023-03-27T16:53:37.895Z"
   },
   {
    "duration": 1026611,
    "start_time": "2023-03-27T16:53:59.233Z"
   },
   {
    "duration": 28,
    "start_time": "2023-03-27T17:14:20.024Z"
   },
   {
    "duration": 36,
    "start_time": "2023-03-27T17:14:28.200Z"
   },
   {
    "duration": 5,
    "start_time": "2023-03-27T17:16:21.297Z"
   },
   {
    "duration": 6,
    "start_time": "2023-03-27T17:16:22.753Z"
   },
   {
    "duration": 5,
    "start_time": "2023-03-27T17:16:23.993Z"
   },
   {
    "duration": 3,
    "start_time": "2023-03-27T17:17:46.512Z"
   },
   {
    "duration": 12675,
    "start_time": "2023-03-27T17:30:31.327Z"
   },
   {
    "duration": 217,
    "start_time": "2023-03-27T17:30:57.209Z"
   },
   {
    "duration": 12748,
    "start_time": "2023-03-27T17:32:52.879Z"
   },
   {
    "duration": 143,
    "start_time": "2023-03-27T17:33:27.625Z"
   },
   {
    "duration": 126,
    "start_time": "2023-03-27T17:33:28.841Z"
   },
   {
    "duration": 9,
    "start_time": "2023-03-27T17:33:42.496Z"
   },
   {
    "duration": 4,
    "start_time": "2023-03-27T17:34:21.083Z"
   },
   {
    "duration": 10149,
    "start_time": "2023-03-27T17:34:27.402Z"
   },
   {
    "duration": 4,
    "start_time": "2023-03-27T17:34:37.553Z"
   },
   {
    "duration": 2476,
    "start_time": "2023-03-27T17:34:37.559Z"
   },
   {
    "duration": 11,
    "start_time": "2023-03-27T17:34:40.898Z"
   },
   {
    "duration": 34,
    "start_time": "2023-03-27T17:34:42.531Z"
   },
   {
    "duration": 11,
    "start_time": "2023-03-27T17:34:45.192Z"
   },
   {
    "duration": 6,
    "start_time": "2023-03-27T17:34:47.705Z"
   },
   {
    "duration": 6,
    "start_time": "2023-03-27T17:34:49.585Z"
   },
   {
    "duration": 5,
    "start_time": "2023-03-27T17:34:51.689Z"
   },
   {
    "duration": 5,
    "start_time": "2023-03-27T17:34:55.080Z"
   },
   {
    "duration": 4,
    "start_time": "2023-03-27T17:34:59.346Z"
   },
   {
    "duration": 5,
    "start_time": "2023-03-27T17:35:00.482Z"
   },
   {
    "duration": 2383,
    "start_time": "2023-03-27T17:35:01.393Z"
   },
   {
    "duration": 14,
    "start_time": "2023-03-27T17:35:06.313Z"
   },
   {
    "duration": 4091,
    "start_time": "2023-03-30T19:40:17.543Z"
   },
   {
    "duration": 764,
    "start_time": "2023-03-30T19:40:32.073Z"
   },
   {
    "duration": 49,
    "start_time": "2023-03-30T19:40:46.212Z"
   },
   {
    "duration": 17,
    "start_time": "2023-03-30T19:44:49.705Z"
   },
   {
    "duration": 11116,
    "start_time": "2023-03-30T20:34:38.503Z"
   },
   {
    "duration": 2296,
    "start_time": "2023-03-30T20:34:49.621Z"
   },
   {
    "duration": 74323,
    "start_time": "2023-03-30T20:34:51.919Z"
   },
   {
    "duration": 3376,
    "start_time": "2023-03-30T20:36:06.245Z"
   },
   {
    "duration": 10283,
    "start_time": "2023-03-30T20:37:43.206Z"
   },
   {
    "duration": 2353,
    "start_time": "2023-03-30T20:37:53.492Z"
   },
   {
    "duration": 11938,
    "start_time": "2023-03-30T20:37:55.847Z"
   },
   {
    "duration": 6,
    "start_time": "2023-03-30T20:38:07.788Z"
   },
   {
    "duration": 6,
    "start_time": "2023-03-30T20:38:07.795Z"
   },
   {
    "duration": 5,
    "start_time": "2023-03-30T20:38:07.803Z"
   },
   {
    "duration": 3533,
    "start_time": "2023-03-30T20:38:07.809Z"
   },
   {
    "duration": 25,
    "start_time": "2023-03-30T20:38:11.344Z"
   },
   {
    "duration": 42,
    "start_time": "2023-03-30T20:38:11.371Z"
   },
   {
    "duration": 3,
    "start_time": "2023-03-30T20:38:11.416Z"
   },
   {
    "duration": 42,
    "start_time": "2023-03-30T20:38:11.421Z"
   },
   {
    "duration": 6,
    "start_time": "2023-03-30T20:38:11.466Z"
   },
   {
    "duration": 9,
    "start_time": "2023-03-30T20:38:11.474Z"
   },
   {
    "duration": 6,
    "start_time": "2023-03-30T20:38:11.485Z"
   },
   {
    "duration": 282,
    "start_time": "2023-03-30T20:39:17.679Z"
   },
   {
    "duration": 4,
    "start_time": "2023-03-30T20:39:19.022Z"
   },
   {
    "duration": 3,
    "start_time": "2023-03-30T20:39:20.395Z"
   },
   {
    "duration": 2110,
    "start_time": "2023-03-30T20:39:21.346Z"
   },
   {
    "duration": 4,
    "start_time": "2023-03-30T20:39:38.631Z"
   },
   {
    "duration": 4,
    "start_time": "2023-03-30T20:39:41.552Z"
   },
   {
    "duration": 487882,
    "start_time": "2023-03-30T20:39:45.243Z"
   }
  ],
  "kernelspec": {
   "display_name": "Python 3 (ipykernel)",
   "language": "python",
   "name": "python3"
  },
  "language_info": {
   "codemirror_mode": {
    "name": "ipython",
    "version": 3
   },
   "file_extension": ".py",
   "mimetype": "text/x-python",
   "name": "python",
   "nbconvert_exporter": "python",
   "pygments_lexer": "ipython3",
   "version": "3.10.10"
  },
  "toc": {
   "base_numbering": 1,
   "nav_menu": {},
   "number_sections": true,
   "sideBar": true,
   "skip_h1_title": true,
   "title_cell": "Содержание",
   "title_sidebar": "Contents",
   "toc_cell": true,
   "toc_position": {
    "height": "calc(100% - 180px)",
    "left": "10px",
    "top": "150px",
    "width": "444.788px"
   },
   "toc_section_display": true,
   "toc_window_display": true
  }
 },
 "nbformat": 4,
 "nbformat_minor": 4
}
